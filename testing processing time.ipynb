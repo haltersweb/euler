{
 "cells": [
  {
   "cell_type": "code",
   "execution_count": 39,
   "id": "5a6a56cd",
   "metadata": {},
   "outputs": [],
   "source": [
    "def test_time(func_to_test, any_params=(), num_times_to_run=5):\n",
    "    import time\n",
    "    start = time.time()\n",
    "\n",
    "    for i in range(num_times_to_run):\n",
    "        results = func_to_test(*any_params)\n",
    "\n",
    "    end = time.time()\n",
    "    print(results)\n",
    "    return str((end - start) * 10**3 / num_times_to_run) + \"ms\""
   ]
  },
  {
   "cell_type": "code",
   "execution_count": 40,
   "id": "d05fdd68",
   "metadata": {},
   "outputs": [],
   "source": [
    "def reverse_the_order(string_to_reverse):\n",
    "    return string_to_reverse[::-1]"
   ]
  },
  {
   "cell_type": "code",
   "execution_count": 41,
   "id": "90d2d192",
   "metadata": {},
   "outputs": [],
   "source": [
    "def reverse_and_multiply(string_to_reverse, multiply):\n",
    "    return string_to_reverse[::-1]*multiply"
   ]
  },
  {
   "cell_type": "code",
   "execution_count": 42,
   "id": "a29440ec",
   "metadata": {},
   "outputs": [
    {
     "name": "stdout",
     "output_type": "stream",
     "text": [
      "rab oof\n",
      "0.0005006790161132812ms\n"
     ]
    }
   ],
   "source": [
    "print(test_time(reverse_the_order, ('foo bar',), 10))"
   ]
  },
  {
   "cell_type": "code",
   "execution_count": 43,
   "id": "60dbd419",
   "metadata": {},
   "outputs": [
    {
     "name": "stdout",
     "output_type": "stream",
     "text": [
      "dlrow ollehdlrow olleh\n",
      "0.0009059906005859375ms\n"
     ]
    }
   ],
   "source": [
    "print(test_time(reverse_and_multiply, ('hello world', 2), 10))"
   ]
  },
  {
   "cell_type": "code",
   "execution_count": null,
   "id": "8d574b48",
   "metadata": {},
   "outputs": [],
   "source": []
  },
  {
   "cell_type": "code",
   "execution_count": null,
   "id": "c90b4c26",
   "metadata": {},
   "outputs": [],
   "source": []
  }
 ],
 "metadata": {
  "kernelspec": {
   "display_name": "Python 3 (ipykernel)",
   "language": "python",
   "name": "python3"
  },
  "language_info": {
   "codemirror_mode": {
    "name": "ipython",
    "version": 3
   },
   "file_extension": ".py",
   "mimetype": "text/x-python",
   "name": "python",
   "nbconvert_exporter": "python",
   "pygments_lexer": "ipython3",
   "version": "3.10.8"
  }
 },
 "nbformat": 4,
 "nbformat_minor": 5
}

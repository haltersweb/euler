{
 "cells": [
  {
   "cell_type": "markdown",
   "id": "49a21a61",
   "metadata": {},
   "source": [
    "# Amicable Numbers\n",
    "([Problem 21](https://projecteuler.net/problem=21))\n",
    "\n",
    "Let $d(n)$ be defined as the __sum of proper divisors__ of $n$\n",
    "\n",
    "__proper divisors__: numbers __less than__ $n$ which __divide evenly__ into $n$.\n",
    "\n",
    "If $d(a) = b$ and $d(b) = a$, where $a \\neq b$:\n",
    "* $a$ and $b$ are an __amicable pair__,\n",
    "* each of $a$ and $b$ are called __amicable numbers__.\n",
    "\n",
    "For example, the proper divisors of $220$ are: $1, \\ 2, \\ 4, \\ 5, \\ 10, \\ 11, \\ 20, \\ 22, \\ 44, \\ 55, \\ 110$ . Therefore the __sum of divisors__ is $d(220) = 284$.\n",
    "\n",
    "The proper divisors of $284$ are: $1, \\ 2, \\ 4, \\ 71, \\ 142$. Therefore the __sum of divisors__ is $d(284) = 220$.\n",
    "\n",
    "Thus $220$ and $284$ are an __amicable pair__.\n",
    "\n",
    "Evaluate the __sum__ of all the __amicable numbers__ under $10000$."
   ]
  },
  {
   "cell_type": "code",
   "execution_count": 1,
   "id": "c9f35be4",
   "metadata": {},
   "outputs": [],
   "source": [
    "def sieve_of_eratosthenes(limit):\n",
    "    import math\n",
    "    # create boolean list for odd numbers only, starting with 1\n",
    "    is_it_prime = [False] + [True] * (math.ceil(limit / 2) - 1)\n",
    "    primes = [2] # pre-populate the first (and the only even) prime\n",
    "    for i in range (1, math.ceil(limit / 2)):\n",
    "        pc = 2 * i + 1 # pc = prime candidate\n",
    "        if is_it_prime[i]: # True means prime candidate is prime\n",
    "            primes.append(pc)\n",
    "            # index of is_it_prime corresponding to square of prime\n",
    "            i_of_sqr = int(((2 * i + 1)**2 - 1) / 2)\n",
    "            if i_of_sqr < len(is_it_prime):\n",
    "                for j in range(i_of_sqr, len(is_it_prime), pc):\n",
    "                    is_it_prime[j] = False\n",
    "    return primes\n",
    "\n",
    "def find_divisors(num):\n",
    "    import math\n",
    "    is_it_divisor = [False] * (num + 1) # takes into account first False is for i = 0\n",
    "    divisors = []\n",
    "    for i in range(1, math.floor(math.sqrt(num)) + 1): # check up thru sqrt of num\n",
    "        if not is_it_divisor[i]:\n",
    "            if num % i == 0:\n",
    "                j = int(num / i)\n",
    "                is_it_divisor[i], is_it_divisor[j] = True, True\n",
    "                divisors += [i, j] if i != j else [i]\n",
    "    return divisors"
   ]
  },
  {
   "cell_type": "code",
   "execution_count": 41,
   "id": "4543bb79",
   "metadata": {},
   "outputs": [],
   "source": [
    "def sum_of_amicable_numbers(up_to): # up_to is not-inclusive\n",
    "    primes = sieve_of_eratosthenes(up_to)\n",
    "    num_and_sums = []\n",
    "    for n in range(1,up_to):\n",
    "        if n not in primes:\n",
    "            d = find_divisors(n)\n",
    "            d.remove(n)\n",
    "            num_and_sums.append((n, sum(d)))\n",
    "\n",
    "    amicable_nums = []\n",
    "    for ns in num_and_sums:\n",
    "        if  ns[0] != ns[1] and ns[::-1] in num_and_sums:\n",
    "            amicable_nums.append(ns[0])\n",
    "    return sum(amicable_nums)"
   ]
  },
  {
   "cell_type": "code",
   "execution_count": 37,
   "id": "bd300979",
   "metadata": {},
   "outputs": [
    {
     "data": {
      "text/plain": [
       "31626"
      ]
     },
     "execution_count": 37,
     "metadata": {},
     "output_type": "execute_result"
    }
   ],
   "source": [
    "sum_of_amicable_numbers(10000)"
   ]
  },
  {
   "cell_type": "code",
   "execution_count": 42,
   "id": "2290e923",
   "metadata": {},
   "outputs": [
    {
     "name": "stdout",
     "output_type": "stream",
     "text": [
      "31626\n"
     ]
    },
    {
     "data": {
      "text/plain": [
       "'1799.9291896820068ms'"
      ]
     },
     "execution_count": 42,
     "metadata": {},
     "output_type": "execute_result"
    }
   ],
   "source": [
    "test_time(sum_of_amicable_numbers, (10000,)) # 31626"
   ]
  },
  {
   "cell_type": "code",
   "execution_count": 43,
   "id": "1b3ba98a",
   "metadata": {},
   "outputs": [],
   "source": [
    "# TRY WITHOUT SIEVE\n",
    "\n",
    "def sum_of_amicable_numbers(up_to): # up_to is not-inclusive\n",
    "    num_and_sums = []\n",
    "    for n in range(1,up_to):\n",
    "        d = find_divisors(n)\n",
    "        d.remove(n)\n",
    "        num_and_sums.append((n, sum(d)))\n",
    "\n",
    "    amicable_nums = []\n",
    "    for ns in num_and_sums:\n",
    "        if  ns[0] != ns[1] and ns[::-1] in num_and_sums:\n",
    "            amicable_nums.append(ns[0])\n",
    "    return sum(amicable_nums)"
   ]
  },
  {
   "cell_type": "code",
   "execution_count": 44,
   "id": "7e9596fe",
   "metadata": {},
   "outputs": [
    {
     "name": "stdout",
     "output_type": "stream",
     "text": [
      "31626\n"
     ]
    },
    {
     "data": {
      "text/plain": [
       "'2259.572982788086ms'"
      ]
     },
     "execution_count": 44,
     "metadata": {},
     "output_type": "execute_result"
    }
   ],
   "source": [
    "# TAKES 500ms LONGER WITHOUT SIEVE\n",
    "test_time(sum_of_amicable_numbers, (10000,)) # 31626"
   ]
  },
  {
   "cell_type": "code",
   "execution_count": null,
   "id": "2918746b",
   "metadata": {},
   "outputs": [],
   "source": []
  },
  {
   "cell_type": "markdown",
   "id": "cb17d29e",
   "metadata": {},
   "source": [
    "## Timing"
   ]
  },
  {
   "cell_type": "code",
   "execution_count": 8,
   "id": "f66204c4",
   "metadata": {},
   "outputs": [],
   "source": [
    "def test_time(func_to_test, any_params=(), num_times_to_run=5, print_results=True):\n",
    "    import time\n",
    "    start = time.time()\n",
    "\n",
    "    for i in range(num_times_to_run):\n",
    "        results = func_to_test(*any_params)\n",
    "\n",
    "    end = time.time()\n",
    "    if print_results:\n",
    "        print(results)\n",
    "    return str((end - start) * 10**3 / num_times_to_run) + \"ms\""
   ]
  },
  {
   "cell_type": "code",
   "execution_count": null,
   "id": "2af322e9",
   "metadata": {},
   "outputs": [],
   "source": []
  }
 ],
 "metadata": {
  "kernelspec": {
   "display_name": "Python 3 (ipykernel)",
   "language": "python",
   "name": "python3"
  },
  "language_info": {
   "codemirror_mode": {
    "name": "ipython",
    "version": 3
   },
   "file_extension": ".py",
   "mimetype": "text/x-python",
   "name": "python",
   "nbconvert_exporter": "python",
   "pygments_lexer": "ipython3",
   "version": "3.10.8"
  }
 },
 "nbformat": 4,
 "nbformat_minor": 5
}

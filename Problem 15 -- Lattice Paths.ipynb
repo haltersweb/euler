{
 "cells": [
  {
   "cell_type": "markdown",
   "id": "d5c51c4c",
   "metadata": {},
   "source": [
    "# Lattice Paths\n",
    "\n",
    "([Problem 15](https://projecteuler.net/problem=15))"
   ]
  },
  {
   "cell_type": "markdown",
   "id": "30b6d606",
   "metadata": {},
   "source": [
    "## Using Pascal's Triangle\n",
    "$$\n",
    "\\text{The number of possible paths to particular points in a 4x4 lattice}\\\\\n",
    "\\\\\n",
    "\\circ \\ — \\ \\ 1 \\ \\ — \\ \\ 1 \\ \\ — \\ \\ 1 \\ \\ — \\ \\ 1 \\ \\\\\n",
    "| \\ \\ \\quad \\ \\ \\ | \\ \\ \\quad \\ \\ \\ | \\ \\ \\quad \\ \\ \\ | \\ \\ \\quad \\ \\ \\ | \\\\\n",
    "\\ 1 \\ \\ — \\ \\ 2 \\ \\ — \\ \\ 3 \\ \\ — \\ \\ 4 \\ \\ — \\ \\ 5 \\ \\\\\n",
    "| \\ \\ \\quad \\ \\ \\ | \\ \\ \\quad \\ \\ \\ | \\ \\ \\quad \\ \\ \\ | \\ \\ \\quad \\ \\ \\ | \\\\\n",
    "\\ 1 \\ — \\ \\ 3 \\ \\ — \\ \\ 6 \\ \\ \\ – \\ \\ 10 \\ - \\ 15 \\ \\\\\n",
    "| \\ \\ \\quad \\ \\ \\ | \\ \\ \\quad \\ \\ \\ | \\ \\ \\quad \\ \\ \\ | \\ \\ \\quad \\ \\ \\ | \\\\\n",
    "\\ 1 \\ \\ — \\ 4 \\ \\ — \\ 10 \\ - \\ 20 \\ - \\ 35 \\ \\\\\n",
    "| \\ \\ \\quad \\ \\ \\ | \\ \\ \\quad \\ \\ \\ | \\ \\ \\quad \\ \\ \\ | \\ \\ \\quad \\ \\ \\ | \\\\\n",
    "\\ 1 \\ \\ — \\ 5 \\ \\ — \\ 15 \\ - \\ 35 \\ - \\ 70 \\ \\\\\n",
    "$$"
   ]
  },
  {
   "cell_type": "markdown",
   "id": "413f6088",
   "metadata": {},
   "source": [
    "$$\n",
    "\\text{Rotate the lattice }\\textbf{45 degrees}\\text{ and insert it into Pascal's Triangle.}\\\\\n",
    "\\\\\n",
    "\\begin{array}{c}\n",
    "\\color{red}{\\textbf{o}} \\\\\n",
    "\\color{red}{\\textbf{1}} \\qquad \\color{red}{\\textbf{1}} \\\\\n",
    "\\color{red}{\\textbf{1}} \\qquad \\color{red}{\\textbf{2}} \\qquad \\color{red}{\\textbf{1}} \\\\\n",
    "\\color{red}{\\textbf{1}} \\qquad \\color{red}{\\textbf{3}} \\qquad \\color{red}{\\textbf{3}} \\qquad \\color{red}{\\textbf{1}} \\\\\n",
    "\\color{red}{\\textbf{1}} \\qquad \\color{red}{\\textbf{4}} \\qquad \\color{red}{\\textbf{6}} \\qquad \\color{red}{\\textbf{4}} \\qquad \\color{red}{\\textbf{1}} \\\\\n",
    "1 \\qquad \\color{red}{\\textbf{5}} \\qquad \\color{red}{\\textbf{10}} \\qquad \\color{red}{\\textbf{10}} \\qquad \\color{red}{\\textbf{5}} \\qquad 1 \\\\\n",
    "1 \\qquad 6 \\qquad \\color{red}{\\textbf{15}} \\qquad \\color{red}{\\textbf{20}} \\qquad \\color{red}{\\textbf{15}} \\qquad 6 \\qquad 1 \\\\\n",
    "1 \\qquad 7 \\qquad 21 \\qquad \\color{red}{\\textbf{35}} \\qquad \\color{red}{\\textbf{35}} \\qquad 21 \\qquad 7 \\qquad 1 \\\\\n",
    "1 \\qquad 8 \\qquad 28 \\qquad 56 \\qquad \\color{red}{\\textbf{70}} \\qquad 56 \\qquad 28 \\qquad 8 \\qquad 1 \\\\\n",
    "\\end{array}\n",
    "$$"
   ]
  },
  {
   "cell_type": "markdown",
   "id": "2e1b5fb6",
   "metadata": {},
   "source": [
    "## Coefficients of a Binomial Equation\n",
    "\n",
    "Each row of Pascal's Triangle shows the __coefficients__ of $(x + y)^n$ where each row number reflects $n$.\n",
    "\n",
    "For example:\n",
    "* the first row (1, 1) are the coefficients of $(x + y)^1 = 1x + 1y$\n",
    "* the second row (1, 2, 1) are the coefficients of $(x + y)^2 = 1x^2 + 2xy + 1y^2$\n",
    "* the third row (1, 3, 3, 1) are the coefficients of $(x + y)^3 = 1x^3 + 3x^2y + 3xy^2 + 1y^3$\n",
    "\n",
    "### The Binomial Theorem\n",
    "\n",
    "$$\n",
    " (a + b)^n = \\sum_{k=0}^n\\,{n \\choose k}\\,a^{n-k}b^k\\\\\n",
    " \\\\\n",
    " \\text{where }{n \\choose k}\\text{ (aka \"n choose k\") calculates the coefficients}\n",
    "$$\n",
    "\n",
    "### The Binomial Coefficient Formula\n",
    "\n",
    "$$\n",
    "{n \\choose k} = \\frac{n\\,!}{k\\,! \\ (n-k)\\,!}\n",
    "$$\n",
    "\n",
    "## Solving for a Square Lattice Path\n",
    "\n",
    "Therefore, assuming an $a^2$ lattice, the number of path options for the farthest point $(a, a)$ is simply the $a$ coefficient of $(x + y)^a$.\n",
    "\n",
    "$$\n",
    "\\text{for an } \\ a\\,x\\,a \\ \\text{ lattice:}\\\\\n",
    "k=a, \\ n=2a\\\\\n",
    "\\\\\n",
    "\\text{number_of_paths } = {2a \\choose a} = \\frac{(2a)\\,!}{a\\,! \\ (2a-a)\\,!} = \\frac{(2a)\\,!}{(a\\,!)^2}\n",
    "$$"
   ]
  },
  {
   "cell_type": "code",
   "execution_count": 22,
   "id": "f434f7a8",
   "metadata": {},
   "outputs": [],
   "source": [
    "def factorial(num):\n",
    "    factorial = 1\n",
    "    for n in range(2, num+1):\n",
    "        factorial *= n\n",
    "    return(factorial)\n",
    "    \n",
    "\n",
    "def lattice_paths(a):\n",
    "    paths = factorial(2*a) / (factorial(a))**2\n",
    "    return int(paths)"
   ]
  },
  {
   "cell_type": "code",
   "execution_count": 27,
   "id": "386992ed",
   "metadata": {},
   "outputs": [
    {
     "name": "stdout",
     "output_type": "stream",
     "text": [
      "137846528820\n"
     ]
    },
    {
     "data": {
      "text/plain": [
       "'0.0070095062255859375ms'"
      ]
     },
     "execution_count": 27,
     "metadata": {},
     "output_type": "execute_result"
    }
   ],
   "source": [
    "test_time(lattice_paths, (20,))"
   ]
  },
  {
   "cell_type": "markdown",
   "id": "aa441bfa",
   "metadata": {},
   "source": [
    "## tester"
   ]
  },
  {
   "cell_type": "code",
   "execution_count": 25,
   "id": "ca461021",
   "metadata": {},
   "outputs": [],
   "source": [
    "def test_time(func_to_test, any_params=(), num_times_to_run=5, print_results=True):\n",
    "    import time\n",
    "    start = time.time()\n",
    "\n",
    "    for i in range(num_times_to_run):\n",
    "        results = func_to_test(*any_params)\n",
    "\n",
    "    end = time.time()\n",
    "    if print_results:\n",
    "        print(results)\n",
    "    return str((end - start) * 10**3 / num_times_to_run) + \"ms\""
   ]
  },
  {
   "cell_type": "code",
   "execution_count": null,
   "id": "641676e9",
   "metadata": {},
   "outputs": [],
   "source": []
  },
  {
   "cell_type": "code",
   "execution_count": null,
   "id": "98a6ac37",
   "metadata": {},
   "outputs": [],
   "source": []
  }
 ],
 "metadata": {
  "kernelspec": {
   "display_name": "Python 3 (ipykernel)",
   "language": "python",
   "name": "python3"
  },
  "language_info": {
   "codemirror_mode": {
    "name": "ipython",
    "version": 3
   },
   "file_extension": ".py",
   "mimetype": "text/x-python",
   "name": "python",
   "nbconvert_exporter": "python",
   "pygments_lexer": "ipython3",
   "version": "3.10.8"
  }
 },
 "nbformat": 4,
 "nbformat_minor": 5
}

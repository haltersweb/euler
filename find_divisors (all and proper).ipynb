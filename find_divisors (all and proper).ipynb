{
 "cells": [
  {
   "cell_type": "code",
   "execution_count": 6,
   "id": "8a6c0064",
   "metadata": {},
   "outputs": [],
   "source": [
    "# if you want the proper divisors, pass True for the parameter proper\n",
    "\n",
    "def find_divisors(num, proper=False): # default returns all divisors\n",
    "    import math\n",
    "    is_it_divisor = [False] * (num + 1) # takes into account first False is for i = 0\n",
    "    divisors = []\n",
    "    for i in range(1, math.floor(math.sqrt(num)) + 1): # check up thru sqrt of num\n",
    "        if not is_it_divisor[i]:\n",
    "            if num % i == 0:\n",
    "                j = int(num / i)\n",
    "                is_it_divisor[i], is_it_divisor[j] = True, True\n",
    "                divisors += [i, j] if i != j else [i]\n",
    "    if proper:\n",
    "        divisors.remove(num)\n",
    "    return divisors"
   ]
  },
  {
   "cell_type": "code",
   "execution_count": 7,
   "id": "cc7e3646",
   "metadata": {},
   "outputs": [
    {
     "data": {
      "text/plain": [
       "[1, 296, 2, 148, 4, 74, 8, 37]"
      ]
     },
     "execution_count": 7,
     "metadata": {},
     "output_type": "execute_result"
    }
   ],
   "source": [
    "find_divisors(296)"
   ]
  },
  {
   "cell_type": "code",
   "execution_count": 8,
   "id": "a57da3ea",
   "metadata": {},
   "outputs": [
    {
     "data": {
      "text/plain": [
       "[1, 2, 148, 4, 74, 8, 37]"
      ]
     },
     "execution_count": 8,
     "metadata": {},
     "output_type": "execute_result"
    }
   ],
   "source": [
    "find_divisors(296, True)"
   ]
  },
  {
   "cell_type": "code",
   "execution_count": null,
   "id": "77a8653b",
   "metadata": {},
   "outputs": [],
   "source": []
  }
 ],
 "metadata": {
  "kernelspec": {
   "display_name": "Python 3 (ipykernel)",
   "language": "python",
   "name": "python3"
  },
  "language_info": {
   "codemirror_mode": {
    "name": "ipython",
    "version": 3
   },
   "file_extension": ".py",
   "mimetype": "text/x-python",
   "name": "python",
   "nbconvert_exporter": "python",
   "pygments_lexer": "ipython3",
   "version": "3.10.8"
  }
 },
 "nbformat": 4,
 "nbformat_minor": 5
}

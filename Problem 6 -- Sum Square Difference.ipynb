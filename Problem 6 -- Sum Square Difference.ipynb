{
 "cells": [
  {
   "attachments": {},
   "cell_type": "markdown",
   "id": "b39d7d92",
   "metadata": {},
   "source": [
    "# Sum square difference\n",
    "\n",
    "_([Problem 6](https://projecteuler.net/problem=6))_\n",
    "\n",
    "The sum of the squares of the first ten natural numbers is:\n",
    "\n",
    "$1^2 + 2^2 + ... + 10^2 = 385$\n",
    "\n",
    "The square of the sum of the first ten natural numbers is:\n",
    "\n",
    "$(1 + 2 + ... + 10)^2 = 55^2 = 3025$\n",
    "\n",
    "Hence the difference between the sum of the squares of the first ten natural numbers and the square of the sum is:\n",
    "\n",
    "$3025 - 385 = 2640$\n",
    "\n",
    "Find the __difference__ between the __sum of the squares__ of the first __one hundred__ natural numbers and the __square of the sum__."
   ]
  },
  {
   "cell_type": "markdown",
   "id": "7ae67750",
   "metadata": {},
   "source": [
    "## thoughts"
   ]
  },
  {
   "cell_type": "code",
   "execution_count": 2,
   "id": "c0e6a278",
   "metadata": {},
   "outputs": [
    {
     "name": "stdout",
     "output_type": "stream",
     "text": [
      "385\n"
     ]
    }
   ],
   "source": [
    "# sum of squares of first 10 numbers\n",
    "sum_the_sq = 0\n",
    "for i in range(1,11):\n",
    "    sum_the_sq += i**2\n",
    "print(sum_the_sq)"
   ]
  },
  {
   "cell_type": "code",
   "execution_count": 3,
   "id": "12a94d69",
   "metadata": {},
   "outputs": [
    {
     "name": "stdout",
     "output_type": "stream",
     "text": [
      "3025\n"
     ]
    }
   ],
   "source": [
    "sq_the_sum = 0\n",
    "for i in range(1,11):\n",
    "    sq_the_sum += i\n",
    "sq_the_sum *= sq_the_sum\n",
    "print(sq_the_sum)"
   ]
  },
  {
   "cell_type": "code",
   "execution_count": 4,
   "id": "70abc426",
   "metadata": {},
   "outputs": [
    {
     "data": {
      "text/plain": [
       "2640"
      ]
     },
     "execution_count": 4,
     "metadata": {},
     "output_type": "execute_result"
    }
   ],
   "source": [
    "sq_the_sum - sum_the_sq"
   ]
  },
  {
   "cell_type": "markdown",
   "id": "a00d90ca",
   "metadata": {},
   "source": [
    "## my solution without knowing the quadratic or cubic equations"
   ]
  },
  {
   "cell_type": "markdown",
   "id": "8a09c8b9",
   "metadata": {},
   "source": [
    "Let's take into account the following observations:\n",
    "\n",
    "$(a + b)^2 = (a + b)(a + b) = (a^2 + b^2) + 2ab$\n",
    "\n",
    "which means:\n",
    "\n",
    "$(a + b)^2 - (a^2 + b^2) = [(a^2 + b^2) + 2ab] - (a^2 + b^2) = 2ab$\n",
    "\n",
    "and:\n",
    "\n",
    "$(a + b + c)^2 - (a^2 + b^2 + c^2) =$\n",
    "\n",
    "```\n",
    "2ab + 2ac\n",
    "    + 2bc\n",
    "```\n",
    "and:\n",
    "\n",
    "$(a + b + c + d)^2 - (a^2 + b^2 + c^2 + d^2) =$\n",
    "\n",
    "```\n",
    "2ab + 2ac + 2ad\n",
    "    + 2bc + 2bd\n",
    "          + 2cd\n",
    "```\n",
    "Therefore:\n",
    "\n",
    "$(a + b + c + d + ... + n)^2 - (a^2 + b^2 + c^2 + d^2 + ... + n) =$\n",
    "\n",
    "```\n",
    "2ab + 2ac + 2ad + ... + 2an\n",
    "    + 2bc + 2bd + ... + 2bn\n",
    "          + 2cd + ... + 2cn\n",
    "                  ...\n",
    "                  ... + 2(n-1)n\n",
    "```"
   ]
  },
  {
   "cell_type": "code",
   "execution_count": 41,
   "id": "f9a5642c",
   "metadata": {},
   "outputs": [
    {
     "name": "stdout",
     "output_type": "stream",
     "text": [
      "25164150\n"
     ]
    }
   ],
   "source": [
    "def difference_without_equations(n):\n",
    "    result = 0\n",
    "    for j in range(1,n+1):\n",
    "        for i in range(j,n+1):\n",
    "            if not i == j:\n",
    "                result += 2*i*j\n",
    "    return result\n",
    "\n",
    "print(difference_without_equations(100))"
   ]
  },
  {
   "cell_type": "markdown",
   "id": "fe5442b7",
   "metadata": {},
   "source": [
    "## my solution using pre-existing equations\n",
    "\n",
    "The sum of first n natural numbers (quadratic equation):\n",
    "\n",
    "$$\n",
    "  \\sum_{i=0}^n\\,i = \\frac{n(n+1)}{2}\n",
    "$$"
   ]
  },
  {
   "cell_type": "code",
   "execution_count": 19,
   "id": "04902771",
   "metadata": {},
   "outputs": [
    {
     "data": {
      "text/plain": [
       "55"
      ]
     },
     "execution_count": 19,
     "metadata": {},
     "output_type": "execute_result"
    }
   ],
   "source": [
    "def sum_of_n(n):\n",
    "    sum = 0\n",
    "    for i in range(0,n+1):\n",
    "        sum += i\n",
    "    return sum\n",
    "\n",
    "sum_of_n(10)"
   ]
  },
  {
   "cell_type": "markdown",
   "id": "1f6e5a3d",
   "metadata": {},
   "source": [
    "The sum of the squares of the first n natural numbers (cubic equation):\n",
    "\n",
    "$$\n",
    " \\sum_{i=0}^n\\,{i^2} = \\frac{n(2n+1)(n+1)}{6}\n",
    "$$"
   ]
  },
  {
   "cell_type": "code",
   "execution_count": 24,
   "id": "b190f989",
   "metadata": {},
   "outputs": [
    {
     "data": {
      "text/plain": [
       "385"
      ]
     },
     "execution_count": 24,
     "metadata": {},
     "output_type": "execute_result"
    }
   ],
   "source": [
    "def sum_of_n_squares(n):\n",
    "    sum = 0\n",
    "    for i in range(0,n+1):\n",
    "        sum += i**2\n",
    "    return sum\n",
    "\n",
    "sum_of_n_squares(10)"
   ]
  },
  {
   "cell_type": "code",
   "execution_count": 57,
   "id": "6c465672",
   "metadata": {},
   "outputs": [
    {
     "name": "stdout",
     "output_type": "stream",
     "text": [
      "25164150\n"
     ]
    }
   ],
   "source": [
    "def difference_with_equations(n):\n",
    "    result = sum_of_n(n)**2 - sum_of_n_squares(n)\n",
    "    return result\n",
    "\n",
    "print(difference_with_equations(100))"
   ]
  },
  {
   "cell_type": "markdown",
   "id": "224e5e37",
   "metadata": {},
   "source": [
    "### LaTeX markdown for writing equations\n",
    "\n",
    "* [Jupyter{book} math and equations](https://jupyterbook.org/en/stable/content/math.html)\n",
    "* [Learn How to Write Markdown & LaTeX in The Jupyter Notebook](https://towardsdatascience.com/write-markdown-latex-in-the-jupyter-notebook-10985edb91fd)\n",
    "* [Cheatsheet for LaTex](https://gist.github.com/LKS90/252ac41bd4a173be35b0)\n"
   ]
  },
  {
   "cell_type": "markdown",
   "id": "081d0b7e",
   "metadata": {},
   "source": [
    "## time trials"
   ]
  },
  {
   "cell_type": "code",
   "execution_count": 54,
   "id": "dcdac7df",
   "metadata": {},
   "outputs": [],
   "source": [
    "def test_time(func_to_test, any_params=(), num_times_to_run=5):\n",
    "    import time\n",
    "    start = time.time()\n",
    "\n",
    "    for i in range(num_times_to_run):\n",
    "        func_to_test(any_params)\n",
    "\n",
    "    end = time.time()\n",
    "    return str((end - start) * 10**3 / num_times_to_run) + \"ms\""
   ]
  },
  {
   "cell_type": "code",
   "execution_count": 58,
   "id": "6a6b8bb5",
   "metadata": {},
   "outputs": [
    {
     "name": "stdout",
     "output_type": "stream",
     "text": [
      "0.7164077758789062ms\n",
      "0.048110008239746094ms\n"
     ]
    }
   ],
   "source": [
    "print(test_time(difference_without_equations, (100), 500))\n",
    "print(test_time(difference_with_equations, (100), 500))"
   ]
  },
  {
   "cell_type": "code",
   "execution_count": null,
   "id": "4d6c454c",
   "metadata": {},
   "outputs": [],
   "source": []
  }
 ],
 "metadata": {
  "kernelspec": {
   "display_name": "Python 3 (ipykernel)",
   "language": "python",
   "name": "python3"
  },
  "language_info": {
   "codemirror_mode": {
    "name": "ipython",
    "version": 3
   },
   "file_extension": ".py",
   "mimetype": "text/x-python",
   "name": "python",
   "nbconvert_exporter": "python",
   "pygments_lexer": "ipython3",
   "version": "3.10.8"
  }
 },
 "nbformat": 4,
 "nbformat_minor": 5
}

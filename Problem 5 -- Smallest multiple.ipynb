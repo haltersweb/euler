{
 "cells": [
  {
   "cell_type": "markdown",
   "id": "33cc195c",
   "metadata": {},
   "source": [
    "# Smallest multiple\n",
    "\n",
    "([Problem 5](https://projecteuler.net/problem=5))\n",
    "\n",
    "2520 is the smallest number that can be divided by each of the numbers from 1 to 10 without any remainder.\n",
    "\n",
    "What is the __smallest positive number__ that is evenly divisible by all of the numbers from 1 to 20?"
   ]
  },
  {
   "cell_type": "markdown",
   "id": "2f5720ea",
   "metadata": {},
   "source": [
    "## thoughts and experiments\n",
    "\n",
    "* 1 is a given.  Don't bother with it.\n",
    "* If divisible by 18, will automatically be divisible by 2.  But it doesn't mean it is divisible by all even numbers.\n",
    "\n",
    "* If divisible by 9, will automatically be divisible by 3.  But it doesn't mean it is divisible by 6.\n",
    "* biggest possible number is product of all coefficients ([2,...20])\n",
    "* smallest possible number is the multiple of prime numbers to 20"
   ]
  },
  {
   "cell_type": "code",
   "execution_count": null,
   "id": "f676d7dc",
   "metadata": {},
   "outputs": [],
   "source": [
    "foo = 18 * 7\n",
    "foo"
   ]
  },
  {
   "cell_type": "code",
   "execution_count": null,
   "id": "568a52db",
   "metadata": {},
   "outputs": [],
   "source": [
    "foo % 18"
   ]
  },
  {
   "cell_type": "code",
   "execution_count": null,
   "id": "cb3e677f",
   "metadata": {},
   "outputs": [],
   "source": [
    "foo % 2"
   ]
  },
  {
   "cell_type": "code",
   "execution_count": null,
   "id": "315f4484",
   "metadata": {},
   "outputs": [],
   "source": [
    "foo % 16 # not divisible"
   ]
  },
  {
   "cell_type": "code",
   "execution_count": null,
   "id": "a9723e31",
   "metadata": {},
   "outputs": [],
   "source": [
    "foo % 14"
   ]
  },
  {
   "cell_type": "code",
   "execution_count": null,
   "id": "e2148305",
   "metadata": {},
   "outputs": [],
   "source": [
    "coefficients = list(range(2,21))\n",
    "coefficients"
   ]
  },
  {
   "cell_type": "code",
   "execution_count": null,
   "id": "49c062d5",
   "metadata": {},
   "outputs": [],
   "source": [
    "primes_to_20 = [2,3,5,7,11,13,17,19]\n",
    "primes_to_20"
   ]
  },
  {
   "cell_type": "code",
   "execution_count": null,
   "id": "735fadbc",
   "metadata": {},
   "outputs": [],
   "source": [
    "non_primes = [x for x in coefficients if x not in primes_to_20]\n",
    "non_primes"
   ]
  },
  {
   "cell_type": "code",
   "execution_count": null,
   "id": "f2f190c4",
   "metadata": {},
   "outputs": [],
   "source": [
    "import math\n",
    "lim_a = math.prod(primes_to_20)\n",
    "# lim_z = math.prod(coefficients) -- don't need this since I will just iterate until truth\n",
    "lim_a"
   ]
  },
  {
   "cell_type": "code",
   "execution_count": null,
   "id": "8b37cab7",
   "metadata": {},
   "outputs": [],
   "source": [
    "import math\n",
    "coefficients = list(range(2,11))\n",
    "primes_to_10 = [2,3,5,7] # don't worry about 1\n",
    "i = math.prod(primes_to_10)\n",
    "smallest_multiple = 0"
   ]
  },
  {
   "cell_type": "code",
   "execution_count": null,
   "id": "7fdb64ea",
   "metadata": {},
   "outputs": [],
   "source": [
    "while i < 2530:\n",
    "    for c in coefficients:\n",
    "        # print(i,np)\n",
    "        if i % c != 0:\n",
    "            break\n",
    "        if c == coefficients[-1]:\n",
    "            print('I found it:',i)\n",
    "    i += 1"
   ]
  },
  {
   "cell_type": "markdown",
   "id": "80571885",
   "metadata": {},
   "source": [
    "## my solution"
   ]
  },
  {
   "cell_type": "code",
   "execution_count": 4,
   "id": "1674c1ee",
   "metadata": {},
   "outputs": [
    {
     "name": "stdout",
     "output_type": "stream",
     "text": [
      "smallest multiple is: 232792560\n",
      "0.6859302520751953 ms\n"
     ]
    }
   ],
   "source": [
    "import time\n",
    "start = time.time()\n",
    "\n",
    "import math\n",
    "coefficients = list(range(2,21))\n",
    "primes = [2,3,5,7,11,13,17,19] # don't worry about 1\n",
    "prime_product = math.prod(primes)\n",
    "i = prime_product\n",
    "smallest_multiple = 0\n",
    "while smallest_multiple == 0:\n",
    "    for c in coefficients:\n",
    "        if i % c != 0:\n",
    "            break\n",
    "        if c == coefficients[-1]:\n",
    "            smallest_multiple = i\n",
    "    i += prime_product # i must always be a multiple of the prime product\n",
    "print('smallest multiple is:', smallest_multiple)\n",
    "\n",
    "end = time.time()\n",
    "print((end-start) * 10**3, \"ms\")"
   ]
  },
  {
   "cell_type": "markdown",
   "id": "bed6dc03",
   "metadata": {},
   "source": [
    "__NOTE:__ I found that only looping through __non-primes only__ took about __0.3ms longer__ due to the processing time of building the non-primes list with list comprehension."
   ]
  },
  {
   "cell_type": "markdown",
   "id": "4ec65758",
   "metadata": {},
   "source": [
    "## someone else used `math.lcm`\n",
    "\n",
    "I did not realize there was a math function called least common multiple.  Interesting"
   ]
  },
  {
   "cell_type": "code",
   "execution_count": 2,
   "id": "e6f99eac",
   "metadata": {},
   "outputs": [
    {
     "name": "stdout",
     "output_type": "stream",
     "text": [
      "232792560\n",
      "0.39386749267578125 ms\n"
     ]
    }
   ],
   "source": [
    "import time\n",
    "start = time.time()\n",
    "\n",
    "\n",
    "from math import lcm\n",
    "x=1\n",
    "for a in range(1,21):\n",
    "    x=lcm(x,a)\n",
    "print(x)\n",
    "\n",
    "\n",
    "end = time.time()\n",
    "print((end-start) * 10**3, \"ms\")"
   ]
  },
  {
   "cell_type": "code",
   "execution_count": 4,
   "id": "3c0a947c",
   "metadata": {},
   "outputs": [
    {
     "data": {
      "text/plain": [
       "<function math.lcm(*integers)>"
      ]
     },
     "execution_count": 4,
     "metadata": {},
     "output_type": "execute_result"
    }
   ],
   "source": [
    "lcm"
   ]
  },
  {
   "cell_type": "code",
   "execution_count": null,
   "id": "e874327e",
   "metadata": {},
   "outputs": [],
   "source": []
  }
 ],
 "metadata": {
  "kernelspec": {
   "display_name": "Python 3 (ipykernel)",
   "language": "python",
   "name": "python3"
  },
  "language_info": {
   "codemirror_mode": {
    "name": "ipython",
    "version": 3
   },
   "file_extension": ".py",
   "mimetype": "text/x-python",
   "name": "python",
   "nbconvert_exporter": "python",
   "pygments_lexer": "ipython3",
   "version": "3.10.8"
  }
 },
 "nbformat": 4,
 "nbformat_minor": 5
}

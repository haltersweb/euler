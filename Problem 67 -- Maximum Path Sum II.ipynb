{
 "cells": [
  {
   "cell_type": "markdown",
   "id": "dba5de23",
   "metadata": {},
   "source": [
    "# Maximum Path Sum I\n",
    "([Project 67](https://projecteuler.net/problem=67))\n",
    "\n",
    "By starting at the top of the triangle below and moving to adjacent numbers on the row below, the maximum total from top to bottom is $23$. (maximum means that you take the path that adds up to the highest number)\n",
    "$$\n",
    "3\\\\\n",
    "7\\ \\ 4\\\\\n",
    "2\\ \\ 4\\ \\ 6\\\\\n",
    "8\\ \\ 5\\ \\ 9\\ \\ 3\\\\\n",
    "$$\n",
    "That is, $3 + 7 + 4 + 9 = 23$.\n",
    "\n",
    "Find the maximum total from top to bottom of the downloaded [triangle file](data/0067_triangle.txt)\n",
    "\n",
    "## Approach\n",
    "\n",
    "I will try this with the solution from Problem 18"
   ]
  },
  {
   "cell_type": "code",
   "execution_count": 1,
   "id": "773edb08",
   "metadata": {},
   "outputs": [],
   "source": [
    "def make_num_array():\n",
    "    f = open(\"data/0067_triangle.txt\", \"r\")\n",
    "    array = []\n",
    "    for l in f.readlines():\n",
    "        l = l.split()\n",
    "        l = list(map(int, l))\n",
    "        array.append(l)\n",
    "    f.close()\n",
    "    return array\n",
    "\n",
    "triangle = make_num_array()\n"
   ]
  },
  {
   "cell_type": "code",
   "execution_count": 2,
   "id": "863c1632",
   "metadata": {},
   "outputs": [],
   "source": [
    "def max_path_sum(triangle_arrays):\n",
    "    import copy\n",
    "    ta = copy.deepcopy(triangle_arrays)\n",
    "    for i in range(len(ta))[:0:-1]:\n",
    "        temp_a = ta[i-1]\n",
    "        temp_b = ta[i]\n",
    "        for j in range(len(temp_a)):\n",
    "            temp_a[j] += (temp_b[j] if temp_b[j] > temp_b[j+1] else temp_b[j+1])\n",
    "    return ta[0][0]"
   ]
  },
  {
   "cell_type": "code",
   "execution_count": 3,
   "id": "1e711bd2",
   "metadata": {},
   "outputs": [
    {
     "name": "stdout",
     "output_type": "stream",
     "text": [
      "7273\n"
     ]
    }
   ],
   "source": [
    "print(max_path_sum(triangle))"
   ]
  },
  {
   "cell_type": "code",
   "execution_count": 5,
   "id": "c43e9917",
   "metadata": {},
   "outputs": [
    {
     "name": "stdout",
     "output_type": "stream",
     "text": [
      "7273\n"
     ]
    },
    {
     "data": {
      "text/plain": [
       "'4.52122688293457ms'"
      ]
     },
     "execution_count": 5,
     "metadata": {},
     "output_type": "execute_result"
    }
   ],
   "source": [
    "test_time(max_path_sum,(triangle,))"
   ]
  },
  {
   "cell_type": "markdown",
   "id": "38d29da6",
   "metadata": {},
   "source": [
    "## testing time"
   ]
  },
  {
   "cell_type": "code",
   "execution_count": 4,
   "id": "d20ee112",
   "metadata": {},
   "outputs": [],
   "source": [
    "def test_time(func_to_test, any_params=(), num_times_to_run=5, print_results=True):\n",
    "    import time\n",
    "    start = time.time()\n",
    "\n",
    "    for i in range(num_times_to_run):\n",
    "        results = func_to_test(*any_params)\n",
    "\n",
    "    end = time.time()\n",
    "    if print_results:\n",
    "        print(results)\n",
    "    return str((end - start) * 10**3 / num_times_to_run) + \"ms\""
   ]
  },
  {
   "cell_type": "code",
   "execution_count": null,
   "id": "fe93c939",
   "metadata": {},
   "outputs": [],
   "source": []
  }
 ],
 "metadata": {
  "kernelspec": {
   "display_name": "Python 3 (ipykernel)",
   "language": "python",
   "name": "python3"
  },
  "language_info": {
   "codemirror_mode": {
    "name": "ipython",
    "version": 3
   },
   "file_extension": ".py",
   "mimetype": "text/x-python",
   "name": "python",
   "nbconvert_exporter": "python",
   "pygments_lexer": "ipython3",
   "version": "3.10.8"
  }
 },
 "nbformat": 4,
 "nbformat_minor": 5
}

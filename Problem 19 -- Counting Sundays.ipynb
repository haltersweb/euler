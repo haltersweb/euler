{
 "cells": [
  {
   "cell_type": "markdown",
   "id": "19e01d47",
   "metadata": {},
   "source": [
    "# Counting Sundays\n",
    "([Problem 19](https://projecteuler.net/problem=19))\n",
    "\n",
    "You are given the following information, but you may prefer to do some research for yourself.\n",
    "\n",
    "1 Jan 1900 was a Monday.\n",
    "\n",
    "* Thirty days hath September,\n",
    "* April, June and November.\n",
    "* All the rest be thirty-one,\n",
    "* Save February, which at twenty-eight be fine.\n",
    "* Alas, on leap years, it be twenty-nine.\n",
    "\n",
    "A leap year occurs on any year evenly divisible by 4, but not on a century unless it is divisible by 400.\n",
    "\n",
    "How many Sundays fell on the first of the month during the twentieth century (1 Jan 1901 to 31 Dec 2000)?"
   ]
  },
  {
   "cell_type": "code",
   "execution_count": 6,
   "id": "fbf1c4f5",
   "metadata": {},
   "outputs": [],
   "source": [
    "def how_many_first_Sundays(first_year, last_year):\n",
    "    months_per_day = [31, 28, 31, 30, 31, 30, 31, 31, 30, 31, 30, 31]\n",
    "    num_of_Sundays = 0\n",
    "    delta = 5 # start with the days until the first Sunday in Jan 1901\n",
    "    \n",
    "    for y in range(first_year, last_year + 1):\n",
    "        months_per_day[1] = 28 if y % 4 else 29\n",
    "        for m in months_per_day:\n",
    "            if delta == 0:\n",
    "                num_of_Sundays += 1\n",
    "            delta =  7 - ((m - delta) % 7) if (m - delta) % 7 else 0 # days until Sunday next month\n",
    "            \n",
    "    return num_of_Sundays"
   ]
  },
  {
   "cell_type": "code",
   "execution_count": 7,
   "id": "c2539b02",
   "metadata": {},
   "outputs": [
    {
     "name": "stdout",
     "output_type": "stream",
     "text": [
      "171\n"
     ]
    },
    {
     "data": {
      "text/plain": [
       "'0.1739501953125ms'"
      ]
     },
     "execution_count": 7,
     "metadata": {},
     "output_type": "execute_result"
    }
   ],
   "source": [
    "test_time(how_many_first_Sundays,(1901, 2000))"
   ]
  },
  {
   "cell_type": "markdown",
   "id": "3da5b1ac",
   "metadata": {},
   "source": [
    "## Testing time"
   ]
  },
  {
   "cell_type": "code",
   "execution_count": 2,
   "id": "0db4bf5a",
   "metadata": {},
   "outputs": [],
   "source": [
    "def test_time(func_to_test, any_params=(), num_times_to_run=5, print_results=True):\n",
    "    import time\n",
    "    start = time.time()\n",
    "\n",
    "    for i in range(num_times_to_run):\n",
    "        results = func_to_test(*any_params)\n",
    "\n",
    "    end = time.time()\n",
    "    if print_results:\n",
    "        print(results)\n",
    "    return str((end - start) * 10**3 / num_times_to_run) + \"ms\""
   ]
  },
  {
   "cell_type": "code",
   "execution_count": null,
   "id": "a57a17db",
   "metadata": {},
   "outputs": [],
   "source": []
  }
 ],
 "metadata": {
  "kernelspec": {
   "display_name": "Python 3 (ipykernel)",
   "language": "python",
   "name": "python3"
  },
  "language_info": {
   "codemirror_mode": {
    "name": "ipython",
    "version": 3
   },
   "file_extension": ".py",
   "mimetype": "text/x-python",
   "name": "python",
   "nbconvert_exporter": "python",
   "pygments_lexer": "ipython3",
   "version": "3.10.8"
  }
 },
 "nbformat": 4,
 "nbformat_minor": 5
}

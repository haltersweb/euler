{
 "cells": [
  {
   "cell_type": "markdown",
   "id": "f182d715",
   "metadata": {},
   "source": [
    "# Special Pythagorean Triplet\n",
    "\n",
    "_([Problem 9](https://projecteuler.net/problem=9))_\n",
    "\n",
    "A Pythagorean triplet is a set of three __natural__ numbers, $a < b < c$, for which $a^2 + b^2 = c^2$.\n",
    "\n",
    "For example, the $3,4,5$ right triangle where $3 + 4 + 5 = 124$\n",
    "\n",
    "There exists exactly one Pythagorean triplet for which $a + b + c = 1000$\n",
    "\n",
    "Find the product of $a,b,c$.\n",
    "\n",
    "## thoughts\n",
    "\n",
    "### some common triplets:\n",
    "\n",
    "* $3, 4, 5$ (sum=12)\n",
    "* $5, 12, 13$ (sum=30)\n",
    "* $7, 24, 25$ (sum=56)\n",
    "* $8, 15, 17$ (sum=50)\n",
    "* $9, 40, 41$ (sum=90)\n",
    "* $11, 60, 61$ (sum=132)\n",
    "* $12, 35, 37$ (sum=84)\n",
    "* $20, 21, 29$ (sum=70)\n",
    "    \n",
    "### solving for the sides of the right triangle\n",
    "\n",
    "In this problem we are given the fact that $width + length + hypotenuse = 1000$\n",
    "\n",
    "Let's use the common triplet $5, 12, 13$ with a sum=$30$ to work out a solution.\n",
    "\n",
    "We know that:\n",
    "\n",
    "* $width^2 + height^2 = 13^2$\n",
    "\n",
    "* $width + height + 13 = 30$\n",
    "\n",
    "$w = 17 - h$\n",
    "\n",
    "$17^2 - 34h + h^2 + h^2 = 13^2$\n",
    "\n",
    "$17^2 - 34h + 2h^2 = 13^2$\n",
    "\n",
    "$2h^2 - 34h + (17^2 - 13^2) = 0$\n",
    "\n",
    "$2h^2 - 34h + 120 = 0$\n",
    "\n",
    "#### above written in quadratic form\n",
    "\n",
    "(change $h$ to $x$)\n",
    "\n",
    "$ 2x^2 - 34x + 120 = 0$\n",
    "\n",
    "$a = 2, b = -34, c = 120$\n",
    "\n",
    "### quadratics\n",
    "\n",
    "#### quadratic equation\n",
    "\n",
    "$$\n",
    "ax^2 + bx + c = 0\n",
    "$$\n",
    "\n",
    "#### quadratic formula\n",
    "\n",
    "$$\n",
    "x = \\frac{-b\\pm\\sqrt(b^2-4ac)}{2a}\n",
    "$$\n",
    "\n",
    "## my solution\n",
    "\n",
    "Since we know that:\n",
    "\n",
    "* $side_a^2 + side_b^2 = hypotenuse^2$\n",
    "* $side_a + side_b + hypotenuse = sum$\n",
    "\n",
    "We can choose an arbitrary side and rewrite the sum equation as:\n",
    "\n",
    "$side_a = (sum - hyp) - side_b$\n",
    "\n",
    "Replacing this equation for side_a in the pythagorean equation gives:\n",
    "\n",
    "$2side_b^2 - (2(sum - hyp))side_b + ((sum - hyp)^2 - hyp^2) = 0$\n",
    "\n",
    "Writing this as a quadratic equation ($ax^2 + bx + c = 0$) by replacing $side_b$ with $x$ gives:\n",
    "\n",
    "$2x^2 - 2(sum - hyp)x + ((sum - hyp)^2 - hyp^2) = 0$\n",
    "\n",
    "* $a = 2$\n",
    "* $b = -2(sum - hyp)$\n",
    "* $c = (sum - hyp)^2 - hyp^2$\n",
    "\n",
    "Plugging the above equations for $a,b,c$ into the quadratic formula gives:\n",
    "\n",
    "$$x = \\frac{-b\\pm\\sqrt(b^2-4ac)}{2a}$$\n",
    "\n",
    "By plugging in the $sum$ and hypotenuse $hyp$, we get the length and width (the two solutions for $x$) of the right triangle.\n",
    "\n",
    "To find the pythagorean triplet solution we will loop through all possibilities of the hypotenuse. Once we find two sides that are both natural numbers (positive integers) we have our triplet.  From this we can derive the product of the sides.\n",
    "\n",
    "_(processing speed: 2ms)_"
   ]
  },
  {
   "cell_type": "code",
   "execution_count": 123,
   "id": "8a9ce3fb",
   "metadata": {},
   "outputs": [],
   "source": [
    "def quadratic_formula(a,b,c):\n",
    "    soln_1 = (-b+((b**2 - 4*a*c)**0.5))/(2*a)\n",
    "    soln_2 = (-b-((b**2 - 4*a*c)**0.5))/(2*a)\n",
    "    return (soln_1, soln_2)"
   ]
  },
  {
   "cell_type": "code",
   "execution_count": 124,
   "id": "a1d29e9c",
   "metadata": {},
   "outputs": [
    {
     "data": {
      "text/plain": [
       "(12.0, 5.0)"
      ]
     },
     "execution_count": 124,
     "metadata": {},
     "output_type": "execute_result"
    }
   ],
   "source": [
    "quadratic_formula(2,-34,120)"
   ]
  },
  {
   "cell_type": "code",
   "execution_count": 125,
   "id": "f41179d7",
   "metadata": {},
   "outputs": [],
   "source": [
    "def calculate_sides(hyp, sum):\n",
    "    # when given the hypotenuse, and the sum of all sides of a right triangle\n",
    "     # return all three sides of the right triangle\n",
    "    a = 2\n",
    "    b = -(2 * (sum - hyp))\n",
    "    c = ((sum - hyp)**2 - hyp**2)\n",
    "    sides = quadratic_formula(a, b, c)\n",
    "    return (*sides, hyp)"
   ]
  },
  {
   "cell_type": "code",
   "execution_count": 126,
   "id": "95ce64a8",
   "metadata": {},
   "outputs": [
    {
     "data": {
      "text/plain": [
       "(12.0, 5.0, 13)"
      ]
     },
     "execution_count": 126,
     "metadata": {},
     "output_type": "execute_result"
    }
   ],
   "source": [
    "calculate_sides(13,30)"
   ]
  },
  {
   "cell_type": "code",
   "execution_count": 127,
   "id": "1034c59e",
   "metadata": {},
   "outputs": [],
   "source": [
    "def prod_of_triplets(sum):\n",
    "    # when given the sum of all sides of a right triangle, find the pythagorean triplet\n",
    "    # and then return the product of the sides\n",
    "    import math\n",
    "    for hyp in range(1,sum):\n",
    "        test = calculate_sides(hyp,sum)\n",
    "        if not isinstance(test[0], complex) and not isinstance(test[1], complex): # filter out complex results\n",
    "            if test[0].is_integer() and test[1].is_integer():\n",
    "                if test[0]*test[1] > 0: # filter out negative and 0 results\n",
    "                    return int(math.prod(test))"
   ]
  },
  {
   "cell_type": "code",
   "execution_count": 128,
   "id": "21657fda",
   "metadata": {},
   "outputs": [
    {
     "data": {
      "text/plain": [
       "31875000"
      ]
     },
     "execution_count": 128,
     "metadata": {},
     "output_type": "execute_result"
    }
   ],
   "source": [
    "prod_of_triplets(1000)"
   ]
  },
  {
   "cell_type": "code",
   "execution_count": 118,
   "id": "6c5c4a12",
   "metadata": {},
   "outputs": [
    {
     "name": "stdout",
     "output_type": "stream",
     "text": [
      "31875000\n"
     ]
    },
    {
     "data": {
      "text/plain": [
       "'1.8278694152832031ms'"
      ]
     },
     "execution_count": 118,
     "metadata": {},
     "output_type": "execute_result"
    }
   ],
   "source": [
    "test_time(prod_of_triplets, (1000,), 25)"
   ]
  },
  {
   "cell_type": "markdown",
   "id": "ecd604e2",
   "metadata": {},
   "source": [
    "## timer"
   ]
  },
  {
   "cell_type": "code",
   "execution_count": 117,
   "id": "90501728",
   "metadata": {},
   "outputs": [],
   "source": [
    "def test_time(func_to_test, any_params=(), num_times_to_run=5):\n",
    "    import time\n",
    "    start = time.time()\n",
    "\n",
    "    for i in range(num_times_to_run):\n",
    "        results = func_to_test(*any_params)\n",
    "\n",
    "    end = time.time()\n",
    "    print(results)\n",
    "    return str((end - start) * 10**3 / num_times_to_run) + \"ms\""
   ]
  },
  {
   "cell_type": "code",
   "execution_count": null,
   "id": "7d6deda9",
   "metadata": {},
   "outputs": [],
   "source": []
  },
  {
   "cell_type": "markdown",
   "id": "2faa6505",
   "metadata": {},
   "source": [
    "# someone else's solution:\n",
    "\n",
    "This is BestPractise's solution.  Really nice and elegant.\n",
    "\n",
    "The one positive about my solution, it may be longer but it is semantic and super fast at 2ms (vs 55ms)."
   ]
  },
  {
   "cell_type": "code",
   "execution_count": 119,
   "id": "ab34713b",
   "metadata": {},
   "outputs": [],
   "source": [
    "def someones():\n",
    "    for a in range(1,1000):\n",
    "        for b in range(a,1000-a):\n",
    "            c = (a*a+b*b)**0.5\n",
    "            if a+b+c == 1000 and int(c) == c:\n",
    "                c = int(c)\n",
    "                return (a*b*c,a,b,c)"
   ]
  },
  {
   "cell_type": "code",
   "execution_count": 120,
   "id": "46034463",
   "metadata": {},
   "outputs": [
    {
     "name": "stdout",
     "output_type": "stream",
     "text": [
      "(31875000, 200, 375, 425)\n"
     ]
    },
    {
     "data": {
      "text/plain": [
       "'54.675283432006836ms'"
      ]
     },
     "execution_count": 120,
     "metadata": {},
     "output_type": "execute_result"
    }
   ],
   "source": [
    "test_time(someones, num_times_to_run=25)"
   ]
  },
  {
   "cell_type": "code",
   "execution_count": null,
   "id": "1bb03435",
   "metadata": {},
   "outputs": [],
   "source": [
    "    # knowing hypotenuse (hyp) find pythagorean width (w), height (h)\n",
    "    # by using the following rules:\n",
    "    # w**2 + h**2 = hyp**2\n",
    "    # w + h + hyp = sum\n",
    "    \n",
    "    # solving w or h is arbitrary.  The quadratic formula will return both w and h\n",
    "    # w = (sum - hyp) - h\n",
    "    # plugging formula for w back into pythagorean function:\n",
    "    # ((sum - hyp) - h)**2 + h**2 = hyp**2 =>\n",
    "    # ((sum - hyp)**2 - (2 * h * (sum - hyp)) + h**2) + h**2 = hyp**2 =>\n",
    "    # (sum - hyp)**2 - 2 * h *(sum - hyp) + 2 * h**2 = hyp**2 =>\n",
    "    # (sum - hyp)**2 - 2 * h *(sum - hyp) + 2 * h**2 - hyp**2 = 0 =>\n",
    "    # 2 * h**2 - (2 * (sum - hyp)) * h + ((sum - hyp)**2 - hyp**2) = 0 =>\n",
    "    \n",
    "    # write as ax**2 + bx + c = 0\n",
    "    # 2 * x**2 - (2 * (sum - hyp)) * x + ((sum - hyp)**2 - hyp**2) = 0\n",
    "    # a = 2\n",
    "    # b = -(2 * (sum - hyp))\n",
    "    # c = ((sum - hyp)**2 - hyp**2)\n",
    "    # h**2 - (sum - hyp) * h + ((sum - hyp)**2 - hyp**2) / 2 = 0\n",
    "    # write above in quadratic form:\n",
    "    # x**2 - (sum - h) * x + ((sum - h)**2 - h**2) / 2 = 0"
   ]
  }
 ],
 "metadata": {
  "kernelspec": {
   "display_name": "Python 3 (ipykernel)",
   "language": "python",
   "name": "python3"
  },
  "language_info": {
   "codemirror_mode": {
    "name": "ipython",
    "version": 3
   },
   "file_extension": ".py",
   "mimetype": "text/x-python",
   "name": "python",
   "nbconvert_exporter": "python",
   "pygments_lexer": "ipython3",
   "version": "3.10.8"
  }
 },
 "nbformat": 4,
 "nbformat_minor": 5
}

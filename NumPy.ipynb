{
 "cells": [
  {
   "cell_type": "markdown",
   "id": "40437792",
   "metadata": {},
   "source": [
    "# Learning NumPy\n",
    "\n",
    "https://youtu.be/lLRBYKwP8GQ"
   ]
  },
  {
   "cell_type": "code",
   "execution_count": 1,
   "id": "f694ff2f",
   "metadata": {},
   "outputs": [],
   "source": [
    "import numpy as np"
   ]
  },
  {
   "cell_type": "code",
   "execution_count": 6,
   "id": "5b5b97da",
   "metadata": {},
   "outputs": [
    {
     "name": "stdout",
     "output_type": "stream",
     "text": [
      "[3.  3.5 4.  4.5 5.  5.5 6.  6.5 7.  7.5 8.  8.5 9.  9.5]\n",
      "<class 'numpy.ndarray'>\n",
      "<class 'numpy.float64'>\n"
     ]
    }
   ],
   "source": [
    "my_array = np.arange(3,10,.5)\n",
    "print(my_array)\n",
    "print(type(my_array))\n",
    "print(type(my_array[0]))"
   ]
  },
  {
   "cell_type": "code",
   "execution_count": 7,
   "id": "67ee538e",
   "metadata": {},
   "outputs": [
    {
     "name": "stdout",
     "output_type": "stream",
     "text": [
      "['a' 'b' 'c']\n",
      "<class 'numpy.ndarray'>\n",
      "<class 'numpy.str_'>\n"
     ]
    }
   ],
   "source": [
    "from_lst = np.array(['a', 'b', 'c'])\n",
    "print(from_lst)\n",
    "print(type(from_lst))\n",
    "print(type(from_lst[0]))"
   ]
  },
  {
   "cell_type": "code",
   "execution_count": 5,
   "id": "251ab3d0",
   "metadata": {},
   "outputs": [
    {
     "name": "stdout",
     "output_type": "stream",
     "text": [
      "<class 'numpy.ndarray'>\n",
      "<class 'numpy.int64'>\n"
     ]
    }
   ],
   "source": [
    "from_num_lst = np.array([1,2,3])\n",
    "print(type(from_num_lst))\n",
    "print(type(from_num_lst[0]))"
   ]
  },
  {
   "cell_type": "code",
   "execution_count": 20,
   "id": "0d78c526",
   "metadata": {},
   "outputs": [
    {
     "name": "stdout",
     "output_type": "stream",
     "text": [
      "<class 'numpy.int8'>\n"
     ]
    }
   ],
   "source": [
    "less_space_list = np.array([1,2,127], dtype=np.int8)\n",
    "print(type(less_space_list[2]))"
   ]
  },
  {
   "cell_type": "code",
   "execution_count": 47,
   "id": "8cd6a9e8",
   "metadata": {},
   "outputs": [
    {
     "name": "stdout",
     "output_type": "stream",
     "text": [
      "[[0 1 2 3]\n",
      " [4 5 6 7]]\n",
      "<class 'numpy.ndarray'>\n",
      "<class 'numpy.ndarray'>\n",
      "<class 'numpy.int8'>\n"
     ]
    }
   ],
   "source": [
    "#array_2d = np.array([[1, 2, 3], [9, 10, 11]])\n",
    "array_2d = np.array([np.arange(4), [4,5,6,7]], dtype=np.int8)\n",
    "print(array_2d)\n",
    "print(type(array_2d))\n",
    "print(type(array_2d[0]))\n",
    "print(type(array_2d[0][0]))"
   ]
  },
  {
   "cell_type": "code",
   "execution_count": 48,
   "id": "1574a018",
   "metadata": {},
   "outputs": [
    {
     "data": {
      "text/plain": [
       "(2, 4)"
      ]
     },
     "execution_count": 48,
     "metadata": {},
     "output_type": "execute_result"
    }
   ],
   "source": [
    "array_2d.shape"
   ]
  },
  {
   "cell_type": "code",
   "execution_count": 49,
   "id": "97313baf",
   "metadata": {},
   "outputs": [
    {
     "data": {
      "text/plain": [
       "(14,)"
      ]
     },
     "execution_count": 49,
     "metadata": {},
     "output_type": "execute_result"
    }
   ],
   "source": [
    "my_array.shape"
   ]
  },
  {
   "cell_type": "code",
   "execution_count": 50,
   "id": "ac5edebb",
   "metadata": {},
   "outputs": [
    {
     "name": "stdout",
     "output_type": "stream",
     "text": [
      "[[0 1 2 3]\n",
      " [4 5 6 7]]\n",
      "\n",
      "[[0 1]\n",
      " [2 3]\n",
      " [4 5]\n",
      " [6 7]]\n"
     ]
    }
   ],
   "source": [
    "flipped_array_2d = array_2d.reshape(4,2)\n",
    "print(array_2d)\n",
    "print('')\n",
    "print(flipped_array_2d)"
   ]
  },
  {
   "cell_type": "code",
   "execution_count": 54,
   "id": "f36fd151",
   "metadata": {},
   "outputs": [
    {
     "name": "stdout",
     "output_type": "stream",
     "text": [
      "[0 1 2 3 4 5 6 7]\n",
      "\n",
      "[[0 1 2 3 4 5 6 7]]\n",
      "\n",
      "[[0]\n",
      " [1]\n",
      " [2]\n",
      " [3]\n",
      " [4]\n",
      " [5]\n",
      " [6]\n",
      " [7]]\n"
     ]
    }
   ],
   "source": [
    "print(flipped_array_2d.reshape(8))\n",
    "print('')\n",
    "print(flipped_array_2d.reshape(1,8))\n",
    "print('')\n",
    "print(flipped_array_2d.reshape(8,1))"
   ]
  },
  {
   "cell_type": "code",
   "execution_count": 58,
   "id": "31f8f16d",
   "metadata": {},
   "outputs": [
    {
     "name": "stdout",
     "output_type": "stream",
     "text": [
      "[[0. 0. 0. 0.]\n",
      " [0. 0. 0. 0.]]\n",
      "<class 'numpy.ndarray'>\n",
      "<class 'numpy.float64'>\n"
     ]
    }
   ],
   "source": [
    "empty = np.zeros((2,4))\n",
    "print(empty)\n",
    "print(type(empty))\n",
    "print(type(empty[0][0]))"
   ]
  },
  {
   "cell_type": "code",
   "execution_count": 61,
   "id": "005d6716",
   "metadata": {},
   "outputs": [
    {
     "name": "stdout",
     "output_type": "stream",
     "text": [
      "[[1. 1. 1. 1.]\n",
      " [1. 1. 1. 1.]]\n"
     ]
    }
   ],
   "source": [
    "ones = np.ones((2,4))\n",
    "print(ones)"
   ]
  },
  {
   "cell_type": "code",
   "execution_count": 63,
   "id": "0318d8da",
   "metadata": {},
   "outputs": [
    {
     "name": "stdout",
     "output_type": "stream",
     "text": [
      "[[1. 0. 0.]\n",
      " [0. 1. 0.]\n",
      " [0. 0. 1.]]\n"
     ]
    }
   ],
   "source": [
    "eye = np.eye(3) # \"eye\" stands for \"I\" (Identity Matrix)\n",
    "print(eye)"
   ]
  },
  {
   "cell_type": "code",
   "execution_count": 64,
   "id": "f3f7425f",
   "metadata": {},
   "outputs": [
    {
     "name": "stdout",
     "output_type": "stream",
     "text": [
      "[[0. 1. 0.]\n",
      " [0. 0. 1.]\n",
      " [0. 0. 0.]]\n"
     ]
    }
   ],
   "source": [
    "eye_k1 = np.eye(3, k=1)\n",
    "print(eye_k1)"
   ]
  },
  {
   "cell_type": "code",
   "execution_count": 65,
   "id": "b970ac2d",
   "metadata": {},
   "outputs": [
    {
     "name": "stdout",
     "output_type": "stream",
     "text": [
      "[[0. 0. 0.]\n",
      " [1. 0. 0.]\n",
      " [0. 1. 0.]]\n"
     ]
    }
   ],
   "source": [
    "eye_kneg1 = np.eye(3, k=-1)\n",
    "print(eye_kneg1)"
   ]
  },
  {
   "cell_type": "code",
   "execution_count": 66,
   "id": "016adf22",
   "metadata": {},
   "outputs": [],
   "source": [
    "?np.eye"
   ]
  },
  {
   "cell_type": "code",
   "execution_count": 67,
   "id": "d05341ff",
   "metadata": {},
   "outputs": [
    {
     "name": "stdout",
     "output_type": "stream",
     "text": [
      "[[0. 0. 1.]\n",
      " [0. 1. 0.]\n",
      " [1. 0. 0.]]\n"
     ]
    }
   ],
   "source": [
    "print(eye[::-1])"
   ]
  },
  {
   "cell_type": "code",
   "execution_count": null,
   "id": "868323c5",
   "metadata": {},
   "outputs": [],
   "source": []
  }
 ],
 "metadata": {
  "kernelspec": {
   "display_name": "Python 3 (ipykernel)",
   "language": "python",
   "name": "python3"
  },
  "language_info": {
   "codemirror_mode": {
    "name": "ipython",
    "version": 3
   },
   "file_extension": ".py",
   "mimetype": "text/x-python",
   "name": "python",
   "nbconvert_exporter": "python",
   "pygments_lexer": "ipython3",
   "version": "3.10.8"
  }
 },
 "nbformat": 4,
 "nbformat_minor": 5
}

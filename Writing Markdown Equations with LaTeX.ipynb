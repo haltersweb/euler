{
 "cells": [
  {
   "cell_type": "markdown",
   "id": "aad00420",
   "metadata": {},
   "source": [
    "# Writing Markdown Equations with LaTeX\n",
    "\n",
    "* [Jupyter{book} math and equations](https://jupyterbook.org/en/stable/content/math.html)\n",
    "* [Learn How to Write Markdown & LaTeX in The Jupyter Notebook](https://towardsdatascience.com/write-markdown-latex-in-the-jupyter-notebook-10985edb91fd)\n",
    "* [LaTex Math Formulas: a Cheat Sheet](https://forketyfork.medium.com/latex-math-formulas-a-cheat-sheet-21e5eca70aae)\n",
    "* [Cheatsheet for LaTex](https://gist.github.com/LKS90/252ac41bd4a173be35b0)\n",
    "\n",
    "## examples\n",
    "\n",
    "### inline using `$`\n",
    "\n",
    "$(a + b)^2 = (a + b)(a + b) = (a^2 + b^2) + 2ab$\n",
    "\n",
    "$\\sum_{i=0}^n\\,{i^2} = \\frac{n(2n+1)(n+1)}{6}$\n",
    "\n",
    "### block using `$$`\n",
    "\n",
    "$$\n",
    "(a + b)^2 = (a + b)(a + b) = (a^2 + b^2) + 2ab\\\\\n",
    " \\sum_{i=0}^n\\,{i^2} = \\frac{n(2n+1)(n+1)}{6}\n",
    "$$\n",
    "\n",
    "### some other examples\n",
    "* To add little spacing in math mode use `\\,`\n",
    "* To add a new line when in math mode use `\\\\`\n",
    "* To add text when in math mode use `\\text{Here is some text to print}`\n",
    "* To display fraction use `\\frac{arg 1}{arg 2}`\n",
    "* For power (superscripts text) use `^{}`\n",
    "* For indices (subscripts) use `_{}`\n",
    "* For roots use `\\sqrt[n]{arg}` (he `[n]` is optional)\n",
    "\n",
    "$$\n",
    "\\frac{arg 1}{arg 2} \\\\\n",
    "\\\\\n",
    "x^2\\\\\n",
    "e^{i\\pi}\\\\\n",
    "A_i\\\\\n",
    "B_{ij}\\\\\n",
    "\\sqrt{arg}\\\\\n",
    "\\sqrt[n]{arg}\t\n",
    "$$\n",
    "\n",
    "And there is sooooo much more (symbols, large curly braces, integrals, angles, limits). [Learn How to Write Markdown & LaTeX in The Jupyter Notebook](https://towardsdatascience.com/write-markdown-latex-in-the-jupyter-notebook-10985edb91fd) is a great resource.\n",
    "\n",
    "## bold, italics, underline, and more\n",
    "\n",
    "https://www.overleaf.com/learn/latex/Bold%2C_italics_and_underlining\n",
    "\n"
   ]
  },
  {
   "cell_type": "markdown",
   "id": "51c9908e",
   "metadata": {},
   "source": []
  },
  {
   "cell_type": "code",
   "execution_count": null,
   "id": "fc696ad3",
   "metadata": {},
   "outputs": [],
   "source": []
  }
 ],
 "metadata": {
  "kernelspec": {
   "display_name": "Python 3 (ipykernel)",
   "language": "python",
   "name": "python3"
  },
  "language_info": {
   "codemirror_mode": {
    "name": "ipython",
    "version": 3
   },
   "file_extension": ".py",
   "mimetype": "text/x-python",
   "name": "python",
   "nbconvert_exporter": "python",
   "pygments_lexer": "ipython3",
   "version": "3.10.8"
  }
 },
 "nbformat": 4,
 "nbformat_minor": 5
}

{
 "cells": [
  {
   "cell_type": "markdown",
   "id": "2daa71a1",
   "metadata": {},
   "source": [
    "# Power Digit Sum\n",
    "\n",
    "([Problem 16](https://projecteuler.net/problem=16))\n",
    "\n",
    "$2^{15} \\, = \\, 32768$ and the sum of its digits is $3 + 2 + 7 + 6 + 8 = 26$.\n",
    "\n",
    "What is the sum of the digits of the number $2^{1000}$?"
   ]
  },
  {
   "cell_type": "code",
   "execution_count": 6,
   "id": "cce34ee8",
   "metadata": {},
   "outputs": [],
   "source": [
    "def power_digit_sum(exp):\n",
    "    product = str(2**exp)\n",
    "    digits = [int(n) for n in product]\n",
    "    return sum(digits)"
   ]
  },
  {
   "cell_type": "code",
   "execution_count": 8,
   "id": "b7feea61",
   "metadata": {},
   "outputs": [
    {
     "data": {
      "text/plain": [
       "1366"
      ]
     },
     "execution_count": 8,
     "metadata": {},
     "output_type": "execute_result"
    }
   ],
   "source": [
    "power_digit_sum(1000)"
   ]
  },
  {
   "cell_type": "code",
   "execution_count": null,
   "id": "d697169b",
   "metadata": {},
   "outputs": [],
   "source": []
  }
 ],
 "metadata": {
  "kernelspec": {
   "display_name": "Python 3 (ipykernel)",
   "language": "python",
   "name": "python3"
  },
  "language_info": {
   "codemirror_mode": {
    "name": "ipython",
    "version": 3
   },
   "file_extension": ".py",
   "mimetype": "text/x-python",
   "name": "python",
   "nbconvert_exporter": "python",
   "pygments_lexer": "ipython3",
   "version": "3.10.8"
  }
 },
 "nbformat": 4,
 "nbformat_minor": 5
}

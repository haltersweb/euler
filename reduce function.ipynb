{
 "cells": [
  {
   "cell_type": "markdown",
   "id": "62a99aa3",
   "metadata": {},
   "source": [
    "# reduce function\n",
    "\n",
    "`reduce(function, iterable[, initializer])`\n",
    "\n",
    "* reduce() applies a function to an iterable and __returns__ a __cumulative__ value\n",
    "* the function is often written as a __lambda__ with two values (i.e. x, y)\n",
    "* performs function on __first two elements__ (i.e. x, y) and repeats until the end of the iterable\n",
    "* initializer is optional and acts as a __seed value__ to start with"
   ]
  },
  {
   "cell_type": "code",
   "execution_count": 3,
   "id": "3c1492c0",
   "metadata": {},
   "outputs": [],
   "source": [
    "import functools"
   ]
  },
  {
   "cell_type": "code",
   "execution_count": 4,
   "id": "538cb94a",
   "metadata": {},
   "outputs": [
    {
     "name": "stdout",
     "output_type": "stream",
     "text": [
      "32\n"
     ]
    }
   ],
   "source": [
    "# add a fibonacci sequence\n",
    "numbers_to_add = [\"1\", \"2\", \"3\", \"5\", \"8\", \"13\"]\n",
    "total = functools.reduce(lambda x,y: int(x) + int(y), numbers_to_add)\n",
    "print(total)"
   ]
  },
  {
   "cell_type": "code",
   "execution_count": 6,
   "id": "ec16b697",
   "metadata": {},
   "outputs": [
    {
     "name": "stdout",
     "output_type": "stream",
     "text": [
      "7000\n"
     ]
    }
   ],
   "source": [
    "# multiply three values to 100\n",
    "numbers_to_multiply = [2, 5, 7]\n",
    "product = functools.reduce(lambda x, y: x * y, numbers_to_multiply, 100)\n",
    "print(product)"
   ]
  },
  {
   "cell_type": "code",
   "execution_count": null,
   "id": "683af0c3",
   "metadata": {},
   "outputs": [],
   "source": []
  }
 ],
 "metadata": {
  "kernelspec": {
   "display_name": "Python 3 (ipykernel)",
   "language": "python",
   "name": "python3"
  },
  "language_info": {
   "codemirror_mode": {
    "name": "ipython",
    "version": 3
   },
   "file_extension": ".py",
   "mimetype": "text/x-python",
   "name": "python",
   "nbconvert_exporter": "python",
   "pygments_lexer": "ipython3",
   "version": "3.10.8"
  }
 },
 "nbformat": 4,
 "nbformat_minor": 5
}

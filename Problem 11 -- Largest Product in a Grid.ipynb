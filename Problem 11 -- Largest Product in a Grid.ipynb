{
 "cells": [
  {
   "cell_type": "markdown",
   "id": "12a5f37f",
   "metadata": {},
   "source": [
    "# Largest Product in a Grid\n",
    "\n",
    "([Problem 11](https://projecteuler.net/problem=11))\n",
    "\n",
    "In the $20x20$ grid below, four numbers along a diagonal line have been marked in red.\n",
    "\n",
    "08 02 22 97 38 15 00 40 00 75 04 05 07 78 52 12 50 77 91 08\n",
    "\n",
    "49 49 99 40 17 81 18 57 60 87 17 40 98 43 69 48 04 56 62 00\n",
    "\n",
    "81 49 31 73 55 79 14 29 93 71 40 67 53 88 30 03 49 13 36 65\n",
    "\n",
    "52 70 95 23 04 60 11 42 69 24 68 56 01 32 56 71 37 02 36 91\n",
    "\n",
    "22 31 16 71 51 67 63 89 41 92 36 54 22 40 40 28 66 33 13 80\n",
    "\n",
    "24 47 32 60 99 03 45 02 44 75 33 53 78 36 84 20 35 17 12 50\n",
    "\n",
    "32 98 81 28 64 23 67 10 <span style=\"color:red\">26</span> 38 40 67 59 54 70 66 18 38 64 70\n",
    "\n",
    "67 26 20 68 02 62 12 20 95 <span style=\"color:red\">63</span> 94 39 63 08 40 91 66 49 94 21\n",
    "\n",
    "24 55 58 05 66 73 99 26 97 17 <span style=\"color:red\">78</span> 78 96 83 14 88 34 89 63 72\n",
    "\n",
    "21 36 23 09 75 00 76 44 20 45 35 <span style=\"color:red\">14</span> 00 61 33 97 34 31 33 95\n",
    "\n",
    "78 17 53 28 22 75 31 67 15 94 03 80 04 62 16 14 09 53 56 92\n",
    "\n",
    "16 39 05 42 96 35 31 47 55 58 88 24 00 17 54 24 36 29 85 57\n",
    "\n",
    "86 56 00 48 35 71 89 07 05 44 44 37 44 60 21 58 51 54 17 58\n",
    "\n",
    "19 80 81 68 05 94 47 69 28 73 92 13 86 52 17 77 04 89 55 40\n",
    "\n",
    "04 52 08 83 97 35 99 16 07 97 57 32 16 26 26 79 33 27 98 66\n",
    "\n",
    "88 36 68 87 57 62 20 72 03 46 33 67 46 55 12 32 63 93 53 69\n",
    "\n",
    "04 42 16 73 38 25 39 11 24 94 72 18 08 46 29 32 40 62 76 36\n",
    "\n",
    "20 69 36 41 72 30 23 88 34 62 99 69 82 67 59 85 74 04 36 16\n",
    "\n",
    "20 73 35 29 78 31 90 01 74 31 49 71 48 86 81 16 23 57 05 54\n",
    "\n",
    "01 70 54 71 83 51 54 69 16 92 33 48 61 43 52 01 89 19 67 48\n",
    "\n",
    "The product of these numbers is $26 x 63 x 78 x 14 = 1788696$.\n",
    "\n",
    "What is the greatest product of four adjacent numbers in the same direction (up, down, left, right, or diagonally) in the $20 x 20$ grid?"
   ]
  },
  {
   "cell_type": "markdown",
   "id": "ecd11134",
   "metadata": {},
   "source": [
    "## thoughts"
   ]
  },
  {
   "cell_type": "code",
   "execution_count": null,
   "id": "64effce1",
   "metadata": {},
   "outputs": [],
   "source": [
    "foo = [\n",
    "    [8, 2, 22, 97, 38, 15],\n",
    "    [49, 49, 99, 40, 17, 81],\n",
    "    [81, 49, 31, 73, 55, 79],\n",
    "    [52, 70, 95, 23, 4, 60],\n",
    "    [22, 31, 16, 71, 51, 67],\n",
    "    [24, 47, 32, 60, 99, 3]\n",
    "]\n",
    "print(foo)"
   ]
  },
  {
   "cell_type": "code",
   "execution_count": null,
   "id": "5385b3dd",
   "metadata": {},
   "outputs": [],
   "source": [
    "anchor = [row,column]\n",
    "row = 1\n",
    "column = 1\n",
    "h = [foo[0][:4]]\n",
    "v = [foo]"
   ]
  },
  {
   "cell_type": "code",
   "execution_count": null,
   "id": "62efc947",
   "metadata": {},
   "outputs": [],
   "source": [
    "import numpy as np\n",
    "yada = np.array([[1,4,5], [2,9,6], [3,4,12]])\n",
    "print(yada)"
   ]
  },
  {
   "cell_type": "code",
   "execution_count": null,
   "id": "f41576e1",
   "metadata": {},
   "outputs": [],
   "source": [
    "zeros = np.zeros((3,3))\n",
    "print(zeros)"
   ]
  },
  {
   "cell_type": "code",
   "execution_count": null,
   "id": "9967d316",
   "metadata": {},
   "outputs": [],
   "source": [
    "r1 = np.zeros((3,3))\n",
    "r1[0] = np.ones((1,3))\n",
    "print(r1)"
   ]
  },
  {
   "cell_type": "code",
   "execution_count": null,
   "id": "fb38a23b",
   "metadata": {},
   "outputs": [],
   "source": [
    "c1 = r1.transpose()\n",
    "c1"
   ]
  },
  {
   "cell_type": "code",
   "execution_count": null,
   "id": "f87557df",
   "metadata": {},
   "outputs": [],
   "source": [
    "row = yada * r1\n",
    "print(row)"
   ]
  },
  {
   "cell_type": "code",
   "execution_count": null,
   "id": "bee4b5bd",
   "metadata": {},
   "outputs": [],
   "source": [
    "col = yada * c1\n",
    "print(col)"
   ]
  },
  {
   "cell_type": "code",
   "execution_count": null,
   "id": "47ffc33e",
   "metadata": {},
   "outputs": [],
   "source": [
    "eye_lr = np.eye(3)\n",
    "print(eye_lr)"
   ]
  },
  {
   "cell_type": "code",
   "execution_count": null,
   "id": "054af8e2",
   "metadata": {},
   "outputs": [],
   "source": [
    "eye_rl = eye_lr[::-1]\n",
    "eye_rl"
   ]
  },
  {
   "cell_type": "code",
   "execution_count": null,
   "id": "e8f22ea6",
   "metadata": {},
   "outputs": [],
   "source": [
    "import math"
   ]
  },
  {
   "cell_type": "code",
   "execution_count": null,
   "id": "0a74564e",
   "metadata": {},
   "outputs": [],
   "source": [
    "math.prod(row[0])"
   ]
  },
  {
   "cell_type": "code",
   "execution_count": null,
   "id": "8ea29ae3",
   "metadata": {},
   "outputs": [],
   "source": [
    "math.prod(col.transpose()[0])"
   ]
  },
  {
   "cell_type": "code",
   "execution_count": null,
   "id": "fd7fe429",
   "metadata": {},
   "outputs": [],
   "source": [
    "d1 = yada * eye_lr\n",
    "print(d1)"
   ]
  },
  {
   "cell_type": "code",
   "execution_count": null,
   "id": "e6f15aa9",
   "metadata": {},
   "outputs": [],
   "source": [
    "sum(d1)"
   ]
  },
  {
   "cell_type": "code",
   "execution_count": null,
   "id": "1a194a24",
   "metadata": {},
   "outputs": [],
   "source": [
    "math.prod(sum(d1))"
   ]
  },
  {
   "cell_type": "markdown",
   "id": "ee34c1c3",
   "metadata": {},
   "source": [
    "## first try with 6d array"
   ]
  },
  {
   "cell_type": "code",
   "execution_count": null,
   "id": "6cee55e2",
   "metadata": {},
   "outputs": [],
   "source": [
    "import numpy as np\n",
    "import math"
   ]
  },
  {
   "cell_type": "code",
   "execution_count": null,
   "id": "4791542c",
   "metadata": {},
   "outputs": [],
   "source": [
    "matrix = np.array(foo)\n",
    "print(matrix)"
   ]
  },
  {
   "cell_type": "code",
   "execution_count": null,
   "id": "581eeaa1",
   "metadata": {},
   "outputs": [],
   "source": [
    "rows = matrix\n",
    "print(rows)"
   ]
  },
  {
   "cell_type": "code",
   "execution_count": null,
   "id": "f02cdbc5",
   "metadata": {},
   "outputs": [],
   "source": [
    "columns = matrix.transpose()\n",
    "print(columns)"
   ]
  },
  {
   "cell_type": "code",
   "execution_count": null,
   "id": "3770ba3e",
   "metadata": {},
   "outputs": [],
   "source": [
    "diagonals = []\n",
    "for i in range(-len(matrix)+4, len(matrix)-(4-1)):\n",
    "    diagonals.append(np.eye(6, k=i, dtype=np.int8))\n",
    "print(diagonals[0])"
   ]
  },
  {
   "cell_type": "code",
   "execution_count": null,
   "id": "e39df7e9",
   "metadata": {},
   "outputs": [],
   "source": [
    "bar = rows.tolist() + columns.tolist()\n",
    "print(bar)"
   ]
  },
  {
   "cell_type": "code",
   "execution_count": null,
   "id": "b4f0d811",
   "metadata": {},
   "outputs": [],
   "source": [
    "print(matrix)"
   ]
  },
  {
   "cell_type": "code",
   "execution_count": null,
   "id": "656f3865",
   "metadata": {},
   "outputs": [],
   "source": [
    "for d in diagonals:\n",
    "    print(d)\n",
    "    print('')\n",
    "# "
   ]
  },
  {
   "cell_type": "code",
   "execution_count": null,
   "id": "627739db",
   "metadata": {},
   "outputs": [],
   "source": [
    "b, e = 0, 4 # these will be used to slice leading or trailing zeros\n",
    "for d in diagonals:\n",
    "    nums = sum(matrix * d)\n",
    "    opp_nums = sum(matrix * d[::-1])\n",
    "    bar.append((nums[b:e]).tolist())\n",
    "    bar.append((opp_nums[b:e]).tolist())\n",
    "    e += 1\n",
    "    if e > 6:\n",
    "        e, b = 6, b + 1"
   ]
  },
  {
   "cell_type": "code",
   "execution_count": null,
   "id": "c7e126dc",
   "metadata": {},
   "outputs": [],
   "source": [
    "print(bar)"
   ]
  },
  {
   "cell_type": "code",
   "execution_count": null,
   "id": "f0f442e9",
   "metadata": {},
   "outputs": [],
   "source": [
    "import numpy as np\n",
    "import math\n",
    "\n",
    "foo = [\n",
    "    [8, 2, 22, 97, 38, 15],\n",
    "    [49, 49, 99, 40, 17, 81],\n",
    "    [81, 49, 31, 73, 55, 79],\n",
    "    [52, 70, 95, 23, 4, 60],\n",
    "    [22, 31, 16, 71, 51, 67],\n",
    "    [24, 47, 32, 60, 99, 3]\n",
    "]\n",
    "rows = np.array(foo)\n",
    "columns = rows.transpose()\n",
    "diag_Is = [] # diagonal identity matrices\n",
    "for i in range(-len(rows)+4, len(rows)-(4-1)):\n",
    "    diag_Is.append(np.eye(6, k=i))\n",
    "sequentials = rows.tolist() + columns.tolist()\n",
    "b, e = 0, 4 # these will be used to slice leading or trailing zeros\n",
    "for d in diag_Is:\n",
    "    nums = sum(rows * d)\n",
    "    opp_nums = sum(rows * d[::-1])\n",
    "    sequentials.append((nums[b:e]).tolist())\n",
    "    sequentials.append((opp_nums[b:e]).tolist())\n",
    "    e += 1\n",
    "    if e > 6:\n",
    "        e, b = 6, b + 1\n",
    "greatest = 0\n",
    "for s in sequentials:\n",
    "    for j in range(len(s) - 4 + 1):\n",
    "        b = j\n",
    "        e = b + 4\n",
    "        prod = int(math.prod(s[b:e]))\n",
    "        if prod > greatest:\n",
    "            greatest = prod\n",
    "print(greatest)"
   ]
  },
  {
   "cell_type": "markdown",
   "id": "bbf95467",
   "metadata": {},
   "source": [
    "## my solution\n",
    "\n",
    "Processing speed: super fast at only 2ms!!!\n",
    "\n",
    "I also kept memory usage down by only using `np.int8` rather than default `float`s and `np.int64`.\n",
    "\n",
    "My solution used numpy arrays for matrix manipulation efficiency.  The process included collecting row, column, and diagonal number lists (if the diagonal lengths were `>= 4`) from a numpy matrix of the grid.  Then testing the product of all 4-digit sequences found in each list."
   ]
  },
  {
   "cell_type": "code",
   "execution_count": 10,
   "id": "23359393",
   "metadata": {},
   "outputs": [
    {
     "data": {
      "text/plain": [
       "70600674"
      ]
     },
     "execution_count": 10,
     "metadata": {},
     "output_type": "execute_result"
    }
   ],
   "source": [
    "def find_greatest_product(grid, sequence_length):\n",
    "    import numpy as np\n",
    "    import math\n",
    "    \n",
    "    dimension = len(grid)\n",
    "    matrix = np.array(grid, dtype=np.int8)\n",
    "    diag_Is = [] # diagonal identity matrix collection\n",
    "    greatest = 0\n",
    "    \n",
    "    #make diagonal identity matrices\n",
    "    for i in range(-len(matrix) + sequence_length, len(matrix) - (sequence_length - 1)):\n",
    "        diag_Is.append(np.eye(dimension, k=i, dtype=np.int8))\n",
    "        \n",
    "    # collect rows and columns as lists of sequential numbers\n",
    "    sequentials = matrix.tolist() + matrix.transpose().tolist()\n",
    "    \n",
    "    # add the lists of diagonal sequential numbers to sequentials collection\n",
    "    b, e = 0, sequence_length # these will be used to slice leading or trailing zeros\n",
    "    for d in diag_Is:\n",
    "        nums = sum(matrix * d)\n",
    "        opp_nums = sum(matrix * d[::-1])\n",
    "        sequentials.append((nums[b:e]).tolist())\n",
    "        sequentials.append((opp_nums[b:e]).tolist())\n",
    "        e += 1\n",
    "        if e > dimension:\n",
    "            e, b = dimension, b + 1\n",
    "            \n",
    "    # test 4-sequence numbers for largest product\n",
    "    for s in sequentials:\n",
    "        for j in range(len(s) - sequence_length + 1):\n",
    "            b = j\n",
    "            e = b + sequence_length\n",
    "            prod = int(math.prod(s[b:e]))\n",
    "            if prod > greatest:\n",
    "                greatest = prod\n",
    "    \n",
    "    # return the greatest product\n",
    "    return greatest\n",
    "    \n",
    "grid = [\n",
    "    [8, 2, 22, 97, 38, 15, 0, 40, 0, 75, 4, 5, 7, 78, 52, 12, 50, 77, 91, 8],\n",
    "    [49, 49, 99, 40, 17, 81, 18, 57, 60, 87, 17, 40, 98, 43, 69, 48, 4, 56, 62, 0],\n",
    "    [81, 49, 31, 73, 55, 79, 14, 29, 93, 71, 40, 67, 53, 88, 30, 3, 49, 13, 36, 65],\n",
    "    [52, 70, 95, 23, 4, 60, 11, 42, 69, 24, 68, 56, 1, 32, 56, 71, 37, 2, 36, 91],\n",
    "    [22, 31, 16, 71, 51, 67, 63, 89, 41, 92, 36, 54, 22, 40, 40, 28, 66, 33, 13, 80],\n",
    "    [24, 47, 32, 60, 99, 3, 45, 2, 44, 75, 33, 53, 78, 36, 84, 20, 35, 17, 12, 50],\n",
    "    [32, 98, 81, 28, 64, 23, 67, 10, 26, 38, 40, 67, 59, 54, 70, 66, 18, 38, 64, 70],\n",
    "    [67, 26, 20, 68, 2, 62, 12, 20, 95, 63, 94, 39, 63, 8, 40, 91, 66, 49, 94, 21],\n",
    "    [24, 55, 58, 5, 66, 73, 99, 26, 97, 17, 78, 78, 96, 83, 14, 88, 34, 89, 63, 72],\n",
    "    [21, 36, 23, 9, 75, 0, 76, 44, 20, 45, 35, 14, 0, 61, 33, 97, 34, 31, 33, 95],\n",
    "    [78, 17, 53, 28, 22, 75, 31, 67, 15, 94, 3, 80, 4, 62, 16, 14, 9, 53, 56, 92],\n",
    "    [16, 39, 5, 42, 96, 35, 31, 47, 55, 58, 88, 24, 0, 17, 54, 24, 36, 29, 85, 57],\n",
    "    [86, 56, 0, 48, 35, 71, 89, 7, 5, 44, 44, 37, 44, 60, 21, 58, 51, 54, 17, 58],\n",
    "    [19, 80, 81, 68, 5, 94, 47, 69, 28, 73, 92, 13, 86, 52, 17, 77, 4, 89, 55, 40],\n",
    "    [4, 52, 8, 83, 97, 35, 99, 16, 7, 97, 57, 32, 16, 26, 26, 79, 33, 27, 98, 66],\n",
    "    [88, 36, 68, 87, 57, 62, 20, 72, 3, 46, 33, 67, 46, 55, 12, 32, 63, 93, 53, 69],\n",
    "    [4, 42, 16, 73, 38, 25, 39, 11, 24, 94, 72, 18, 8, 46, 29, 32, 40, 62, 76, 36],\n",
    "    [20, 69, 36, 41, 72, 30, 23, 88, 34, 62, 99, 69, 82, 67, 59, 85, 74, 4, 36, 16],\n",
    "    [20, 73, 35, 29, 78, 31, 90, 1, 74, 31, 49, 71, 48, 86, 81, 16, 23, 57, 5, 54],\n",
    "    [1, 70, 54, 71, 83, 51, 54, 69, 16, 92, 33, 48, 61, 43, 52, 1, 89, 19, 67, 48]\n",
    "]\n",
    "    \n",
    "find_greatest_product(grid, 4)"
   ]
  },
  {
   "cell_type": "code",
   "execution_count": 9,
   "id": "398479b0",
   "metadata": {},
   "outputs": [
    {
     "name": "stdout",
     "output_type": "stream",
     "text": [
      "70600674\n"
     ]
    },
    {
     "data": {
      "text/plain": [
       "'2.3746299743652344ms'"
      ]
     },
     "execution_count": 9,
     "metadata": {},
     "output_type": "execute_result"
    }
   ],
   "source": [
    "test_time(find_greatest_product, (grid, 4), 25)"
   ]
  },
  {
   "cell_type": "markdown",
   "id": "6ee0a4e5",
   "metadata": {},
   "source": [
    "## timer"
   ]
  },
  {
   "cell_type": "code",
   "execution_count": 2,
   "id": "760def14",
   "metadata": {},
   "outputs": [],
   "source": [
    "def test_time(func_to_test, any_params=(), num_times_to_run=5):\n",
    "    import time\n",
    "    start = time.time()\n",
    "\n",
    "    for i in range(num_times_to_run):\n",
    "        results = func_to_test(*any_params)\n",
    "\n",
    "    end = time.time()\n",
    "    print(results)\n",
    "    return str((end - start) * 10**3 / num_times_to_run) + \"ms\""
   ]
  },
  {
   "cell_type": "markdown",
   "id": "4f29332b",
   "metadata": {},
   "source": [
    "## other solution(s)"
   ]
  },
  {
   "cell_type": "code",
   "execution_count": null,
   "id": "5c17c503",
   "metadata": {},
   "outputs": [],
   "source": []
  }
 ],
 "metadata": {
  "kernelspec": {
   "display_name": "Python 3 (ipykernel)",
   "language": "python",
   "name": "python3"
  },
  "language_info": {
   "codemirror_mode": {
    "name": "ipython",
    "version": 3
   },
   "file_extension": ".py",
   "mimetype": "text/x-python",
   "name": "python",
   "nbconvert_exporter": "python",
   "pygments_lexer": "ipython3",
   "version": "3.10.8"
  }
 },
 "nbformat": 4,
 "nbformat_minor": 5
}

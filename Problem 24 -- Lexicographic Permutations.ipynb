{
 "cells": [
  {
   "cell_type": "markdown",
   "id": "ee0cf154",
   "metadata": {},
   "source": [
    "# Lexicographic Permutations\n",
    "([Problem 24](https://projecteuler.net/problem=24))\n",
    "\n",
    "A __permutation__ is an ordered arrangement of objects.\n",
    "\n",
    "For example, $3124$ is one possible permutation of the digits $1, 2, 3 \\ \\text{and} \\ 4$.\n",
    "\n",
    "If all of the permutations are listed __numerically or alphabetically__, we call it __lexicographic order__.\n",
    "\n",
    "The lexicographic permutations of $0, 1 \\ \\text{and} \\ 2$ are:\n",
    "\n",
    "$012 \\ \\ 021 \\ \\ 102 \\ \\ 120 \\ \\ 201 \\ \\ 210$\n",
    "\n",
    "What is the millionth lexicographic permutation of the digits $0, 1, 2, 3, 4, 5, 6, 7, 8 \\ \\text{and} \\ 9$?"
   ]
  },
  {
   "cell_type": "markdown",
   "id": "b5c9ba5c",
   "metadata": {},
   "source": [
    "## my solution\n",
    "\n",
    "I [used this video](https://youtu.be/V09mR5__qMQ) to help me understand the pattern"
   ]
  },
  {
   "cell_type": "code",
   "execution_count": 2,
   "id": "1ff7f227",
   "metadata": {},
   "outputs": [],
   "source": [
    "def find_by_rank(lst, rank):\n",
    "    import math\n",
    "    find = rank - 1 # (-1 since working with indexes)\n",
    "    lst = [str(el) for el in lst] # work with strings for easy .join() later\n",
    "    lst.sort()\n",
    "    ranked = []\n",
    "    while len(lst) > 0:\n",
    "        cluster = math.factorial(len(lst) - 1)\n",
    "        index = find // cluster\n",
    "        find = find % cluster\n",
    "        ranked.append(lst.pop(index))\n",
    "    return(('').join(ranked))"
   ]
  },
  {
   "cell_type": "markdown",
   "id": "a5217907",
   "metadata": {},
   "source": [
    "## first try to find the 50th lexographic permutation of PARIS"
   ]
  },
  {
   "cell_type": "code",
   "execution_count": 3,
   "id": "e3ba71eb",
   "metadata": {},
   "outputs": [
    {
     "data": {
      "text/plain": [
       "'PAISR'"
      ]
     },
     "execution_count": 3,
     "metadata": {},
     "output_type": "execute_result"
    }
   ],
   "source": [
    "find_by_rank(['P', 'A', 'R', 'I', 'S'], 50) # PAISR"
   ]
  },
  {
   "cell_type": "markdown",
   "id": "62bc2207",
   "metadata": {},
   "source": [
    "## find 14th lexographic permutation of 0,1,2,3 = 2031\n",
    "\n",
    "```\n",
    "0123, 0132, 0213, 0231, 0312, 0321,\n",
    "1023, 1032, 1203, 1230, 1302, 1320,\n",
    "2013, 2031, 2103, 2130, 2301, 2310,\n",
    "3012, 3021, 3102, 3120, 3201, 3210\n",
    "```"
   ]
  },
  {
   "cell_type": "code",
   "execution_count": 4,
   "id": "6237a9aa",
   "metadata": {},
   "outputs": [
    {
     "data": {
      "text/plain": [
       "'2031'"
      ]
     },
     "execution_count": 4,
     "metadata": {},
     "output_type": "execute_result"
    }
   ],
   "source": [
    "find_by_rank(['0', '1', '2', '3'], 14) # 2031"
   ]
  },
  {
   "cell_type": "markdown",
   "id": "4aad9c7f",
   "metadata": {},
   "source": [
    "## 1M lexographic permutation of \\[0,1,2,3,4,5,6,7,8,9\\]"
   ]
  },
  {
   "cell_type": "code",
   "execution_count": 5,
   "id": "317f6aa6",
   "metadata": {},
   "outputs": [
    {
     "name": "stdout",
     "output_type": "stream",
     "text": [
      "2783915460\n"
     ]
    },
    {
     "data": {
      "text/plain": [
       "'0.010061264038085938ms'"
      ]
     },
     "execution_count": 5,
     "metadata": {},
     "output_type": "execute_result"
    }
   ],
   "source": [
    "test_time(find_by_rank, ([0,1,2,3,4,5,6,7,8,9], 1000000)) # 2783915460"
   ]
  },
  {
   "cell_type": "markdown",
   "id": "fadfbe4a",
   "metadata": {},
   "source": [
    "## timing"
   ]
  },
  {
   "cell_type": "code",
   "execution_count": 1,
   "id": "3420c68d",
   "metadata": {},
   "outputs": [],
   "source": [
    "def test_time(func_to_test, any_params=(), num_times_to_run=5, print_results=True):\n",
    "    import time\n",
    "    start = time.time()\n",
    "\n",
    "    for i in range(num_times_to_run):\n",
    "        results = func_to_test(*any_params)\n",
    "\n",
    "    end = time.time()\n",
    "    if print_results:\n",
    "        print(results)\n",
    "    return str((end - start) * 10**3 / num_times_to_run) + \"ms\""
   ]
  },
  {
   "cell_type": "code",
   "execution_count": null,
   "id": "4f4d36aa",
   "metadata": {},
   "outputs": [],
   "source": []
  }
 ],
 "metadata": {
  "kernelspec": {
   "display_name": "Python 3 (ipykernel)",
   "language": "python",
   "name": "python3"
  },
  "language_info": {
   "codemirror_mode": {
    "name": "ipython",
    "version": 3
   },
   "file_extension": ".py",
   "mimetype": "text/x-python",
   "name": "python",
   "nbconvert_exporter": "python",
   "pygments_lexer": "ipython3",
   "version": "3.10.8"
  }
 },
 "nbformat": 4,
 "nbformat_minor": 5
}

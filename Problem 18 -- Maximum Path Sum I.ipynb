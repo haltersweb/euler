{
 "cells": [
  {
   "cell_type": "markdown",
   "id": "dba5de23",
   "metadata": {},
   "source": [
    "# Maximum Path Sum I\n",
    "([Project 18](https://projecteuler.net/problem=18))\n",
    "\n",
    "By starting at the top of the triangle below and moving to adjacent numbers on the row below, the maximum total from top to bottom is $23$. (maximum means that you take the path that adds up to the highest number)\n",
    "$$\n",
    "3\\\\\n",
    "7\\ \\ 4\\\\\n",
    "2\\ \\ 4\\ \\ 6\\\\\n",
    "8\\ \\ 5\\ \\ 9\\ \\ 3\\\\\n",
    "$$\n",
    "That is, $3 + 7 + 4 + 9 = 23$.\n",
    "\n",
    "Find the maximum total from top to bottom of the triangle below:\n",
    "$$\n",
    "75\\\\\n",
    "95 \\ \\ 64\\\\\n",
    "17 \\ \\ 47 \\ \\ 82\\\\\n",
    "18 \\ \\ 35 \\ \\ 87 \\ \\ 10\\\\\n",
    "20 \\ \\ 04 \\ \\ 82 \\ \\ 47 \\ \\ 65\\\\\n",
    "19 \\ \\ 01 \\ \\ 23 \\ \\ 75 \\ \\ 03 \\ \\ 34\\\\\n",
    "88 \\ \\ 02 \\ \\ 77 \\ \\ 73 \\ \\ 07 \\ \\ 63 \\ \\ 67\\\\\n",
    "99 \\ \\ 65 \\ \\ 04 \\ \\ 28 \\ \\ 06 \\ \\ 16 \\ \\ 70 \\ \\ 92\\\\\n",
    "41 \\ \\ 41 \\ \\ 26 \\ \\ 56 \\ \\ 83 \\ \\ 40 \\ \\ 80 \\ \\ 70 \\ \\ 33\\\\\n",
    "41 \\ \\ 48 \\ \\ 72 \\ \\ 33 \\ \\ 47 \\ \\ 32 \\ \\ 37 \\ \\ 16 \\ \\ 94 \\ \\ 29\\\\\n",
    "53 \\ \\ 71 \\ \\ 44 \\ \\ 65 \\ \\ 25 \\ \\ 43 \\ \\ 91 \\ \\ 52 \\ \\ 97 \\ \\ 51 \\ \\ 14\\\\\n",
    "70 \\ \\ 11 \\ \\ 33 \\ \\ 28 \\ \\ 77 \\ \\ 73 \\ \\ 17 \\ \\ 78 \\ \\ 39 \\ \\ 68 \\ \\ 17 \\ \\ 57\\\\\n",
    "91 \\ \\ 71 \\ \\ 52 \\ \\ 38 \\ \\ 17 \\ \\ 14 \\ \\ 91 \\ \\ 43 \\ \\ 58 \\ \\ 50 \\ \\ 27 \\ \\ 29 \\ \\ 48\\\\\n",
    "63 \\ \\ 66 \\ \\ 04 \\ \\ 68 \\ \\ 89 \\ \\ 53 \\ \\ 67 \\ \\ 30 \\ \\ 73 \\ \\ 16 \\ \\ 69 \\ \\ 87 \\ \\ 40 \\ \\ 31\\\\\n",
    "04 \\ \\ 62 \\ \\ 98 \\ \\ 27 \\ \\ 23 \\ \\ 09 \\ \\ 70 \\ \\ 98 \\ \\ 73 \\ \\ 93 \\ \\ 38 \\ \\ 53 \\ \\ 60 \\ \\ 04 \\ \\ 23\n",
    "$$\n",
    "\n",
    "## Thoughts\n",
    "\n",
    "The triangle can be rotated $-45 \\ degrees$ into ever expanding rows of arrays\n",
    "\n",
    "$75$\n",
    "\n",
    "$95 \\ \\ 64$\n",
    "\n",
    "$17 \\ \\ 47 \\ \\ 82$\n",
    "\n",
    "$18 \\ \\ 35 \\ \\ 87 \\ \\ 10$\n",
    "\n",
    "$20 \\ \\ 04 \\ \\ 82 \\ \\ 47 \\ \\ 65$\n",
    "\n",
    "$19 \\ \\ 01 \\ \\ 23 \\ \\ 75 \\ \\ 03 \\ \\ 34$\n",
    "\n",
    "$88 \\ \\ 02 \\ \\ 77 \\ \\ 73 \\ \\ 07 \\ \\ 63 \\ \\ 67$\n",
    "\n",
    "$99 \\ \\ 65 \\ \\ 04 \\ \\ 28 \\ \\ 06 \\ \\ 16 \\ \\ 70 \\ \\ 92$\n",
    "\n",
    "$41 \\ \\ 41 \\ \\ 26 \\ \\ 56 \\ \\ 83 \\ \\ 40 \\ \\ 80 \\ \\ 70 \\ \\ 33$\n",
    "\n",
    "$41 \\ \\ 48 \\ \\ 72 \\ \\ 33 \\ \\ 47 \\ \\ 32 \\ \\ 37 \\ \\ 16 \\ \\ 94 \\ \\ 29$\n",
    "\n",
    "$53 \\ \\ 71 \\ \\ 44 \\ \\ 65 \\ \\ 25 \\ \\ 43 \\ \\ 91 \\ \\ 52 \\ \\ 97 \\ \\ 51 \\ \\ 14$\n",
    "\n",
    "$70 \\ \\ 11 \\ \\ 33 \\ \\ 28 \\ \\ 77 \\ \\ 73 \\ \\ 17 \\ \\ 78 \\ \\ 39 \\ \\ 68 \\ \\ 17 \\ \\ 57$\n",
    "\n",
    "$91 \\ \\ 71 \\ \\ 52 \\ \\ 38 \\ \\ 17 \\ \\ 14 \\ \\ 91 \\ \\ 43 \\ \\ 58 \\ \\ 50 \\ \\ 27 \\ \\ 29 \\ \\ 48$\n",
    "\n",
    "$63 \\ \\ 66 \\ \\ 04 \\ \\ 68 \\ \\ 89 \\ \\ 53 \\ \\ 67 \\ \\ 30 \\ \\ 73 \\ \\ 16 \\ \\ 69 \\ \\ 87 \\ \\ 40 \\ \\ 31$\n",
    "\n",
    "$04 \\ \\ 62 \\ \\ 98 \\ \\ 27 \\ \\ 23 \\ \\ 09 \\ \\ 70 \\ \\ 98 \\ \\ 73 \\ \\ 93 \\ \\ 38 \\ \\ 53 \\ \\ 60 \\ \\ 04 \\ \\ 23$\n",
    "\n",
    "__Adjacent numbers__ on the row below will always be the same index as the __index of the original number__ and __1 + index of the original number__.\n",
    "\n",
    "__Danger:__ Don't use a top-down, greedy approach.  Just __picking the highest number__ of the two following candidates can end up taking you on a path that __may still have a smaller sum__.  Therefore let's __work from the bottom__ and create __temporary sums__ as we move up the rows.\n",
    "\n",
    "## Approach\n",
    "\n",
    "Bottom-up __dynamic programming__ approach."
   ]
  },
  {
   "cell_type": "code",
   "execution_count": 24,
   "id": "7a10802d",
   "metadata": {},
   "outputs": [],
   "source": [
    "# arrays of numbers in the triangle\n",
    "triangle = [\n",
    "    [75],\n",
    "    [95, 64],\n",
    "    [17, 47, 82],\n",
    "    [18, 35, 87, 10],\n",
    "    [20, 4, 82, 47, 65],\n",
    "    [19, 1, 23, 75, 3, 34],\n",
    "    [88, 2, 77, 73, 7, 63, 67],\n",
    "    [99, 65, 4, 28, 6, 16, 70, 92],\n",
    "    [41, 41, 26, 56, 83, 40, 80, 70, 33],\n",
    "    [41, 48, 72, 33, 47, 32, 37, 16, 94, 29],\n",
    "    [53, 71, 44, 65, 25, 43, 91, 52, 97, 51, 14],\n",
    "    [70, 11, 33, 28, 77, 73, 17, 78, 39, 68, 17, 57],\n",
    "    [91, 71, 52, 38, 17, 14, 91, 43, 58, 50, 27, 29, 48],\n",
    "    [63, 66, 4, 68, 89, 53, 67, 30, 73, 16, 69, 87, 40, 31],\n",
    "    [4, 62, 98, 27, 23, 9, 70, 98, 73, 93, 38, 53, 60, 4, 23]\n",
    "]"
   ]
  },
  {
   "cell_type": "code",
   "execution_count": 25,
   "id": "863c1632",
   "metadata": {},
   "outputs": [],
   "source": [
    "def max_path_sum(triangle_arrays):\n",
    "    import copy\n",
    "    ta = copy.deepcopy(triangle_arrays)\n",
    "    for i in range(len(ta))[:0:-1]:\n",
    "        temp_a = ta[i-1]\n",
    "        temp_b = ta[i]\n",
    "        for j in range(len(temp_a)):\n",
    "            temp_a[j] += (temp_b[j] if temp_b[j] > temp_b[j+1] else temp_b[j+1])\n",
    "    return ta[0][0]"
   ]
  },
  {
   "cell_type": "code",
   "execution_count": 28,
   "id": "1e711bd2",
   "metadata": {},
   "outputs": [
    {
     "name": "stdout",
     "output_type": "stream",
     "text": [
      "1074\n"
     ]
    }
   ],
   "source": [
    "print(max_path_sum(triangle))"
   ]
  },
  {
   "cell_type": "code",
   "execution_count": 27,
   "id": "c43e9917",
   "metadata": {},
   "outputs": [
    {
     "name": "stdout",
     "output_type": "stream",
     "text": [
      "1074\n"
     ]
    },
    {
     "data": {
      "text/plain": [
       "'0.11754035949707031ms'"
      ]
     },
     "execution_count": 27,
     "metadata": {},
     "output_type": "execute_result"
    }
   ],
   "source": [
    "test_time(max_path_sum,(triangle,))"
   ]
  },
  {
   "cell_type": "markdown",
   "id": "38d29da6",
   "metadata": {},
   "source": [
    "## testing time"
   ]
  },
  {
   "cell_type": "code",
   "execution_count": 4,
   "id": "d20ee112",
   "metadata": {},
   "outputs": [],
   "source": [
    "def test_time(func_to_test, any_params=(), num_times_to_run=5, print_results=True):\n",
    "    import time\n",
    "    start = time.time()\n",
    "\n",
    "    for i in range(num_times_to_run):\n",
    "        results = func_to_test(*any_params)\n",
    "\n",
    "    end = time.time()\n",
    "    if print_results:\n",
    "        print(results)\n",
    "    return str((end - start) * 10**3 / num_times_to_run) + \"ms\""
   ]
  },
  {
   "cell_type": "code",
   "execution_count": null,
   "id": "fe93c939",
   "metadata": {},
   "outputs": [],
   "source": []
  }
 ],
 "metadata": {
  "kernelspec": {
   "display_name": "Python 3 (ipykernel)",
   "language": "python",
   "name": "python3"
  },
  "language_info": {
   "codemirror_mode": {
    "name": "ipython",
    "version": 3
   },
   "file_extension": ".py",
   "mimetype": "text/x-python",
   "name": "python",
   "nbconvert_exporter": "python",
   "pygments_lexer": "ipython3",
   "version": "3.10.8"
  }
 },
 "nbformat": 4,
 "nbformat_minor": 5
}

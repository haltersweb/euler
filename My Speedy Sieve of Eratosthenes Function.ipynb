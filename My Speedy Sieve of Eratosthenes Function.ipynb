{
 "cells": [
  {
   "cell_type": "markdown",
   "id": "abdd0857",
   "metadata": {},
   "source": [
    "# Sieve of Eratosthenes\n",
    "\n",
    "My latest Sieve of Eratosthenes function.  Only consider odds.  Fast!\n",
    "\n",
    "Note, after several rewrites I went from a 3-second solution to a 350ms solution.\n",
    "\n",
    "* only consider odds\n",
    "    * create boolean list to track odd numbers from 1 to limit\n",
    "    * find odd number that corresponds to index i in boolean list: $n = 2i + 1$\n",
    "    * find corresponding index i corresponding to odd number n: $i = (n - 1) / 2$\n",
    "* knock out multiples for primes starting at $prime^2$\n",
    "    * $prime = 2i + 1$\n",
    "    * $prime^2 = (2i + 1)^2$\n",
    "    * index of square of prime = $(prime^2 - 1) / 2 = ((2i + 1)^2 - 1) / 2$\n",
    "    * index $\\Delta$ between multiples of a prime is equal to the $prime$ (aka $2i + 1$)\n",
    "\n",
    "(processing speed: 350ms for all primes up to $2,000,000$)"
   ]
  },
  {
   "cell_type": "code",
   "execution_count": 2,
   "id": "69ba6c4b",
   "metadata": {},
   "outputs": [],
   "source": [
    "# find all prime numbers up to a numerical limit (inclusive)\n",
    "def sieve_of_eratosthenes(limit):\n",
    "    import math\n",
    "    # create boolean list for odd numbers only, starting with 1\n",
    "    is_it_prime = [False] + [True] * (math.ceil(limit / 2) - 1)\n",
    "    primes = [2] # pre-populate the first (and the only even) prime\n",
    "    for i in range (1, math.ceil(limit / 2)):\n",
    "        pc = 2 * i + 1 # pc = prime candidate\n",
    "        if is_it_prime[i]: # True means prime candidate is prime\n",
    "            primes.append(pc)\n",
    "            # index of is_it_prime corresponding to square of prime\n",
    "            i_of_sqr = int(((2 * i + 1)**2 - 1) / 2)\n",
    "            if i_of_sqr < len(is_it_prime):\n",
    "                for j in range(i_of_sqr, len(is_it_prime), pc):\n",
    "                    is_it_prime[j] = False\n",
    "    return primes"
   ]
  },
  {
   "cell_type": "code",
   "execution_count": 3,
   "id": "0bde275f",
   "metadata": {},
   "outputs": [],
   "source": [
    "primes = sieve_of_eratosthenes(2000000)"
   ]
  },
  {
   "cell_type": "code",
   "execution_count": 4,
   "id": "5800a78e",
   "metadata": {},
   "outputs": [
    {
     "data": {
      "text/plain": [
       "'378.07708740234375ms'"
      ]
     },
     "execution_count": 4,
     "metadata": {},
     "output_type": "execute_result"
    }
   ],
   "source": [
    "test_time(sieve_of_eratosthenes, (2000000,), 25, False)"
   ]
  },
  {
   "cell_type": "code",
   "execution_count": 3,
   "id": "2a71b5f7",
   "metadata": {},
   "outputs": [
    {
     "name": "stdout",
     "output_type": "stream",
     "text": [
      "[2, 3, 5, 7, 11, 13, 17, 19, 23, 29, 31, 37, 41, 43, 47]\n"
     ]
    }
   ],
   "source": [
    "primes = sieve_of_eratosthenes(50)\n",
    "print(primes)"
   ]
  },
  {
   "cell_type": "code",
   "execution_count": 4,
   "id": "5214699a",
   "metadata": {},
   "outputs": [
    {
     "name": "stdout",
     "output_type": "stream",
     "text": [
      "[2, 3, 5, 7, 11, 13, 17, 19, 23, 29, 31, 37, 41, 43, 47]\n"
     ]
    }
   ],
   "source": [
    "primes = sieve_of_eratosthenes(47)\n",
    "print(primes)"
   ]
  },
  {
   "cell_type": "markdown",
   "id": "8ce465dd",
   "metadata": {},
   "source": [
    "## timer"
   ]
  },
  {
   "cell_type": "code",
   "execution_count": 1,
   "id": "d60006ec",
   "metadata": {},
   "outputs": [],
   "source": [
    "def test_time(func_to_test, any_params=(), num_times_to_run=5, print_results=True):\n",
    "    import time\n",
    "    start = time.time()\n",
    "\n",
    "    for i in range(num_times_to_run):\n",
    "        results = func_to_test(*any_params)\n",
    "\n",
    "    end = time.time()\n",
    "    if print_results:\n",
    "        print(results)\n",
    "    return str((end - start) * 10**3 / num_times_to_run) + \"ms\""
   ]
  },
  {
   "cell_type": "code",
   "execution_count": null,
   "id": "899fb521",
   "metadata": {},
   "outputs": [],
   "source": []
  },
  {
   "cell_type": "code",
   "execution_count": null,
   "id": "d11fdd90",
   "metadata": {},
   "outputs": [],
   "source": []
  }
 ],
 "metadata": {
  "kernelspec": {
   "display_name": "Python 3 (ipykernel)",
   "language": "python",
   "name": "python3"
  },
  "language_info": {
   "codemirror_mode": {
    "name": "ipython",
    "version": 3
   },
   "file_extension": ".py",
   "mimetype": "text/x-python",
   "name": "python",
   "nbconvert_exporter": "python",
   "pygments_lexer": "ipython3",
   "version": "3.10.8"
  }
 },
 "nbformat": 4,
 "nbformat_minor": 5
}

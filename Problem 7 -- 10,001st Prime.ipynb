{
 "cells": [
  {
   "cell_type": "markdown",
   "id": "cf355ded",
   "metadata": {},
   "source": [
    "# 10,001st Prime\n",
    "\n",
    "_([Problem 7](https://projecteuler.net/problem=7))_\n",
    "\n",
    "By listing the first six prime numbers: \n",
    "\n",
    "$2,3,5,7,11,13$\n",
    "\n",
    "we can see that the $6$th prime is $13$.\n",
    "\n",
    "What is the $10,001$st prime number?"
   ]
  },
  {
   "cell_type": "markdown",
   "id": "7ca66d08",
   "metadata": {},
   "source": [
    "## approaches\n",
    "\n",
    "### The Sieve of Eratosthenes\n",
    "\n",
    "1. get a range of __odd__ numbers to `x` (call it `candidates`)\n",
    "2. test for `2` first since it won't be in the candidates list\n",
    "3. start with first number (`3`)\n",
    "4. starting at `3**2` remove all multiples of `3`\n",
    "5. go to next number (`5`)\n",
    "5. starting at `5**2` remove all multiples of `5`\n",
    "6. until you reach `len(candidates)`\n",
    "7. if you run out of numbers in the list:\n",
    "    1. add more odd numbers to end\n",
    "    2. start at beginning and test the same way"
   ]
  },
  {
   "cell_type": "markdown",
   "id": "9d21fa49",
   "metadata": {},
   "source": [
    "## this is my original solution\n",
    "\n",
    "processing time is over 4 seconds"
   ]
  },
  {
   "cell_type": "code",
   "execution_count": 295,
   "id": "811adfc0",
   "metadata": {},
   "outputs": [],
   "source": [
    "###### NOTE: This requires the limit to be big enough, otherwise no result is returned.\n",
    "\n",
    "def orig_sieve(limit, seek): # limit = largest number to search thru,  # seek = nth prime to find\n",
    "    # make a list of candidate numbers from 2 to limit (inclusive)\n",
    "    candidates = list(range(2, limit + 1))\n",
    "    ### print(candidates)\n",
    "    # start my index at 0 (candidate[0] == 2)\n",
    "    i = 0\n",
    "    # keep checking each number until end of list\n",
    "    while i != len(candidates):\n",
    "        ### print('i =', i)\n",
    "        # select each prime so that you can remove its multiples\n",
    "        prime = candidates[i]\n",
    "        # If I have reached the prime I am seeking, return the prime\n",
    "        if i == seek - 1:\n",
    "            ### print(i)\n",
    "            ### print(len(candidates))\n",
    "            return 'the {}th prime number is {}'.format(seek, prime)\n",
    "        # if the square of this prime is larger than the largest number in the list ...\n",
    "        if prime**2 > candidates[-1]:\n",
    "            # go to next prime in list\n",
    "            i += 1\n",
    "            continue\n",
    "        # square of prime is found and its index assigned to another iterable j\n",
    "        j = candidates.index(prime**2)\n",
    "        # loop through the candidates from j through end of candidates list\n",
    "        while j != len(candidates):\n",
    "            # remove any multiples of the prime\n",
    "            if candidates[j] % prime == 0:\n",
    "                del candidates[j]\n",
    "            else:\n",
    "                # go to next candidate\n",
    "                j += 1\n",
    "        # go to next prime in list\n",
    "        i += 1\n",
    "    ### print(candidates)\n",
    "    ### print(i)\n",
    "    ### print(len(candidates))\n",
    "    return 'the {}th prime number wasn\\'t reached'.format(seek)"
   ]
  },
  {
   "cell_type": "code",
   "execution_count": 3,
   "id": "e9d44669",
   "metadata": {},
   "outputs": [
    {
     "name": "stdout",
     "output_type": "stream",
     "text": [
      "the 10001th prime number is 104743\n"
     ]
    }
   ],
   "source": [
    "print(orig_sieve(200000, 10001))"
   ]
  },
  {
   "cell_type": "code",
   "execution_count": 296,
   "id": "b681764a",
   "metadata": {},
   "outputs": [
    {
     "name": "stdout",
     "output_type": "stream",
     "text": [
      "the 10001th prime number is 104743\n"
     ]
    },
    {
     "data": {
      "text/plain": [
       "'4490.117406845093ms'"
      ]
     },
     "execution_count": 296,
     "metadata": {},
     "output_type": "execute_result"
    }
   ],
   "source": [
    "test_time(orig_sieve,(200000,10001), 20)"
   ]
  },
  {
   "cell_type": "code",
   "execution_count": null,
   "id": "afda1288",
   "metadata": {},
   "outputs": [],
   "source": []
  },
  {
   "cell_type": "markdown",
   "id": "afc97d8d",
   "metadata": {},
   "source": [
    "## this one only uses odd numbers\n",
    "\n",
    "processing time is still over a second"
   ]
  },
  {
   "cell_type": "code",
   "execution_count": 297,
   "id": "8cc79643",
   "metadata": {},
   "outputs": [],
   "source": [
    "###### FIX TO ONLY USE ODD NUMBERS\n",
    "\n",
    "def odd_sieve(limit, seek): # limit = largest number to search thru,  # seek = nth prime to find\n",
    "    # first return the only even number, 2, if seek = 1\n",
    "    if seek == 1:\n",
    "        return 'the first prime number is 2'\n",
    "    # make a list of candidate numbers from 3 to limit (inclusive).  the prime 2 is not included\n",
    "    candidates = list(range(3, limit + 1, 2))\n",
    "    ### print(candidates)\n",
    "    # start my index at 0 (candidate[0] == 3)\n",
    "    i = 0\n",
    "    # keep checking each number until end of list\n",
    "    while i != len(candidates):\n",
    "        ### print('i =', i)\n",
    "        # select each prime so that you can remove its multiples\n",
    "        prime = candidates[i]\n",
    "        # If I have reached the prime I am seeking, return the prime\n",
    "        if i == seek - 2: # -2 because i will have advanced beyond seek AND candidates does not include the first prime (2)\n",
    "            ### print(i)\n",
    "            ### print(len(candidates))\n",
    "            return 'the {}th prime number is {}'.format(seek, prime)\n",
    "        # if the square of this prime is larger than the largest number in the list ...\n",
    "        if prime**2 > candidates[-1]:\n",
    "            # go to next prime in list\n",
    "            i += 1\n",
    "            continue\n",
    "        # square of prime is found and its index assigned to another iterable j\n",
    "        j = candidates.index(prime**2)\n",
    "        # loop through the candidates from j through end of candidates list\n",
    "        while j != len(candidates):\n",
    "            # remove any multiples of the prime\n",
    "            if candidates[j] % prime == 0:\n",
    "                del candidates[j]\n",
    "            else:\n",
    "                # go to next candidate\n",
    "                j += 1\n",
    "        # go to next prime in list\n",
    "        i += 1\n",
    "    ### print(candidates)\n",
    "    ### print(i)\n",
    "    ### print(len(candidates))\n",
    "    return 'the {}th prime number wasn\\'t reached'.format(seek)"
   ]
  },
  {
   "cell_type": "code",
   "execution_count": 5,
   "id": "0dcd92fe",
   "metadata": {},
   "outputs": [
    {
     "name": "stdout",
     "output_type": "stream",
     "text": [
      "the 10001th prime number wasn't reached\n"
     ]
    }
   ],
   "source": [
    "print(odd_sieve(100000, 10001))"
   ]
  },
  {
   "cell_type": "code",
   "execution_count": 298,
   "id": "f5886f71",
   "metadata": {},
   "outputs": [
    {
     "name": "stdout",
     "output_type": "stream",
     "text": [
      "the 10001th prime number is 104743\n"
     ]
    },
    {
     "data": {
      "text/plain": [
       "'1223.1135725975037ms'"
      ]
     },
     "execution_count": 298,
     "metadata": {},
     "output_type": "execute_result"
    }
   ],
   "source": [
    "test_time(odd_sieve,(200000,10001), 20)"
   ]
  },
  {
   "cell_type": "markdown",
   "id": "e7f4f1db",
   "metadata": {},
   "source": [
    "## this one doesn't care how long limit is.  It will keep adding to candidates until prime is found\n",
    "\n",
    "better, but still almost a second"
   ]
  },
  {
   "cell_type": "code",
   "execution_count": 299,
   "id": "a2c4d360",
   "metadata": {},
   "outputs": [],
   "source": [
    "def keep_adding_to_sieve(limit, seek): # limit = size of candidate list,  # seek = nth prime to find\n",
    "    # make a list of candidate numbers from 2 to limit (inclusive)\n",
    "    candidates = list(range(2, limit + 1))\n",
    "    ### print(candidates)\n",
    "    \n",
    "    cycle = 1 # will increase every time I have to add more candidates to the list\n",
    "    i = 0 # start my index at 0 (candidate[0] == 2)\n",
    "    \n",
    "    # keep checking each candidate for primeness until end of list\n",
    "    while i != len(candidates):\n",
    "        \n",
    "        # select this candidate as the next prime so that you can remove its multiples\n",
    "        prime = candidates[i]\n",
    "        \n",
    "        # If I have reached the prime I am seeking, return the prime\n",
    "        if i == seek - 1:\n",
    "            ### print('i = ',i)\n",
    "            ### print(candidates)\n",
    "            return 'the {}th prime number is {}'.format(seek, prime)\n",
    "        \n",
    "        # if the square of this prime is larger than the largest number in the list ...\n",
    "        #if prime ** 2 > candidates[-1]:\n",
    "        #    # go to next prime in list\n",
    "        #    i += 1\n",
    "        #    continue\n",
    "            \n",
    "        # as long as square of this prime is not larger than the largest number in the list, remove multiples\n",
    "        if prime ** 2 <= candidates[-1]:\n",
    "\n",
    "            # square of prime is found and its index assigned to another iterable j\n",
    "            j = candidates.index(prime ** 2)\n",
    "\n",
    "            # loop through the candidates from j through end of candidates list\n",
    "            while j != len(candidates):\n",
    "\n",
    "                # remove any multiples of the prime\n",
    "                if candidates[j] % prime == 0:\n",
    "                    del candidates[j]\n",
    "                else:\n",
    "                    # go to next candidate\n",
    "                    j += 1\n",
    "                    \n",
    "        # go to index of next prime in candidate list\n",
    "        i += 1\n",
    "            \n",
    "        # if we've reached the end of the list of candidates, add more candidates\n",
    "        if i == len(candidates):\n",
    "            ### print(candidates)\n",
    "            # start next cycle\n",
    "            cycle += 1\n",
    "            ### print('cycle: ', cycle)\n",
    "            # create a list of more candidates\n",
    "            more_candidates = list(range(limit * (cycle - 1) + 1, limit * cycle + 1))\n",
    "            ### print(more_candidates)\n",
    "            ### print('first and last in list', more_candidates[0], more_candidates[-1])\n",
    "            # and cull them with current candidates list\n",
    "            for p in candidates: # p is each prime\n",
    "                ### print('p =', p)\n",
    "                # iterator for more_candidates\n",
    "                k = 0\n",
    "                if p ** 2 > more_candidates[-1]:\n",
    "                    # continue to next p prime\n",
    "                    continue\n",
    "                elif p ** 2 > more_candidates[0]:\n",
    "                    # start iteration at square of p\n",
    "                    k = more_candidates.index(p ** 2)\n",
    "                ### print('k=', k)\n",
    "                while k < len(more_candidates):\n",
    "                    ### print('k and length:', k, len(more_candidates))\n",
    "                    if more_candidates[k] % p == 0:\n",
    "                        ### print('k and mc are:',k, more_candidates[k])\n",
    "                        del more_candidates[k]\n",
    "                    # go to next candidate\n",
    "                    k += 1\n",
    "            # then add the culled list to the current candidates list\n",
    "            ### print(more_candidates)\n",
    "            candidates += more_candidates\n",
    "    return 'ERROR: prime number {} wasn\\'t reached'.format(seek)"
   ]
  },
  {
   "cell_type": "code",
   "execution_count": 7,
   "id": "e6d1a998",
   "metadata": {},
   "outputs": [
    {
     "name": "stdout",
     "output_type": "stream",
     "text": [
      "the 10001th prime number is 104743\n"
     ]
    }
   ],
   "source": [
    "print(keep_adding_to_sieve(50000, 10001))"
   ]
  },
  {
   "cell_type": "code",
   "execution_count": 300,
   "id": "2bda934f",
   "metadata": {},
   "outputs": [
    {
     "name": "stdout",
     "output_type": "stream",
     "text": [
      "the 10001th prime number is 104743\n"
     ]
    },
    {
     "data": {
      "text/plain": [
       "'933.7584018707275ms'"
      ]
     },
     "execution_count": 300,
     "metadata": {},
     "output_type": "execute_result"
    }
   ],
   "source": [
    "test_time(keep_adding_to_sieve, (50000, 10001), 20)"
   ]
  },
  {
   "cell_type": "code",
   "execution_count": null,
   "id": "d94f773c",
   "metadata": {},
   "outputs": [],
   "source": []
  },
  {
   "cell_type": "markdown",
   "id": "eb490655",
   "metadata": {},
   "source": [
    "## putting auto-extend and odd numbers together\n",
    "\n",
    "now we're getting somewhere.  1/3 second"
   ]
  },
  {
   "cell_type": "code",
   "execution_count": 236,
   "id": "f6911a80",
   "metadata": {},
   "outputs": [],
   "source": [
    "def eratosthenes(limit, seek): # limit = size of candidate list,  # seek = nth prime to find\n",
    "    # first return the only even number, 2, if seek = 1\n",
    "    if seek == 1:\n",
    "        return 'the first prime number is 2'\n",
    "    # make a list of candidate numbers from 3 to limit (inclusive).  the prime 2 is not included\n",
    "    candidates = list(range(3, limit + 1, 2)) # all odd numbers\n",
    "    ### print(candidates)\n",
    "    \n",
    "    cycle = 1 # will increase every time I have to add more candidates to the list\n",
    "    last_candidate = candidates[-1] # hold this last number in case I have to do more cycles\n",
    "    i = 0 # start my index at 0 (candidate[0] == 3)\n",
    "    \n",
    "    # keep checking each candidate for primeness until end of list\n",
    "    while i != len(candidates):\n",
    "        \n",
    "        # select this candidate as the next prime so that you can remove its multiples\n",
    "        prime = candidates[i]\n",
    "        \n",
    "        # If I have reached the prime I am seeking, return the prime\n",
    "        if i == seek - 2: # -2 because i will have advanced beyond seek AND candidates does not include the first prime (2)\n",
    "            ### print('i = ',i)\n",
    "            ### print(candidates)\n",
    "            return 'the {}th prime number is {}'.format(seek, prime)\n",
    "        \n",
    "        # if the square of this prime is larger than the largest number in the list ...\n",
    "        #if prime ** 2 > candidates[-1]:\n",
    "        #    # go to next prime in list\n",
    "        #    i += 1\n",
    "        #    continue\n",
    "            \n",
    "        # as long as square of this prime is not larger than the largest number in the list, remove multiples\n",
    "        if prime ** 2 <= candidates[-1]:\n",
    "\n",
    "            # square of prime is found and its index assigned to another iterable j\n",
    "            j = candidates.index(prime ** 2)\n",
    "\n",
    "            # loop through the candidates from j through end of candidates list\n",
    "            while j != len(candidates):\n",
    "\n",
    "                # remove any multiples of the prime\n",
    "                if candidates[j] % prime == 0:\n",
    "                    del candidates[j]\n",
    "                else:\n",
    "                    # go to next candidate\n",
    "                    j += 1\n",
    "                    \n",
    "        # go to index of next prime in candidate list\n",
    "        i += 1\n",
    "            \n",
    "        # if we've reached the end of the list of candidates, add more candidates\n",
    "        if i == len(candidates):\n",
    "            ### print(candidates)\n",
    "            # start next cycle\n",
    "            cycle += 1\n",
    "            ### print('cycle: ', cycle)\n",
    "            # create a list of more candidates\n",
    "            more_candidates = list(range(last_candidate + 2, limit * cycle + 1, 2)) # all odd numbers\n",
    "            ### print(more_candidates)\n",
    "            ### print('first and last in list', more_candidates[0], more_candidates[-1])\n",
    "            # and cull them with current candidates list\n",
    "            for p in candidates: # p is each prime\n",
    "                ### print('p =', p)\n",
    "                # iterator for more_candidates\n",
    "                k = 0\n",
    "                if p ** 2 > more_candidates[-1]:\n",
    "                    # continue to next p prime\n",
    "                    continue\n",
    "                elif p ** 2 > more_candidates[0]:\n",
    "                    # start iteration at square of p\n",
    "                    k = more_candidates.index(p ** 2)\n",
    "                ### print('k=', k)\n",
    "                while k < len(more_candidates):\n",
    "                    ### print('k and length:', k, len(more_candidates))\n",
    "                    if more_candidates[k] % p == 0:\n",
    "                        ### print('k and mc are:',k, more_candidates[k])\n",
    "                        del more_candidates[k]\n",
    "                    # go to next candidate\n",
    "                    k += 1\n",
    "            # then add the culled list to the current candidates list\n",
    "            ### print(more_candidates)\n",
    "            candidates += more_candidates\n",
    "            last_candidate = candidates[-1] # reassign last_candidate for future cycles\n"
   ]
  },
  {
   "cell_type": "code",
   "execution_count": 237,
   "id": "0e3d2617",
   "metadata": {},
   "outputs": [
    {
     "name": "stdout",
     "output_type": "stream",
     "text": [
      "the 10001th prime number is 104743\n"
     ]
    },
    {
     "data": {
      "text/plain": [
       "'381.11435890197754ms'"
      ]
     },
     "execution_count": 237,
     "metadata": {},
     "output_type": "execute_result"
    }
   ],
   "source": [
    "test_time(eratosthenes, (50000, 10001), 25)"
   ]
  },
  {
   "cell_type": "code",
   "execution_count": null,
   "id": "496cd41d",
   "metadata": {},
   "outputs": [],
   "source": []
  },
  {
   "cell_type": "markdown",
   "id": "ffce7fa2",
   "metadata": {},
   "source": [
    "## FINAL: use boolean array and save primes as I go, stopping at the one I seek\n",
    "\n",
    "processing time is only 150ms"
   ]
  },
  {
   "cell_type": "code",
   "execution_count": 293,
   "id": "0e993f9f",
   "metadata": {},
   "outputs": [],
   "source": [
    "def sieve_of_eratosthenes(limit, seek):\n",
    "    candidates = list(range(2, limit + 1)) # [2, 3, 4, 5, ...]\n",
    "    is_it_prime = [True for b in range(limit - 1)] # [True, True, True, True, ...]\n",
    "    primes = []\n",
    "    for i in range(limit - 1):\n",
    "        if is_it_prime[i]: # if the candidate's boolean is True, it is prime\n",
    "            p = candidates[i]\n",
    "            primes.append(p)\n",
    "            if len(primes) == seek:\n",
    "                return 'The {}th prime is {}'.format(seek, p)\n",
    "            # starting at square of p, change all is_it_prime[<multiples of p>] to False\n",
    "            if p ** 2 <= candidates[-1]:\n",
    "                for j in range(candidates.index(p ** 2), limit - 1, p):\n",
    "                    is_it_prime[j] = False\n",
    "    return 'you will need to increase the limit argument to find the {}th prime'.format(seek)"
   ]
  },
  {
   "cell_type": "code",
   "execution_count": 285,
   "id": "b595ae22",
   "metadata": {},
   "outputs": [
    {
     "name": "stdout",
     "output_type": "stream",
     "text": [
      "The 10001th prime is 104743\n"
     ]
    },
    {
     "data": {
      "text/plain": [
       "'153.40919494628906ms'"
      ]
     },
     "execution_count": 285,
     "metadata": {},
     "output_type": "execute_result"
    }
   ],
   "source": [
    "test_time(sieve_of_eratosthenes, (200000,10001), 25)"
   ]
  },
  {
   "cell_type": "code",
   "execution_count": 294,
   "id": "cf4b870e",
   "metadata": {},
   "outputs": [
    {
     "data": {
      "text/plain": [
       "'The 10001th prime is 104743'"
      ]
     },
     "execution_count": 294,
     "metadata": {},
     "output_type": "execute_result"
    }
   ],
   "source": [
    "sieve_of_eratosthenes(200000,10001)"
   ]
  },
  {
   "cell_type": "markdown",
   "id": "4fe1ee55",
   "metadata": {},
   "source": [
    "## timer"
   ]
  },
  {
   "cell_type": "code",
   "execution_count": 207,
   "id": "d61eeedc",
   "metadata": {},
   "outputs": [],
   "source": [
    "def test_time(func_to_test, any_params=(), num_times_to_run=5):\n",
    "    import time\n",
    "    start = time.time()\n",
    "\n",
    "    for i in range(num_times_to_run):\n",
    "        results = func_to_test(*any_params)\n",
    "\n",
    "    end = time.time()\n",
    "    print(results)\n",
    "    return str((end - start) * 10**3 / num_times_to_run) + \"ms\""
   ]
  },
  {
   "cell_type": "code",
   "execution_count": null,
   "id": "5743cbd7",
   "metadata": {},
   "outputs": [],
   "source": []
  }
 ],
 "metadata": {
  "kernelspec": {
   "display_name": "Python 3 (ipykernel)",
   "language": "python",
   "name": "python3"
  },
  "language_info": {
   "codemirror_mode": {
    "name": "ipython",
    "version": 3
   },
   "file_extension": ".py",
   "mimetype": "text/x-python",
   "name": "python",
   "nbconvert_exporter": "python",
   "pygments_lexer": "ipython3",
   "version": "3.10.8"
  }
 },
 "nbformat": 4,
 "nbformat_minor": 5
}

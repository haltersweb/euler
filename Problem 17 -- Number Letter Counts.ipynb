{
 "cells": [
  {
   "cell_type": "markdown",
   "id": "4479077c",
   "metadata": {},
   "source": [
    "# Number Letter Counts\n",
    "([Problem 17](https://projecteuler.net/problem=17))\n",
    "\n",
    "If the numbers 1 to 5 are written out in words: one, two, three, four, five, then there are \n",
    "$3 + 3 + 5 + 5 + 4 + 4$ letters used in total.\n",
    "\n",
    "If all the numbers from 1 to 1000 (one thousand) inclusive were written out in words, how many letters would be used?\n",
    "\n",
    "\n",
    "NOTE: Do not count spaces or hyphens. For example, 342 (three hundred and forty-two) contains \n",
    "23 letters and 115 (one hundred and fifteen) contains 20 letters. The use of \"and\" when writing out numbers is in compliance with British usage.\n",
    "\n",
    "## Written number patterns\n",
    "\n",
    "| number | name |\n",
    "|:---|:---|\n",
    "| 1 | __one__ |\n",
    "| 2 | __two__ |\n",
    "| 3 | __three__ |\n",
    "| 4 | __four__ |\n",
    "| 5 | __five__ |\n",
    "| 6 | __six__ |\n",
    "| 7 | __seven__ |\n",
    "| 8 | __eight__ |\n",
    "| 9 | __nine__ |\n",
    "| 10 | __ten__ |\n",
    "| 11 | __eleven__ |\n",
    "| 12 | __twelve__ |\n",
    "| 13 | __thir__ __teen__ |\n",
    "| 14 | __four__ teen |\n",
    "| 15 | __fif__ teen |\n",
    "| 16 | __six__ teen |\n",
    "| 17 | __seven__ teen |\n",
    "| 18 | __eigh__ teen |\n",
    "| 19 | __nine__ teen |\n",
    "| 20 | __twenty__ |\n",
    "| 21 | twenty one |\n",
    "| 22 | twenty two |\n",
    "| ... | thir__ty__ |\n",
    "| ... | __for__ ty |\n",
    "| ... | fifty |\n",
    "| ... | sixty |\n",
    "| ... | seventy |\n",
    "| ... | eighty |\n",
    "| ... | ninety |\n",
    "| ... |\n",
    "| 100 | one __hundred__ |\n",
    "| 101 | one hundred __and__ one |\n",
    "| 102 | one hundred and two |\n",
    "| ... |\n",
    "| 111 | one hundred and eleven |\n",
    "| 112 | one hundred and twelve |\n",
    "| ... |\n",
    "| 120 | one hundred and twenty |\n",
    "| 121 | one hundred and twenty one |\n",
    "| ... |\n",
    "| 100 | two hundred |\n",
    "| ... |\n",
    "| 100 | three hundred |\n",
    "| ... |\n",
    "| 100 | four hundred |\n",
    "| ... |\n",
    "| 100 | five hundred |\n",
    "| ... |\n",
    "| 100 | six hundred |\n",
    "| ... |\n",
    "| 100 | seven hundred |\n",
    "| ... |\n",
    "| 100 | eight hundred |\n",
    "| ... |\n",
    "| 100 | nine hundred |\n",
    "| ... |\n",
    "| 1000 | one __thousand__ |"
   ]
  },
  {
   "cell_type": "code",
   "execution_count": 1,
   "id": "7322c22c",
   "metadata": {},
   "outputs": [],
   "source": [
    "prefixes = {\n",
    "    # first 19 numbers\n",
    "    '1' : 'one',\n",
    "    '2' : 'two',\n",
    "    '3' : 'three',\n",
    "    '4' : 'four',\n",
    "    '5' : 'five',\n",
    "    '6' : 'six',\n",
    "    '7' : 'seven',\n",
    "    '8' : 'eight',\n",
    "    '9' : 'nine',\n",
    "    '10' : 'ten',\n",
    "    '11' : 'eleven',\n",
    "    '12' : 'twelve',\n",
    "    '13' : 'thirteen',\n",
    "    '14' : 'fourteen',\n",
    "    '15' : 'fifteen',\n",
    "    '16' : 'sixteen',\n",
    "    '17' : 'seventeen',\n",
    "    '18' : 'eighteen',\n",
    "    '19' : 'nineteen',\n",
    "\n",
    "    # two digit numbers after ten (common)\n",
    "    '20' : 'twenty',\n",
    "    '30' : 'thirty',\n",
    "    '40' : 'forty',\n",
    "    '50' : 'fifty',\n",
    "    '60' : 'sixty',\n",
    "    '70' : 'seventy',\n",
    "    '80' : 'eighty',\n",
    "    '90' : 'ninety'\n",
    "}"
   ]
  },
  {
   "cell_type": "code",
   "execution_count": 2,
   "id": "b00af9b8",
   "metadata": {},
   "outputs": [],
   "source": [
    "def number_to_letters(num, prefixes):\n",
    "    if num == 0:\n",
    "        return 'zero'\n",
    "    \n",
    "    if num > 1000:\n",
    "        return ''\n",
    "    \n",
    "    if num == 1000:\n",
    "        return 'onethousand'\n",
    "    \n",
    "    spell = ''\n",
    "    hundred = num // 100\n",
    "    remainder = (num % 100)\n",
    "    \n",
    "    def __one_to_ninetynine(n):\n",
    "        n_str = str(n)\n",
    "        if n < 1:\n",
    "            return ''\n",
    "        if n < 20: # 1-19\n",
    "            return prefixes[n_str]\n",
    "        elif n < 100: # 20-99\n",
    "            if n % 10 == 0:\n",
    "                return prefixes[n_str]\n",
    "            else:\n",
    "                return prefixes[n_str[0]+'0']+prefixes[n_str[-1]]\n",
    "        return ''\n",
    "    \n",
    "    # if it's in the hundreds\n",
    "    \n",
    "    if hundred > 0:\n",
    "        spell += prefixes[str(hundred)] + 'hundred'\n",
    "        if remainder != 0:\n",
    "            spell += 'and'\n",
    "            \n",
    "    spell += __one_to_ninetynine(remainder)\n",
    "    \n",
    "    return spell"
   ]
  },
  {
   "cell_type": "code",
   "execution_count": null,
   "id": "e4f7c927",
   "metadata": {},
   "outputs": [],
   "source": [
    "letters = (number_to_letters(111, prefixes))\n",
    "print(letters, 'has', len(letters), 'letters')"
   ]
  },
  {
   "cell_type": "code",
   "execution_count": 3,
   "id": "3fde7690",
   "metadata": {},
   "outputs": [],
   "source": [
    "def get_total_letters(prefixes):\n",
    "    total = 0\n",
    "    for count in range(1,1001):\n",
    "        total += len(number_to_letters(count, prefixes))\n",
    "    return total"
   ]
  },
  {
   "cell_type": "code",
   "execution_count": 5,
   "id": "b23e74e2",
   "metadata": {},
   "outputs": [
    {
     "name": "stdout",
     "output_type": "stream",
     "text": [
      "21124\n"
     ]
    },
    {
     "data": {
      "text/plain": [
       "'1.8539857864379883ms'"
      ]
     },
     "execution_count": 5,
     "metadata": {},
     "output_type": "execute_result"
    }
   ],
   "source": [
    "test_time(get_total_letters, (prefixes,), 50)"
   ]
  },
  {
   "cell_type": "markdown",
   "id": "688f36f7",
   "metadata": {},
   "source": [
    "## testing time"
   ]
  },
  {
   "cell_type": "code",
   "execution_count": 4,
   "id": "5cc89d80",
   "metadata": {},
   "outputs": [],
   "source": [
    "def test_time(func_to_test, any_params=(), num_times_to_run=5, print_results=True):\n",
    "    import time\n",
    "    start = time.time()\n",
    "\n",
    "    for i in range(num_times_to_run):\n",
    "        results = func_to_test(*any_params)\n",
    "\n",
    "    end = time.time()\n",
    "    if print_results:\n",
    "        print(results)\n",
    "    return str((end - start) * 10**3 / num_times_to_run) + \"ms\""
   ]
  },
  {
   "cell_type": "code",
   "execution_count": null,
   "id": "87414487",
   "metadata": {},
   "outputs": [],
   "source": []
  }
 ],
 "metadata": {
  "kernelspec": {
   "display_name": "Python 3 (ipykernel)",
   "language": "python",
   "name": "python3"
  },
  "language_info": {
   "codemirror_mode": {
    "name": "ipython",
    "version": 3
   },
   "file_extension": ".py",
   "mimetype": "text/x-python",
   "name": "python",
   "nbconvert_exporter": "python",
   "pygments_lexer": "ipython3",
   "version": "3.10.8"
  }
 },
 "nbformat": 4,
 "nbformat_minor": 5
}

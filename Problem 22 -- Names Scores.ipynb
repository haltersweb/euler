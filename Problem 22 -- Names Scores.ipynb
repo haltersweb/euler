{
 "cells": [
  {
   "cell_type": "markdown",
   "id": "1fa99d85",
   "metadata": {},
   "source": [
    "# Names Scores\n",
    "([Problem 22](https://projecteuler.net/problem=22))\n",
    "\n",
    "Sort [names.txt](data/0022_names.txt) in alphabetical order.\n",
    "\n",
    "__Name score__: The __alphabetical value__ of a name __multiplied__ by it's alphabetical __list position__.\n",
    "\n",
    "For example:\n",
    "\n",
    "* the $938th$ name in the alphabetical list (__list position__) is COLIN\n",
    "* COLIN's __alphabetical value__ is $3 + 15 + 12 + 9 + 14 = 53$.\n",
    "* COLIN's __name score__ is $938 x 53 = 49714$.\n",
    "\n",
    "What is the __total__ of all the __name scores__ in the file?"
   ]
  },
  {
   "cell_type": "code",
   "execution_count": 2,
   "id": "9bb7084d",
   "metadata": {},
   "outputs": [],
   "source": [
    "def total_name_scores():\n",
    "    f = open('data/0022_names.txt', 'r')\n",
    "    names = eval('[' + f.readlines()[0] + ']')\n",
    "    names.sort()\n",
    "    f.close()\n",
    "\n",
    "    alphabet = \"ABCDEFGHIJKLMNOPQRSTUVWXYZ\"\n",
    "    total = 0\n",
    "\n",
    "    for name in names:\n",
    "        score = 0\n",
    "        for ch in name:\n",
    "            score += (alphabet.index(ch) + 1)\n",
    "        total += score * (names.index(name) + 1)\n",
    "    return total"
   ]
  },
  {
   "cell_type": "code",
   "execution_count": 3,
   "id": "dd89a0de",
   "metadata": {},
   "outputs": [
    {
     "name": "stdout",
     "output_type": "stream",
     "text": [
      "871198282\n"
     ]
    },
    {
     "data": {
      "text/plain": [
       "'207.26141929626465ms'"
      ]
     },
     "execution_count": 3,
     "metadata": {},
     "output_type": "execute_result"
    }
   ],
   "source": [
    "test_time(total_name_scores)"
   ]
  },
  {
   "cell_type": "markdown",
   "id": "f65f3a60",
   "metadata": {},
   "source": [
    "## using reduce() and ord()\n",
    "\n",
    "* `functools.reduce(function, iterable)` applies a function to an iterable and returns a cumulative value\n",
    "* `ord(character)` returns the unicode of a character"
   ]
  },
  {
   "cell_type": "code",
   "execution_count": 4,
   "id": "0f1f10d9",
   "metadata": {},
   "outputs": [],
   "source": [
    "def total_name_scores():\n",
    "    import functools\n",
    "\n",
    "    f = open('data/0022_names.txt', 'r')\n",
    "    names = eval('[' + f.readlines()[0] + ']')\n",
    "    names.sort()\n",
    "    f.close()\n",
    "    \n",
    "    name_scores = [\n",
    "        functools.reduce(\n",
    "            lambda x, y: x + y,\n",
    "            [ (i + 1) * (ord(ch) - 64) for ch in names[i] ]\n",
    "        )\n",
    "        for i in range(len(names))\n",
    "    ]\n",
    "    total = functools.reduce(lambda x, y: x + y, name_scores)\n",
    "    \n",
    "    return total"
   ]
  },
  {
   "cell_type": "code",
   "execution_count": 5,
   "id": "d1512518",
   "metadata": {},
   "outputs": [
    {
     "name": "stdout",
     "output_type": "stream",
     "text": [
      "871198282\n"
     ]
    },
    {
     "data": {
      "text/plain": [
       "'23.8677978515625ms'"
      ]
     },
     "execution_count": 5,
     "metadata": {},
     "output_type": "execute_result"
    }
   ],
   "source": [
    "test_time(total_name_scores)"
   ]
  },
  {
   "cell_type": "markdown",
   "id": "9ed55dd5",
   "metadata": {},
   "source": [
    "## Timing"
   ]
  },
  {
   "cell_type": "code",
   "execution_count": 1,
   "id": "6896bf4a",
   "metadata": {},
   "outputs": [],
   "source": [
    "def test_time(func_to_test, any_params=(), num_times_to_run=5, print_results=True):\n",
    "    import time\n",
    "    start = time.time()\n",
    "\n",
    "    for i in range(num_times_to_run):\n",
    "        results = func_to_test(*any_params)\n",
    "\n",
    "    end = time.time()\n",
    "    if print_results:\n",
    "        print(results)\n",
    "    return str((end - start) * 10**3 / num_times_to_run) + \"ms\""
   ]
  },
  {
   "cell_type": "code",
   "execution_count": null,
   "id": "ff0d00de",
   "metadata": {},
   "outputs": [],
   "source": []
  },
  {
   "cell_type": "code",
   "execution_count": null,
   "id": "42db8a84",
   "metadata": {},
   "outputs": [],
   "source": []
  }
 ],
 "metadata": {
  "kernelspec": {
   "display_name": "Python 3 (ipykernel)",
   "language": "python",
   "name": "python3"
  },
  "language_info": {
   "codemirror_mode": {
    "name": "ipython",
    "version": 3
   },
   "file_extension": ".py",
   "mimetype": "text/x-python",
   "name": "python",
   "nbconvert_exporter": "python",
   "pygments_lexer": "ipython3",
   "version": "3.10.8"
  }
 },
 "nbformat": 4,
 "nbformat_minor": 5
}

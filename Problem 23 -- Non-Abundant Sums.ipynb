{
 "cells": [
  {
   "cell_type": "markdown",
   "id": "92832b48",
   "metadata": {},
   "source": [
    "# Non-Abundant Sums\n",
    "([Problem 23](https://projecteuler.net/problem=23))\n",
    "\n",
    "A __perfect number__ is a number for which the __sum of its proper divisors__ is exactly __equal to the number__.\n",
    "\n",
    "For example, the sum of the proper divisors of $28$ would be $1 + 2 + 4 + 7 + 14 = 28$, which means that $28$ is a perfect number.\n",
    "\n",
    "A number $n$ is called __deficient__ if the sum of its proper divisors is __less than__ $n$.  It is called __abundant__ if this sum __exceeds__ $n$.\n",
    "\n",
    "As $12$ is the __smallest abundant__ number, $1+2+3+4+6 = 16$, the smallest number that can be written as __the sum of two__ abundant numbers is $24$.\n",
    "\n",
    "By mathematical analysis, it can be shown that all integers __greater than__ $28123^*$ can be written as the __sum of two__ abundant numbers. However, this upper limit cannot be reduced any further by analysis even though it is known that the greatest number that __cannot__ be expressed __as the sum__ of two abundant numbers is __less than this limit__.\n",
    "\n",
    "Find the __sum of all__ the positive __integers__ which __cannot__ be written as the __sum__ of __two abundant__ numbers.\n",
    "\n",
    "$^*20161$ is the limit, not $28123$"
   ]
  },
  {
   "cell_type": "code",
   "execution_count": 2,
   "id": "8460e970",
   "metadata": {},
   "outputs": [],
   "source": [
    "def find_divisors(num, proper=False): # default returns all divisors\n",
    "    import math\n",
    "    is_it_divisor = [False] * (num + 1) # takes into account first False is for i = 0\n",
    "    divisors = []\n",
    "    for i in range(1, math.floor(math.sqrt(num)) + 1): # check up thru sqrt of num\n",
    "        if not is_it_divisor[i]:\n",
    "            if num % i == 0:\n",
    "                j = int(num / i)\n",
    "                is_it_divisor[i], is_it_divisor[j] = True, True\n",
    "                divisors += [i, j] if i != j else [i]\n",
    "    if proper:\n",
    "        divisors.remove(num)\n",
    "    return divisors"
   ]
  },
  {
   "cell_type": "code",
   "execution_count": 3,
   "id": "40532712",
   "metadata": {},
   "outputs": [],
   "source": [
    "def perfect_abundant_deficient(end_n, start_n=1, kind='perfect'): # (inclusive)\n",
    "    perfect = []\n",
    "    abundant = []\n",
    "    deficient = []\n",
    "    for n in range(start_n, end_n + 1):\n",
    "        divisor_sum = sum(find_divisors(n, proper=True))\n",
    "        if divisor_sum > n:\n",
    "            abundant.append(n)\n",
    "        elif divisor_sum < n:\n",
    "            deficient.append(n)\n",
    "        else:\n",
    "            perfect.append(n)\n",
    "    return eval(kind)"
   ]
  },
  {
   "cell_type": "markdown",
   "id": "59216b72",
   "metadata": {},
   "source": [
    "## approach 1"
   ]
  },
  {
   "cell_type": "code",
   "execution_count": 4,
   "id": "a95a06ab",
   "metadata": {},
   "outputs": [],
   "source": [
    "def sum_of_not_abundant_sums(end_n, start_n=1):\n",
    "    abundant = perfect_abundant_deficient(end_n, start_n, kind=\"abundant\")\n",
    "    ab_sums = []\n",
    "    i = 0\n",
    "    for a in abundant:\n",
    "        for b in abundant[i:]:\n",
    "            ab_sum = a + b\n",
    "            if ab_sum > end_n:\n",
    "                break\n",
    "            ab_sums.append(ab_sum)\n",
    "        i += 1\n",
    "    ab_sums = list(set(ab_sums)) # remove duplicate numbers\n",
    "    ab_sums.sort()\n",
    "    not_ab_sums = [n for n in list(range(start_n, end_n)) if n not in ab_sums]\n",
    "    return sum(not_ab_sums)"
   ]
  },
  {
   "cell_type": "code",
   "execution_count": 5,
   "id": "f07afafc",
   "metadata": {},
   "outputs": [
    {
     "name": "stdout",
     "output_type": "stream",
     "text": [
      "4179871\n"
     ]
    },
    {
     "data": {
      "text/plain": [
       "'9624.540758132935ms'"
      ]
     },
     "execution_count": 5,
     "metadata": {},
     "output_type": "execute_result"
    }
   ],
   "source": [
    "test_time(sum_of_not_abundant_sums, (28123,)) # 4179871\n",
    "# 10 seconds"
   ]
  },
  {
   "cell_type": "markdown",
   "id": "f037ecad",
   "metadata": {},
   "source": [
    "## approach 2: array filtering with numpy"
   ]
  },
  {
   "cell_type": "code",
   "execution_count": 6,
   "id": "fbc69d00",
   "metadata": {},
   "outputs": [],
   "source": [
    "def sum_of_not_abundant_sums(end_n, start_n=1):\n",
    "    import numpy as np\n",
    "    abundant = perfect_abundant_deficient(end_n, start_n, kind=\"abundant\")\n",
    "    not_abundant_sums = np.array([True]*(end_n - start_n + 1))\n",
    "    i = 0\n",
    "    for a in abundant:\n",
    "        for b in abundant[i:]:\n",
    "            ab_sum = a + b\n",
    "            if ab_sum > end_n:\n",
    "                break\n",
    "            not_abundant_sums[ab_sum - 1] = False # ab_sum is an abundant sum\n",
    "        i += 1\n",
    "    return sum(np.array(range(start_n, end_n + 1))[not_abundant_sums])"
   ]
  },
  {
   "cell_type": "code",
   "execution_count": 7,
   "id": "68113d55",
   "metadata": {},
   "outputs": [
    {
     "name": "stdout",
     "output_type": "stream",
     "text": [
      "4179871\n"
     ]
    },
    {
     "data": {
      "text/plain": [
       "'2798.908567428589ms'"
      ]
     },
     "execution_count": 7,
     "metadata": {},
     "output_type": "execute_result"
    }
   ],
   "source": [
    "test_time(sum_of_not_abundant_sums, (28123,)) # 4179871\n",
    "#3 seconds"
   ]
  },
  {
   "cell_type": "code",
   "execution_count": null,
   "id": "92a5374f",
   "metadata": {},
   "outputs": [],
   "source": []
  },
  {
   "cell_type": "markdown",
   "id": "2ea81225",
   "metadata": {},
   "source": [
    "## about NumPy filtering"
   ]
  },
  {
   "cell_type": "code",
   "execution_count": null,
   "id": "686a4eb3",
   "metadata": {},
   "outputs": [],
   "source": [
    "import numpy as np"
   ]
  },
  {
   "cell_type": "code",
   "execution_count": null,
   "id": "5308e9c0",
   "metadata": {},
   "outputs": [],
   "source": [
    "# list\n",
    "lst = list(range(1,11))\n",
    "lst"
   ]
  },
  {
   "cell_type": "code",
   "execution_count": null,
   "id": "e6f2f0db",
   "metadata": {},
   "outputs": [],
   "source": [
    "# numpy array\n",
    "arr = np.array(range(1,11))\n",
    "arr"
   ]
  },
  {
   "cell_type": "code",
   "execution_count": null,
   "id": "fa83d3c2",
   "metadata": {},
   "outputs": [],
   "source": [
    "# boolean list\n",
    "boo = [False, True]*5\n",
    "boo"
   ]
  },
  {
   "cell_type": "code",
   "execution_count": null,
   "id": "aac95ddf",
   "metadata": {},
   "outputs": [],
   "source": [
    "# numpy boolean array\n",
    "b_arr = np.array(boo)"
   ]
  },
  {
   "cell_type": "code",
   "execution_count": null,
   "id": "4fc27cec",
   "metadata": {},
   "outputs": [],
   "source": [
    "# numpy filter with boolean\n",
    "arr[b_arr]"
   ]
  },
  {
   "cell_type": "code",
   "execution_count": null,
   "id": "e33307f9",
   "metadata": {},
   "outputs": [],
   "source": [
    "#can't filter with boolean the same way as numpy\n",
    "#both of these give errors\n",
    "lst[boo]\n",
    "lst*boo"
   ]
  },
  {
   "cell_type": "code",
   "execution_count": null,
   "id": "8579830b",
   "metadata": {},
   "outputs": [],
   "source": [
    "# changing them to np arrays works\n",
    "np.array(lst)[np.array(boo)]"
   ]
  },
  {
   "cell_type": "code",
   "execution_count": null,
   "id": "25091151",
   "metadata": {},
   "outputs": [],
   "source": [
    "# even changing just the list to np array works\n",
    "np.array(lst)[boo]"
   ]
  },
  {
   "cell_type": "code",
   "execution_count": null,
   "id": "96289a80",
   "metadata": {},
   "outputs": [],
   "source": [
    "# but changing just the boolean to np array doesn't work\n",
    "lst[np.array(boo)]"
   ]
  },
  {
   "cell_type": "code",
   "execution_count": null,
   "id": "2aa22dc1",
   "metadata": {},
   "outputs": [],
   "source": []
  },
  {
   "cell_type": "markdown",
   "id": "9fa8de1c",
   "metadata": {},
   "source": [
    "## testing"
   ]
  },
  {
   "cell_type": "code",
   "execution_count": 1,
   "id": "970a0940",
   "metadata": {},
   "outputs": [],
   "source": [
    "def test_time(func_to_test, any_params=(), num_times_to_run=5, print_results=True):\n",
    "    import time\n",
    "    start = time.time()\n",
    "\n",
    "    for i in range(num_times_to_run):\n",
    "        results = func_to_test(*any_params)\n",
    "\n",
    "    end = time.time()\n",
    "    if print_results:\n",
    "        print(results)\n",
    "    return str((end - start) * 10**3 / num_times_to_run) + \"ms\""
   ]
  }
 ],
 "metadata": {
  "kernelspec": {
   "display_name": "Python 3 (ipykernel)",
   "language": "python",
   "name": "python3"
  },
  "language_info": {
   "codemirror_mode": {
    "name": "ipython",
    "version": 3
   },
   "file_extension": ".py",
   "mimetype": "text/x-python",
   "name": "python",
   "nbconvert_exporter": "python",
   "pygments_lexer": "ipython3",
   "version": "3.10.8"
  }
 },
 "nbformat": 4,
 "nbformat_minor": 5
}

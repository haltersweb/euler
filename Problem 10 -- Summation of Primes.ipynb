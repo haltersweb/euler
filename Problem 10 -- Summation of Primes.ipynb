{
 "cells": [
  {
   "cell_type": "markdown",
   "id": "f11a3f66",
   "metadata": {},
   "source": [
    "# Summation of Primes\n",
    "([Problem 10](https://projecteuler.net/problem=10))\n",
    "The sum of the primes below $10$ is $2 + 3 + 5 + 7 = 17$.\n",
    "\n",
    "Find the sum of all the primes below $2,000,000$.\n",
    "\n",
    "## thoughts\n",
    "\n",
    "* Use my latest (and speedy) sieve_of_eratosthenes function"
   ]
  },
  {
   "cell_type": "markdown",
   "id": "dc25e96f",
   "metadata": {},
   "source": [
    "## solution"
   ]
  },
  {
   "cell_type": "code",
   "execution_count": 1,
   "id": "185b68a8",
   "metadata": {},
   "outputs": [],
   "source": [
    "def sieve_of_eratosthenes(limit):\n",
    "    import math\n",
    "    # create boolean list for odd numbers only, starting with 1\n",
    "    is_it_prime = [False] + [True] * (math.ceil(limit / 2) - 1)\n",
    "    primes = [2] # pre-populate the first (and the only even) prime\n",
    "    for i in range (1, math.ceil(limit / 2)):\n",
    "        pc = 2 * i + 1 # pc = prime candidate\n",
    "        if is_it_prime[i]: # True means prime candidate is prime\n",
    "            primes.append(pc)\n",
    "            # index of is_it_prime corresponding to square of prime\n",
    "            i_of_sqr = int(((2 * i + 1)**2 - 1) / 2)\n",
    "            if i_of_sqr < len(is_it_prime):\n",
    "                for j in range(i_of_sqr, len(is_it_prime), pc):\n",
    "                    is_it_prime[j] = False\n",
    "    return primes"
   ]
  },
  {
   "cell_type": "code",
   "execution_count": 2,
   "id": "a67e11c9",
   "metadata": {},
   "outputs": [
    {
     "name": "stdout",
     "output_type": "stream",
     "text": [
      "142913828922\n",
      "there are 148933 primes between 0 and 2000000\n"
     ]
    }
   ],
   "source": [
    "primes = sieve_of_eratosthenes(2000000)\n",
    "print(sum(primes))\n",
    "print('there are {} primes between 0 and {}'.format(len(primes), 2000000))"
   ]
  },
  {
   "cell_type": "code",
   "execution_count": 4,
   "id": "ef4689fe",
   "metadata": {},
   "outputs": [],
   "source": [
    "def sum_of_primes(limit):\n",
    "    primes = sieve_of_eratosthenes(limit)\n",
    "    return sum(primes)"
   ]
  },
  {
   "cell_type": "code",
   "execution_count": 5,
   "id": "6248c430",
   "metadata": {},
   "outputs": [
    {
     "name": "stdout",
     "output_type": "stream",
     "text": [
      "142913828922\n"
     ]
    }
   ],
   "source": [
    "print(sum_of_primes(2000000))"
   ]
  },
  {
   "cell_type": "code",
   "execution_count": 6,
   "id": "0fe5c483",
   "metadata": {},
   "outputs": [
    {
     "name": "stdout",
     "output_type": "stream",
     "text": [
      "142913828922\n"
     ]
    },
    {
     "data": {
      "text/plain": [
       "'375.2175235748291ms'"
      ]
     },
     "execution_count": 6,
     "metadata": {},
     "output_type": "execute_result"
    }
   ],
   "source": [
    "test_time(sum_of_primes, (2000000,), 25)"
   ]
  },
  {
   "cell_type": "markdown",
   "id": "7c21e0cb",
   "metadata": {},
   "source": [
    "## timer"
   ]
  },
  {
   "cell_type": "code",
   "execution_count": 3,
   "id": "3c9699dd",
   "metadata": {},
   "outputs": [],
   "source": [
    "def test_time(func_to_test, any_params=(), num_times_to_run=5, print_results=True):\n",
    "    import time\n",
    "    start = time.time()\n",
    "\n",
    "    for i in range(num_times_to_run):\n",
    "        results = func_to_test(*any_params)\n",
    "\n",
    "    end = time.time()\n",
    "    if print_results:\n",
    "        print(results)\n",
    "    return str((end - start) * 10**3 / num_times_to_run) + \"ms\""
   ]
  },
  {
   "cell_type": "code",
   "execution_count": null,
   "id": "c37a86c6",
   "metadata": {},
   "outputs": [],
   "source": []
  }
 ],
 "metadata": {
  "kernelspec": {
   "display_name": "Python 3 (ipykernel)",
   "language": "python",
   "name": "python3"
  },
  "language_info": {
   "codemirror_mode": {
    "name": "ipython",
    "version": 3
   },
   "file_extension": ".py",
   "mimetype": "text/x-python",
   "name": "python",
   "nbconvert_exporter": "python",
   "pygments_lexer": "ipython3",
   "version": "3.10.8"
  }
 },
 "nbformat": 4,
 "nbformat_minor": 5
}

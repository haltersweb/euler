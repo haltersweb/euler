{
 "cells": [
  {
   "cell_type": "markdown",
   "id": "38531f5f",
   "metadata": {},
   "source": [
    "# 1000-digit Fibonacci Number\n",
    "\n",
    "([Problem 25](https://projecteuler.net/problem=25))\n",
    "\n",
    "The Fibonacci sequence is defined by the recurrence relation:\n",
    "\n",
    "$F_n = F_{n-1} + F_{n-2}$, where $F_0 = 0$, $F_1 = 1$, $F_2 = 1$, and $F_3$\n",
    "\n",
    "Hence the first 12 terms will be:\n",
    "\n",
    "$$\n",
    "F_0 = 0\\\\\n",
    "F_1 = 1\\\\\n",
    "F_2 = 1\\\\\n",
    "F_3 = 2\\\\\n",
    "F_4 = 3\\\\\n",
    "F_5 = 5\\\\\n",
    "F_6 = 8\\\\\n",
    "F_7 = 13\\\\\n",
    "F_8 = 21\\\\\n",
    "F_9 = 34\\\\\n",
    "F_{10} = 55\\\\\n",
    "F_{11} = 89\\\\\n",
    "F_{12} = 144\n",
    "$$\n",
    "\n",
    "\n",
    "\n",
    "The __12th__ term (__index__), $F_{12}$, is the __first__ term to contain __three digits__.\n",
    "\n",
    "What is the __index__ of the __first__ term in the Fibonacci sequence to contain __1,000 digits__?"
   ]
  },
  {
   "cell_type": "markdown",
   "id": "b3f77606",
   "metadata": {},
   "source": [
    "## law of logarithms\n",
    "\n",
    "#### zero exponent rule\n",
    "\n",
    "$$log_A1 = 0$$\n",
    "\n",
    "#### identity exponent rule\n",
    "\n",
    "$$log_AA = 1\\\\\n",
    "\\\\\n",
    "log_AA^B = B$$\n",
    "\n",
    "#### product rule\n",
    "\n",
    "$$log(A \\times B) = logA + logB$$\n",
    "\n",
    "#### division rule\n",
    "\n",
    "$$log \\left( \\frac{A}{B} \\right) = logA - logB$$\n",
    "\n",
    "#### exponential rule\n",
    "\n",
    "$$log_CA^B = B \\times log_CA$$\n",
    "\n",
    "#### change of base rule\n",
    "\n",
    "$$log_BA = \\frac{log_CA}{log_CB}$$\n",
    "\n",
    "#### base switch rule\n",
    "\n",
    "$$log_BA = \\frac{1}{log_AB}$$"
   ]
  },
  {
   "cell_type": "markdown",
   "id": "8f2c3c8c",
   "metadata": {},
   "source": [
    "## Solution\n",
    "\n",
    "_(The solution required a lot of __logarithmic__ knowledge.)_\n",
    "\n",
    "### Binet's formula\n",
    "\n",
    "Binet's formula finds an nth term in the Fibonacci sequence\n",
    "\n",
    "$$\n",
    "F_n = \\frac{\\left( \\frac{1 + \\sqrt5}{2} \\right)^n - \\left( \\frac{1 - \\sqrt5}{2} \\right)^n}{\\sqrt5}; n=0,1,2,\\ldots\n",
    "$$\n",
    "\n",
    "Binet's formula will work on paper.  The problem is when __using Python__, Binet's formula __returns a floating point__ number.  The Fibonacci term we are looking for has 1,000 digits, but __Python will not allow__ floating point numbers that __large__.\n",
    "\n",
    "This equation __only works__ for $n < 1475$.  At $n = 1475$, $F_n$ becomes __too big__ for Python to calculate.\n",
    "\n",
    "I needed a solution where this large Fibonacci term would programmatically exist __only__ as a large __integer__."
   ]
  },
  {
   "cell_type": "code",
   "execution_count": 15,
   "id": "d54883de",
   "metadata": {},
   "outputs": [],
   "source": [
    "def binet(n): # where n is integer representing the nth Fibonacci term in the series\n",
    "    import math\n",
    "    fib = (pow(((1 + math.sqrt(5)) / 2),n) - pow(((1 - math.sqrt(5)) / 2),n)) / math.sqrt(5)\n",
    "    return int(fib)"
   ]
  },
  {
   "cell_type": "code",
   "execution_count": 16,
   "id": "27fd4440",
   "metadata": {},
   "outputs": [
    {
     "data": {
      "text/plain": [
       "43466557686938914862637500386755014010958388901725051132915256476112292920052539720295234060457458057800732025086130975998716977051839168242483814062805283311821051327273518050882075662659534523370463746326528"
      ]
     },
     "execution_count": 16,
     "metadata": {},
     "output_type": "execute_result"
    }
   ],
   "source": [
    "binet(1000)"
   ]
  },
  {
   "cell_type": "code",
   "execution_count": 17,
   "id": "0996e770",
   "metadata": {},
   "outputs": [
    {
     "ename": "OverflowError",
     "evalue": "(34, 'Result too large')",
     "output_type": "error",
     "traceback": [
      "\u001b[0;31m---------------------------------------------------------------------------\u001b[0m",
      "\u001b[0;31mOverflowError\u001b[0m                             Traceback (most recent call last)",
      "Cell \u001b[0;32mIn[17], line 1\u001b[0m\n\u001b[0;32m----> 1\u001b[0m \u001b[43mbinet\u001b[49m\u001b[43m(\u001b[49m\u001b[38;5;241;43m2000\u001b[39;49m\u001b[43m)\u001b[49m\n",
      "Cell \u001b[0;32mIn[15], line 3\u001b[0m, in \u001b[0;36mbinet\u001b[0;34m(n)\u001b[0m\n\u001b[1;32m      1\u001b[0m \u001b[38;5;28;01mdef\u001b[39;00m \u001b[38;5;21mbinet\u001b[39m(n): \u001b[38;5;66;03m# where n is integer representing the nth Fibonacci term in the series\u001b[39;00m\n\u001b[1;32m      2\u001b[0m     \u001b[38;5;28;01mimport\u001b[39;00m \u001b[38;5;21;01mmath\u001b[39;00m\n\u001b[0;32m----> 3\u001b[0m     fib \u001b[38;5;241m=\u001b[39m (\u001b[38;5;28;43mpow\u001b[39;49m\u001b[43m(\u001b[49m\u001b[43m(\u001b[49m\u001b[43m(\u001b[49m\u001b[38;5;241;43m1\u001b[39;49m\u001b[43m \u001b[49m\u001b[38;5;241;43m+\u001b[39;49m\u001b[43m \u001b[49m\u001b[43mmath\u001b[49m\u001b[38;5;241;43m.\u001b[39;49m\u001b[43msqrt\u001b[49m\u001b[43m(\u001b[49m\u001b[38;5;241;43m5\u001b[39;49m\u001b[43m)\u001b[49m\u001b[43m)\u001b[49m\u001b[43m \u001b[49m\u001b[38;5;241;43m/\u001b[39;49m\u001b[43m \u001b[49m\u001b[38;5;241;43m2\u001b[39;49m\u001b[43m)\u001b[49m\u001b[43m,\u001b[49m\u001b[43mn\u001b[49m\u001b[43m)\u001b[49m \u001b[38;5;241m-\u001b[39m \u001b[38;5;28mpow\u001b[39m(((\u001b[38;5;241m1\u001b[39m \u001b[38;5;241m-\u001b[39m math\u001b[38;5;241m.\u001b[39msqrt(\u001b[38;5;241m5\u001b[39m)) \u001b[38;5;241m/\u001b[39m \u001b[38;5;241m2\u001b[39m),n)) \u001b[38;5;241m/\u001b[39m math\u001b[38;5;241m.\u001b[39msqrt(\u001b[38;5;241m5\u001b[39m)\n\u001b[1;32m      4\u001b[0m     \u001b[38;5;28;01mreturn\u001b[39;00m \u001b[38;5;28mint\u001b[39m(fib)\n",
      "\u001b[0;31mOverflowError\u001b[0m: (34, 'Result too large')"
     ]
    }
   ],
   "source": [
    "binet(2000)"
   ]
  },
  {
   "cell_type": "markdown",
   "id": "0ae148c2",
   "metadata": {},
   "source": [
    "### the golden ratio\n",
    "\n",
    "Binet's formula is actually a function of the golden ratio ($\\phi$) and its inverse ($\\psi$).\n",
    "\n",
    "$$\n",
    "\\phi =  \\frac{1 + \\sqrt5}{2}\\\\\n",
    "\\\\\n",
    "\\psi = \\frac{1}{\\phi} = \\frac{1 - \\sqrt5}{2}\n",
    "$$\n",
    "\n",
    "### Binet's formula as function of $\\phi$ and $\\psi$\n",
    "\n",
    "$$\n",
    "F_n = \\frac{\\phi^n - \\psi^n}{\\sqrt5} = \\frac{\\phi^n}{\\sqrt5} - \\frac{\\psi^n}{\\sqrt5}\n",
    "$$\n",
    "\n",
    "### estimating an nth Fibonacci term\n",
    "\n",
    "As $n$ increases, $\\frac{\\psi^n}{\\sqrt5}$ approaches $0$.  Therefore,\n",
    "\n",
    "$$\n",
    "F_n \\approx \\frac{\\phi^n}{\\sqrt5}\n",
    "$$\n",
    "\n",
    "### rewritten to estimate n\n",
    "\n",
    "$$\n",
    "n \\approx log_{\\phi} \\left( F_n \\sqrt5 \\right)\n",
    "$$\n",
    "\n",
    "(change to $log_{10}$)\n",
    "\n",
    "$$\n",
    "n \\, \\approx \\, \\frac{log \\, (F_n\\sqrt5)}{log \\, \\phi} = \\frac{log \\, F_n + log \\, \\sqrt5}{log \\, \\phi}\n",
    "$$\n",
    "\n",
    "### solve for n using an estimated Fibonacci term\n",
    "\n",
    "We know that the Fibonacci number we seek, $F_n >= 10^{999}$. Therefore,\n",
    "\n",
    "$$\n",
    "n \\approx \\frac{log \\, 10^{999} + log \\, \\sqrt5}{log \\, \\phi}\n",
    "$$\n",
    "\n",
    "Since $log_AA^B = B$, then $log10^{999} = 999$.  Therefore,\n",
    "\n",
    "$$\n",
    "n \\approx \\frac{999 + log \\, \\sqrt5}{log \\, \\phi}\n",
    "$$"
   ]
  },
  {
   "cell_type": "code",
   "execution_count": 20,
   "id": "1b27383d",
   "metadata": {},
   "outputs": [],
   "source": [
    "def fib_term_index(d): # where d is the number of digits\n",
    "    from math import sqrt, ceil, log10\n",
    "    \n",
    "    # calculate the golden ratio\n",
    "    ϕ = (1 + sqrt(5)) / 2\n",
    "\n",
    "    n = ceil(((d - 1) + log10(sqrt(5))) / log10(ϕ))\n",
    "    return n"
   ]
  },
  {
   "cell_type": "code",
   "execution_count": 21,
   "id": "4907f6c5",
   "metadata": {},
   "outputs": [
    {
     "data": {
      "text/plain": [
       "4782"
      ]
     },
     "execution_count": 21,
     "metadata": {},
     "output_type": "execute_result"
    }
   ],
   "source": [
    "fib_term_index(1000)  # 4782"
   ]
  },
  {
   "cell_type": "code",
   "execution_count": 22,
   "id": "6bcf680b",
   "metadata": {},
   "outputs": [
    {
     "name": "stdout",
     "output_type": "stream",
     "text": [
      "4782\n"
     ]
    },
    {
     "data": {
      "text/plain": [
       "'0.00400543212890625ms'"
      ]
     },
     "execution_count": 22,
     "metadata": {},
     "output_type": "execute_result"
    }
   ],
   "source": [
    "test_time(fib_term_index, (1000,))"
   ]
  },
  {
   "cell_type": "code",
   "execution_count": null,
   "id": "96f45ee6",
   "metadata": {},
   "outputs": [],
   "source": []
  },
  {
   "cell_type": "markdown",
   "id": "5ef5a28f",
   "metadata": {},
   "source": [
    "## timing"
   ]
  },
  {
   "cell_type": "code",
   "execution_count": 18,
   "id": "909bf9d9",
   "metadata": {},
   "outputs": [],
   "source": [
    "def test_time(func_to_test, any_params=(), num_times_to_run=5, print_results=True):\n",
    "    import time\n",
    "    start = time.time()\n",
    "\n",
    "    for i in range(num_times_to_run):\n",
    "        results = func_to_test(*any_params)\n",
    "\n",
    "    end = time.time()\n",
    "    if print_results:\n",
    "        print(results)\n",
    "    return str((end - start) * 10**3 / num_times_to_run) + \"ms\""
   ]
  },
  {
   "cell_type": "code",
   "execution_count": null,
   "id": "cffa7987",
   "metadata": {},
   "outputs": [],
   "source": []
  }
 ],
 "metadata": {
  "kernelspec": {
   "display_name": "Python 3 (ipykernel)",
   "language": "python",
   "name": "python3"
  },
  "language_info": {
   "codemirror_mode": {
    "name": "ipython",
    "version": 3
   },
   "file_extension": ".py",
   "mimetype": "text/x-python",
   "name": "python",
   "nbconvert_exporter": "python",
   "pygments_lexer": "ipython3",
   "version": "3.10.13"
  }
 },
 "nbformat": 4,
 "nbformat_minor": 5
}

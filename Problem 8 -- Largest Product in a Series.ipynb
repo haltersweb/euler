{
 "cells": [
  {
   "cell_type": "markdown",
   "id": "48ed8d3f",
   "metadata": {},
   "source": [
    "# Largest Product in a Series\n",
    "\n",
    "_([Problem 8](https://projecteuler.net/problem=8))_\n",
    "\n",
    "The four adjacent digits in the $1000$-digit number that have the greatest product are $9 x 9 x 8 x 9 = 5832$.\n",
    "```\n",
    "73167176531330624919225119674426574742355349194934\n",
    "96983520312774506326239578318016984801869478851843\n",
    "85861560789112949495459501737958331952853208805511\n",
    "12540698747158523863050715693290963295227443043557\n",
    "66896648950445244523161731856403098711121722383113\n",
    "62229893423380308135336276614282806444486645238749\n",
    "30358907296290491560440772390713810515859307960866\n",
    "70172427121883998797908792274921901699720888093776\n",
    "65727333001053367881220235421809751254540594752243\n",
    "52584907711670556013604839586446706324415722155397\n",
    "53697817977846174064955149290862569321978468622482\n",
    "83972241375657056057490261407972968652414535100474\n",
    "82166370484403199890008895243450658541227588666881\n",
    "16427171479924442928230863465674813919123162824586\n",
    "17866458359124566529476545682848912883142607690042\n",
    "24219022671055626321111109370544217506941658960408\n",
    "07198403850962455444362981230987879927244284909188\n",
    "84580156166097919133875499200524063689912560717606\n",
    "05886116467109405077541002256983155200055935729725\n",
    "71636269561882670428252483600823257530420752963450\n",
    "```\n",
    "Find the __thirteen adjacent digits__ in the $1000$-digit number that have the __greatest product__. What is the __value of this product__?"
   ]
  },
  {
   "cell_type": "code",
   "execution_count": 45,
   "id": "a5dba44a",
   "metadata": {},
   "outputs": [],
   "source": [
    "def findprod(num, length): # num is number you want to search through, length is length of consecutive sequence\n",
    "    import math\n",
    "    numlist = list(map(int, str(num)))\n",
    "    candidates = []\n",
    "    greatest_product = 0\n",
    "    for i in range(len(numlist) - (length - 1)):\n",
    "        collector = numlist[i:i + length]\n",
    "        prod = math.prod(collector)\n",
    "        if prod > greatest_product:\n",
    "            greatest_product = prod\n",
    "        i += 1\n",
    "    return greatest_product"
   ]
  },
  {
   "cell_type": "code",
   "execution_count": 50,
   "id": "7d0a5136",
   "metadata": {},
   "outputs": [
    {
     "data": {
      "text/plain": [
       "23514624000"
      ]
     },
     "execution_count": 50,
     "metadata": {},
     "output_type": "execute_result"
    }
   ],
   "source": [
    "num = 7316717653133062491922511967442657474235534919493496983520312774506326239578318016984801869478851843858615607891129494954595017379583319528532088055111254069874715852386305071569329096329522744304355766896648950445244523161731856403098711121722383113622298934233803081353362766142828064444866452387493035890729629049156044077239071381051585930796086670172427121883998797908792274921901699720888093776657273330010533678812202354218097512545405947522435258490771167055601360483958644670632441572215539753697817977846174064955149290862569321978468622482839722413756570560574902614079729686524145351004748216637048440319989000889524345065854122758866688116427171479924442928230863465674813919123162824586178664583591245665294765456828489128831426076900422421902267105562632111110937054421750694165896040807198403850962455444362981230987879927244284909188845801561660979191338754992005240636899125607176060588611646710940507754100225698315520005593572972571636269561882670428252483600823257530420752963450\n",
    "findprod(num, 13)"
   ]
  },
  {
   "cell_type": "code",
   "execution_count": 51,
   "id": "8179fdba",
   "metadata": {},
   "outputs": [
    {
     "name": "stdout",
     "output_type": "stream",
     "text": [
      "23514624000\n"
     ]
    },
    {
     "data": {
      "text/plain": [
       "'0.9098529815673828ms'"
      ]
     },
     "execution_count": 51,
     "metadata": {},
     "output_type": "execute_result"
    }
   ],
   "source": [
    "test_time(findprod, (num, 13), 25)"
   ]
  },
  {
   "cell_type": "code",
   "execution_count": null,
   "id": "d98444b3",
   "metadata": {},
   "outputs": [],
   "source": []
  },
  {
   "cell_type": "markdown",
   "id": "226a26ad",
   "metadata": {},
   "source": [
    "## someone else's idea\n",
    "he decided to split list into multiple lists at zeros since prod of 0 = 0"
   ]
  },
  {
   "cell_type": "code",
   "execution_count": 54,
   "id": "befdedd9",
   "metadata": {},
   "outputs": [],
   "source": [
    "def largest_prod_in_series(num, size):\n",
    "    import math\n",
    "    n_str = str(num)\n",
    "    groups = filter(lambda lst: len(lst) >= size, n_str.split('0'))\n",
    "    largest = 0\n",
    "    for group in groups:\n",
    "        p = math.prod(map(lambda x: int(x), group[:size]))\n",
    "        if p > largest:\n",
    "            largest = p\n",
    "        for i in range(size, len(group)):\n",
    "            prev = int(group[i - size])\n",
    "            curr = int(group[i])\n",
    "            p = p // prev * curr\n",
    "            if p > largest:\n",
    "                largest = p\n",
    "    return largest"
   ]
  },
  {
   "cell_type": "code",
   "execution_count": 55,
   "id": "51606f5f",
   "metadata": {},
   "outputs": [
    {
     "name": "stdout",
     "output_type": "stream",
     "text": [
      "23514624000\n"
     ]
    },
    {
     "data": {
      "text/plain": [
       "'0.6617259979248047ms'"
      ]
     },
     "execution_count": 55,
     "metadata": {},
     "output_type": "execute_result"
    }
   ],
   "source": [
    "test_time(largest_prod_in_series, (num, 13), 25)"
   ]
  },
  {
   "cell_type": "markdown",
   "id": "6e48fabb",
   "metadata": {},
   "source": [
    "## timer"
   ]
  },
  {
   "cell_type": "code",
   "execution_count": 1,
   "id": "c0f1941e",
   "metadata": {},
   "outputs": [],
   "source": [
    "def test_time(func_to_test, any_params=(), num_times_to_run=5):\n",
    "    import time\n",
    "    start = time.time()\n",
    "\n",
    "    for i in range(num_times_to_run):\n",
    "        results = func_to_test(*any_params)\n",
    "\n",
    "    end = time.time()\n",
    "    print(results)\n",
    "    return str((end - start) * 10**3 / num_times_to_run) + \"ms\""
   ]
  },
  {
   "cell_type": "code",
   "execution_count": null,
   "id": "c0b679d5",
   "metadata": {},
   "outputs": [],
   "source": []
  }
 ],
 "metadata": {
  "kernelspec": {
   "display_name": "Python 3 (ipykernel)",
   "language": "python",
   "name": "python3"
  },
  "language_info": {
   "codemirror_mode": {
    "name": "ipython",
    "version": 3
   },
   "file_extension": ".py",
   "mimetype": "text/x-python",
   "name": "python",
   "nbconvert_exporter": "python",
   "pygments_lexer": "ipython3",
   "version": "3.10.8"
  }
 },
 "nbformat": 4,
 "nbformat_minor": 5
}

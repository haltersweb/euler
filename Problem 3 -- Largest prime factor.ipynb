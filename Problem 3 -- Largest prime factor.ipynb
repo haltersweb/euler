{
 "cells": [
  {
   "cell_type": "markdown",
   "id": "9f7c991f",
   "metadata": {},
   "source": [
    "# Largest prime factor\n",
    "\n",
    "([Problem 3](https://projecteuler.net/problem=3))\n",
    "\n",
    "The prime factors of 13195 are 5, 7, 13 and 29.\n",
    "\n",
    "What is the largest prime factor of the number 600851475143?"
   ]
  },
  {
   "cell_type": "code",
   "execution_count": 28,
   "id": "fca40e67",
   "metadata": {},
   "outputs": [
    {
     "name": "stdout",
     "output_type": "stream",
     "text": [
      "6857\n"
     ]
    }
   ],
   "source": [
    "num = 600851475143\n",
    "prime_factors = [1]\n",
    "balc = num\n",
    "i = 2\n",
    "while not balc == 1:\n",
    "    while balc % i == 0:\n",
    "        balc = balc / i\n",
    "        if i not in prime_factors:\n",
    "            prime_factors.append(i)\n",
    "    i += 2 if i > 2 else 1\n",
    "print(prime_factors[-1])"
   ]
  },
  {
   "cell_type": "code",
   "execution_count": null,
   "id": "a51b597d",
   "metadata": {},
   "outputs": [],
   "source": []
  }
 ],
 "metadata": {
  "kernelspec": {
   "display_name": "Python 3 (ipykernel)",
   "language": "python",
   "name": "python3"
  },
  "language_info": {
   "codemirror_mode": {
    "name": "ipython",
    "version": 3
   },
   "file_extension": ".py",
   "mimetype": "text/x-python",
   "name": "python",
   "nbconvert_exporter": "python",
   "pygments_lexer": "ipython3",
   "version": "3.10.8"
  }
 },
 "nbformat": 4,
 "nbformat_minor": 5
}

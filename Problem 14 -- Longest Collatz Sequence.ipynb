{
 "cells": [
  {
   "cell_type": "markdown",
   "id": "c44e5a31",
   "metadata": {},
   "source": [
    "# Longest Collatz Sequence\n",
    "\n",
    "([Problem 14](https://projecteuler.net/problem=14))\n",
    "\n",
    "The following iterative sequence is defined for the set of positive integers:\n",
    "\n",
    "* if $n$ is even:\n",
    "    * $n \\to n/2$\n",
    "\n",
    "* if $n$ is odd:\n",
    "    * $n \\to 3n + 1$\n",
    "\n",
    "\n",
    "Using the rule above and starting with $13$, we generate the following sequence:\n",
    "\n",
    "$$\n",
    "13 \\to 40 \\to 20 \\to 10 \\to 5 \\to 16 \\to 8 \\to 4 \\to 2 \\to 1\n",
    "$$\n",
    "\n",
    "It can be seen that this sequence (starting at $13$ and finishing at $1$) contains $10$ terms. Although it has not been proved yet (Collatz Problem), it is thought that all starting numbers finish at $1$.\n",
    "\n",
    "Which starting number, under one million, produces the longest chain?\n",
    "\n",
    "NOTE: Once the chain starts the terms are allowed to go above one million.\n",
    "\n",
    "## first, write the Collatz chain method"
   ]
  },
  {
   "cell_type": "code",
   "execution_count": 114,
   "id": "9497711c",
   "metadata": {},
   "outputs": [],
   "source": [
    "# get the Collatz chain of a particular number\n",
    "def collatz_chain(n):\n",
    "    chain = [1]\n",
    "    while n != 1:\n",
    "        chain.insert(-1, int(n))\n",
    "        if n % 2 == 0:\n",
    "            n = n / 2\n",
    "        else:\n",
    "            n = 3 * n + 1\n",
    "    return chain"
   ]
  },
  {
   "cell_type": "code",
   "execution_count": 115,
   "id": "4db23eaf",
   "metadata": {},
   "outputs": [
    {
     "name": "stdout",
     "output_type": "stream",
     "text": [
      "[1, 2, 4, 8, 16, 5, 10, 20, 40, 80, 160, 53, 106, 35, 70, 23, 46, 92, 184, 61, 122, 244, 488, 976, 325, 650, 1300, 433, 866, 1732, 577, 1154, 2308, 4616, 9232, 3077, 6154, 2051, 4102, 1367, 2734, 911, 1822, 3644, 7288, 2429, 4858, 1619, 3238, 1079, 2158, 719, 1438, 479, 958, 319, 638, 1276, 425, 850, 283, 566, 1132, 377, 754, 251, 502, 167, 334, 668, 1336, 445, 890, 1780, 593, 1186, 395, 790, 263, 526, 175, 350, 700, 233, 466, 155, 310, 103, 206, 412, 137, 274, 91, 182, 364, 121, 242, 484, 161, 322, 107, 214, 71, 142, 47, 94, 188, 376, 125, 250, 83, 166, 55, 110, 220, 73, 146, 292, 97, 194, 388, 776, 1552, 3104, 6208, 2069, 4138, 1379, 2758, 919, 1838, 3676, 1225, 2450, 4900, 1633, 3266, 6532, 2177, 4354, 1451, 2902, 967, 1934, 3868, 1289, 2578, 859, 1718, 3436, 1145, 2290, 4580, 9160, 3053, 6106, 2035, 4070, 8140, 16280, 32560, 10853, 21706, 7235, 14470, 4823, 9646, 3215, 6430, 12860, 25720, 8573, 17146, 34292, 68584, 22861, 45722, 91444, 182888, 365776, 121925, 243850, 487700, 975400, 325133, 650266, 216755, 433510, 144503, 289006, 96335, 192670, 64223, 128446, 42815, 85630, 171260, 342520, 114173, 228346, 76115, 152230, 50743, 101486, 202972, 67657, 135314, 270628, 90209, 180418, 60139, 120278, 240556, 80185, 160370, 320740, 106913, 213826, 71275, 142550, 285100, 95033, 190066, 63355, 126710, 253420, 84473, 168946, 56315, 112630, 37543, 75086, 150172, 50057, 100114, 33371, 66742, 133484, 266968, 533936, 1067872, 355957, 711914, 1423828, 2847656, 5695312, 11390624, 22781248, 7593749, 15187498, 5062499, 10124998, 3374999, 6749998, 2249999, 4499998, 1499999, 2999998, 999999]\n",
      "259\n"
     ]
    }
   ],
   "source": [
    "chain_999999 = collatz_chain(999999)\n",
    "print(chain_999999[::-1])\n",
    "print(len(chain_999999))"
   ]
  },
  {
   "cell_type": "markdown",
   "id": "9e948da8",
   "metadata": {},
   "source": [
    "## brute force method\n",
    "\n",
    "Took about __45 seconds__ to get the solution.  Not bad."
   ]
  },
  {
   "cell_type": "code",
   "execution_count": null,
   "id": "c51addb8",
   "metadata": {},
   "outputs": [],
   "source": [
    "# get the Collatz chain of a particular number\n",
    "def collatz_chain(n):\n",
    "    chain = [1]\n",
    "    while n != 1:\n",
    "        chain.insert(-1, int(n))\n",
    "        if n % 2 == 0:\n",
    "            n = n / 2\n",
    "        else:\n",
    "            n = 3 * n + 1\n",
    "    return chain"
   ]
  },
  {
   "cell_type": "code",
   "execution_count": 118,
   "id": "655cae13",
   "metadata": {},
   "outputs": [],
   "source": [
    "def find_long_chain(start_less_than):\n",
    "    long_chain_count = (0, 0)\n",
    "    for i in range(2, start_less_than):\n",
    "        chain = collatz_chain(i)\n",
    "        if long_chain_count[1] < len(chain):\n",
    "            long_chain_count = (i, len(chain))\n",
    "    return '{} has the longest Collatz sequence at {}'.format(long_chain_count[0], long_chain_count[1])"
   ]
  },
  {
   "cell_type": "code",
   "execution_count": 119,
   "id": "d5a05695",
   "metadata": {},
   "outputs": [
    {
     "name": "stdout",
     "output_type": "stream",
     "text": [
      "9 has the longest Collatz sequence at 20\n"
     ]
    },
    {
     "data": {
      "text/plain": [
       "'0.026988983154296875ms'"
      ]
     },
     "execution_count": 119,
     "metadata": {},
     "output_type": "execute_result"
    }
   ],
   "source": [
    "# .025 ms\n",
    "test_time(find_long_chain, (10,))"
   ]
  },
  {
   "cell_type": "code",
   "execution_count": 120,
   "id": "420cd02e",
   "metadata": {},
   "outputs": [
    {
     "name": "stdout",
     "output_type": "stream",
     "text": [
      "97 has the longest Collatz sequence at 119\n"
     ]
    },
    {
     "data": {
      "text/plain": [
       "'1.6853809356689453ms'"
      ]
     },
     "execution_count": 120,
     "metadata": {},
     "output_type": "execute_result"
    }
   ],
   "source": [
    "# 1 ms\n",
    "test_time(find_long_chain, (100,))"
   ]
  },
  {
   "cell_type": "code",
   "execution_count": 121,
   "id": "b5e58343",
   "metadata": {},
   "outputs": [
    {
     "name": "stdout",
     "output_type": "stream",
     "text": [
      "871 has the longest Collatz sequence at 179\n"
     ]
    },
    {
     "data": {
      "text/plain": [
       "'25.497770309448242ms'"
      ]
     },
     "execution_count": 121,
     "metadata": {},
     "output_type": "execute_result"
    }
   ],
   "source": [
    "# 25 ms\n",
    "test_time(find_long_chain, (1000,))"
   ]
  },
  {
   "cell_type": "code",
   "execution_count": 122,
   "id": "cee1ad02",
   "metadata": {},
   "outputs": [
    {
     "name": "stdout",
     "output_type": "stream",
     "text": [
      "6171 has the longest Collatz sequence at 262\n"
     ]
    },
    {
     "data": {
      "text/plain": [
       "'283.4444046020508ms'"
      ]
     },
     "execution_count": 122,
     "metadata": {},
     "output_type": "execute_result"
    }
   ],
   "source": [
    "# 280 ms\n",
    "test_time(find_long_chain, (10000,))"
   ]
  },
  {
   "cell_type": "code",
   "execution_count": 123,
   "id": "03e2b5d7",
   "metadata": {},
   "outputs": [
    {
     "name": "stdout",
     "output_type": "stream",
     "text": [
      "77031 has the longest Collatz sequence at 351\n"
     ]
    },
    {
     "data": {
      "text/plain": [
       "'3293.332576751709ms'"
      ]
     },
     "execution_count": 123,
     "metadata": {},
     "output_type": "execute_result"
    }
   ],
   "source": [
    "# 3.5 seconds\n",
    "test_time(find_long_chain, (100000,))"
   ]
  },
  {
   "cell_type": "code",
   "execution_count": 124,
   "id": "cb09d34b",
   "metadata": {},
   "outputs": [
    {
     "name": "stdout",
     "output_type": "stream",
     "text": [
      "837799 has the longest Collatz sequence at 525\n"
     ]
    },
    {
     "data": {
      "text/plain": [
       "'40602.92820930481ms'"
      ]
     },
     "execution_count": 124,
     "metadata": {},
     "output_type": "execute_result"
    }
   ],
   "source": [
    "# 42 seconds\n",
    "test_time(find_long_chain, (1000000,))"
   ]
  },
  {
   "cell_type": "markdown",
   "id": "6dd5d4e1",
   "metadata": {},
   "source": [
    "## test top 50% and only odd numbers\n",
    "\n",
    "__The best solution__\n",
    "\n",
    "I noticed that the longest sequence seems to land within the last 50% of the number limit.\n",
    "\n",
    "Additionally, numbers with the largest sequences are odd numbers (makes sense because they always start by increasing the number in the sequence.)\n",
    "\n",
    "The below solution took 1/3 the time."
   ]
  },
  {
   "cell_type": "code",
   "execution_count": null,
   "id": "cf14b9ae",
   "metadata": {},
   "outputs": [],
   "source": [
    "# get the Collatz chain of a particular number\n",
    "def collatz_chain(n):\n",
    "    chain = [1]\n",
    "    while n != 1:\n",
    "        chain.insert(-1, int(n))\n",
    "        if n % 2 == 0:\n",
    "            n = n / 2\n",
    "        else:\n",
    "            n = 3 * n + 1\n",
    "    return chain"
   ]
  },
  {
   "cell_type": "code",
   "execution_count": 214,
   "id": "5f94cb36",
   "metadata": {},
   "outputs": [],
   "source": [
    "# find the number less than a given number with the longest Collatz sequence\n",
    "def find_long_chain(less_than):\n",
    "    import math\n",
    "    long_chain_count = (0, 0)\n",
    "    start_number = math.floor(less_than / 2)\n",
    "    start_number += 1 if start_number % 2 == 0 else 0 # always odd\n",
    "    for i in range(start_number, less_than, 2): # odd numbers\n",
    "        chain = collatz_chain(i)\n",
    "        if long_chain_count[1] < len(chain):\n",
    "            long_chain_count = (i, len(chain))\n",
    "    return '{} has the longest Collatz sequence at {}'.format(long_chain_count[0], long_chain_count[1])\n"
   ]
  },
  {
   "cell_type": "code",
   "execution_count": 215,
   "id": "9930c7c8",
   "metadata": {},
   "outputs": [
    {
     "name": "stdout",
     "output_type": "stream",
     "text": [
      "9 has the longest Collatz sequence at 20\n"
     ]
    },
    {
     "data": {
      "text/plain": [
       "'0.018215179443359375ms'"
      ]
     },
     "execution_count": 215,
     "metadata": {},
     "output_type": "execute_result"
    }
   ],
   "source": [
    "# .018 ms\n",
    "test_time(find_long_chain, (10,))"
   ]
  },
  {
   "cell_type": "code",
   "execution_count": 216,
   "id": "e55c886d",
   "metadata": {},
   "outputs": [
    {
     "name": "stdout",
     "output_type": "stream",
     "text": [
      "97 has the longest Collatz sequence at 119\n"
     ]
    },
    {
     "data": {
      "text/plain": [
       "'0.45299530029296875ms'"
      ]
     },
     "execution_count": 216,
     "metadata": {},
     "output_type": "execute_result"
    }
   ],
   "source": [
    "# .45 ms\n",
    "test_time(find_long_chain, (100,))"
   ]
  },
  {
   "cell_type": "code",
   "execution_count": 217,
   "id": "879aebec",
   "metadata": {},
   "outputs": [
    {
     "name": "stdout",
     "output_type": "stream",
     "text": [
      "871 has the longest Collatz sequence at 179\n"
     ]
    },
    {
     "data": {
      "text/plain": [
       "'7.358121871948242ms'"
      ]
     },
     "execution_count": 217,
     "metadata": {},
     "output_type": "execute_result"
    }
   ],
   "source": [
    "# 7 ms\n",
    "test_time(find_long_chain, (1000,))"
   ]
  },
  {
   "cell_type": "code",
   "execution_count": 218,
   "id": "a9e5fb47",
   "metadata": {},
   "outputs": [
    {
     "name": "stdout",
     "output_type": "stream",
     "text": [
      "6171 has the longest Collatz sequence at 262\n"
     ]
    },
    {
     "data": {
      "text/plain": [
       "'91.38760566711426ms'"
      ]
     },
     "execution_count": 218,
     "metadata": {},
     "output_type": "execute_result"
    }
   ],
   "source": [
    "# 91 ms\n",
    "test_time(find_long_chain, (10000,))"
   ]
  },
  {
   "cell_type": "code",
   "execution_count": 219,
   "id": "fb6b9c41",
   "metadata": {},
   "outputs": [
    {
     "name": "stdout",
     "output_type": "stream",
     "text": [
      "77031 has the longest Collatz sequence at 351\n"
     ]
    },
    {
     "data": {
      "text/plain": [
       "'1091.6337966918945ms'"
      ]
     },
     "execution_count": 219,
     "metadata": {},
     "output_type": "execute_result"
    }
   ],
   "source": [
    "# 1 seconds\n",
    "test_time(find_long_chain, (100000,))"
   ]
  },
  {
   "cell_type": "code",
   "execution_count": 220,
   "id": "aaf55f78",
   "metadata": {},
   "outputs": [
    {
     "name": "stdout",
     "output_type": "stream",
     "text": [
      "837799 has the longest Collatz sequence at 525\n"
     ]
    },
    {
     "data": {
      "text/plain": [
       "'12710.10217666626ms'"
      ]
     },
     "execution_count": 220,
     "metadata": {},
     "output_type": "execute_result"
    }
   ],
   "source": [
    "# 13 seconds\n",
    "test_time(find_long_chain, (1000000,))"
   ]
  },
  {
   "cell_type": "markdown",
   "id": "2fca4a67",
   "metadata": {},
   "source": [
    "## observations\n",
    "\n",
    "* numbers with the largest sequences are __odd numbers__ (makes sense because they always start by increasing the number in the sequence.)\n",
    "* The Collatz chain of the last 10 numbers before 1,000,000 are quite large, and all __share a majority of numbers__.\n",
    "* we can use the largest chain of 999990-999999 as __a reference__ so that we __don't need to calculate__ the full chain of each number we test.\n",
    "    * We will use the collatz chain for __999999__ (with chain length of __259 numbers__) as our reference chain.\n",
    "    * Turns out this method is actually __worse__, processing-speed-wise."
   ]
  },
  {
   "cell_type": "code",
   "execution_count": 99,
   "id": "72dd7577",
   "metadata": {},
   "outputs": [],
   "source": [
    "# get the Collatz chain of a particular number\n",
    "# if a reference number is given, use that number's\n",
    "# Collatz chain as a reference to shorten processing time \n",
    "def collatz_chain_plus(n, reference_chain=False):\n",
    "    chain = [1]\n",
    "    while n != 1:\n",
    "        if reference_chain:\n",
    "            if n in reference_chain:\n",
    "                i = reference_chain.index(n)\n",
    "                chain = chain[0:-1] + reference_chain[i:]\n",
    "                return chain\n",
    "        chain.insert(-1, int(n))\n",
    "        if n % 2 == 0:\n",
    "            n = n / 2\n",
    "        else:\n",
    "            n = 3 * n + 1\n",
    "    return chain"
   ]
  },
  {
   "cell_type": "code",
   "execution_count": 104,
   "id": "59e52a28",
   "metadata": {},
   "outputs": [
    {
     "name": "stdout",
     "output_type": "stream",
     "text": [
      "[557, 1672, 836, 418, 209, 628, 314, 157, 472, 236, 118, 59, 178, 89, 268, 134, 67, 202, 101, 304, 152, 76, 38, 19, 58, 29, 88, 44, 22, 11, 34, 17, 52, 26, 13, 40, 20, 10, 5, 16, 8, 4, 2, 1]\n",
      "[557, 1672, 836, 418, 209, 628, 314, 157, 472, 236, 118, 59, 178, 89, 268, 134, 67, 202, 101, 304, 152, 76, 38, 19, 58, 29, 88, 44, 22, 11, 34, 17, 52, 26, 13, 40, 20, 10, 5, 16, 8, 4, 2, 1]\n"
     ]
    }
   ],
   "source": [
    "print(collatz_chain_plus(557, chain_999999))\n",
    "print(collatz_chain_plus(557))"
   ]
  },
  {
   "cell_type": "code",
   "execution_count": 112,
   "id": "414271fc",
   "metadata": {},
   "outputs": [
    {
     "name": "stdout",
     "output_type": "stream",
     "text": [
      "[975000, 487500, 243750, 121875, 365626, 182813, 548440, 274220, 137110, 68555, 205666, 102833, 308500, 154250, 77125, 231376, 115688, 57844, 28922, 14461, 43384, 21692, 10846, 5423, 16270, 8135, 24406, 12203, 36610, 18305, 54916, 27458, 13729, 41188, 20594, 10297, 30892, 15446, 7723, 23170, 11585, 34756, 17378, 8689, 26068, 13034, 6517, 19552, 9776, 4888, 2444, 1222, 611, 1834, 917, 2752, 1376, 688, 344, 172, 86, 43, 130, 65, 196, 98, 49, 148, 74, 37, 112, 56, 28, 14, 7, 22, 11, 34, 17, 52, 26, 13, 40, 20, 10, 5, 16, 8, 4, 2, 1]\n"
     ]
    },
    {
     "data": {
      "text/plain": [
       "'0.05398273468017578ms'"
      ]
     },
     "execution_count": 112,
     "metadata": {},
     "output_type": "execute_result"
    }
   ],
   "source": [
    "test_time(collatz_chain_plus, (975000,), 50)"
   ]
  },
  {
   "cell_type": "code",
   "execution_count": 113,
   "id": "21666e76",
   "metadata": {},
   "outputs": [
    {
     "name": "stdout",
     "output_type": "stream",
     "text": [
      "[975000, 487500, 243750, 121875, 365626, 182813, 548440, 274220, 137110, 68555, 205666, 102833, 308500, 154250, 77125, 231376, 115688, 57844, 28922, 14461, 43384, 21692, 10846, 5423, 16270, 8135, 24406, 12203, 36610, 18305, 54916, 27458, 13729, 41188, 20594, 10297, 30892, 15446, 7723, 23170, 11585, 34756, 17378, 8689, 26068, 13034, 6517, 19552, 9776, 4888, 2444, 1222, 611, 1834, 917, 2752, 1376, 688, 344, 172, 86, 43, 130, 65, 196, 98, 49, 148, 74, 37, 112, 56, 28, 14, 7, 22, 11, 34, 17, 52, 26, 13, 40, 20, 10, 5, 16, 8, 4, 2, 1]\n"
     ]
    },
    {
     "data": {
      "text/plain": [
       "'0.9338998794555664ms'"
      ]
     },
     "execution_count": 113,
     "metadata": {},
     "output_type": "execute_result"
    }
   ],
   "source": [
    "test_time(collatz_chain_plus, (975000, chain_999999), 50)"
   ]
  },
  {
   "cell_type": "markdown",
   "id": "36068d03",
   "metadata": {},
   "source": [
    "## tester"
   ]
  },
  {
   "cell_type": "code",
   "execution_count": 1,
   "id": "ec19ccbb",
   "metadata": {},
   "outputs": [],
   "source": [
    "def test_time(func_to_test, any_params=(), num_times_to_run=5, print_results=True):\n",
    "    import time\n",
    "    start = time.time()\n",
    "\n",
    "    for i in range(num_times_to_run):\n",
    "        results = func_to_test(*any_params)\n",
    "\n",
    "    end = time.time()\n",
    "    if print_results:\n",
    "        print(results)\n",
    "    return str((end - start) * 10**3 / num_times_to_run) + \"ms\""
   ]
  },
  {
   "cell_type": "code",
   "execution_count": null,
   "id": "a3f18cff",
   "metadata": {},
   "outputs": [],
   "source": []
  }
 ],
 "metadata": {
  "kernelspec": {
   "display_name": "Python 3 (ipykernel)",
   "language": "python",
   "name": "python3"
  },
  "language_info": {
   "codemirror_mode": {
    "name": "ipython",
    "version": 3
   },
   "file_extension": ".py",
   "mimetype": "text/x-python",
   "name": "python",
   "nbconvert_exporter": "python",
   "pygments_lexer": "ipython3",
   "version": "3.10.8"
  }
 },
 "nbformat": 4,
 "nbformat_minor": 5
}

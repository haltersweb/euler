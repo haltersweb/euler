{
 "cells": [
  {
   "cell_type": "markdown",
   "id": "870ec28b-a681-47cf-b050-2228e8d5c9ab",
   "metadata": {},
   "source": [
    "# Reciprocal Cycles\n",
    "\n",
    "([Problem 26](https://projecteuler.net/problem=26))\n",
    "\n",
    "A unit fraction contains 1 in the numerator. The decimal representation of the unit fractions with denominators 2 to 10 are given:\n",
    "$$\n",
    "1/2 = 0.5\\\\\n",
    "1/3 = 0.\\overline{3} \\\\\n",
    "1/4 = 0.25 \\\\\n",
    "1/5 = 0.2 \\\\\n",
    "1/6 = 0.1\\overline{6} \\\\\n",
    "1/7 = 0.\\overline{142857} \\\\\n",
    "1/8 = 0.125 \\\\\n",
    "1/9 = 0.\\overline{1} \\\\\n",
    "1/10 = 0.1\n",
    "$$\n",
    "\n",
    "Where $0.1\\overline{6}$ means $0.166666...$, and has a 1-digit recurring cycle.\n",
    "\n",
    "It can be seen that $1/7$ has a 6-digit recurring cycle.\n",
    "\n",
    "Find the value of $d < 1000$ for which $1/d$ contains the longest recurring cycle in its decimal fraction part.\n",
    "\n",
    "## My solution:\n",
    "\n",
    "All quotients of $1 \\div n$ are rational.\n",
    "\n",
    "Instead of looking at the numbers at the right of the decimal for each quotient, I ran a __long-division simulator__ and __collected the remainders__ of each long division step in an array.  \n",
    "\n",
    "Then when I ran into a remainder that __already existed__ in the array I stopped.  I got the index of the repeated remainder and __subtracted the index from the length__ of the array.  This was the length of the cycle.\n",
    "\n",
    "BTW since we use a base-10 system, if the denominator is a power of 2, or 5, or a combination of both, [the quotient will terminate](https://nrich.maths.org/14531/solution#:~:text=If%20the%20denominator's%20prime%20factors,decimal%20will%20always%20be%20terminal.). (I didn't bother adding that to this solution since it's already so fast)"
   ]
  },
  {
   "cell_type": "code",
   "execution_count": 2,
   "id": "d506f611",
   "metadata": {},
   "outputs": [],
   "source": [
    "# long division simulator\n",
    "def repeating_decimals(n,d):\n",
    "    r_set = []\n",
    "    while True:\n",
    "        r = n % d\n",
    "        if r == 0:\n",
    "            return 0\n",
    "        if r in r_set:\n",
    "            return len(r_set) - r_set.index(r)\n",
    "        r_set.append(r)\n",
    "        n = r*10"
   ]
  },
  {
   "cell_type": "code",
   "execution_count": 3,
   "id": "c06b77a0",
   "metadata": {},
   "outputs": [],
   "source": [
    "def denom_with_longest_cycle(d_limit, n=1): \n",
    "    # int d_limit (exclusive) is the denominator limit to test\n",
    "    candidate = (1, 0) # (candidate denominator, cycle length)\n",
    "    for d in range(1, d_limit):\n",
    "        cycle = repeating_decimals(n,d)\n",
    "        if cycle > candidate[1]:\n",
    "            candidate = (d, cycle)\n",
    "    return candidate"
   ]
  },
  {
   "cell_type": "code",
   "execution_count": 4,
   "id": "5479fe92",
   "metadata": {},
   "outputs": [
    {
     "data": {
      "text/plain": [
       "(983, 982)"
      ]
     },
     "execution_count": 4,
     "metadata": {},
     "output_type": "execute_result"
    }
   ],
   "source": [
    "denom_with_longest_cycle(1000, n=1) #983 with 982 cycle length"
   ]
  },
  {
   "cell_type": "code",
   "execution_count": 5,
   "id": "17cce75e",
   "metadata": {},
   "outputs": [
    {
     "name": "stdout",
     "output_type": "stream",
     "text": [
      "(983, 982)\n"
     ]
    },
    {
     "data": {
      "text/plain": [
       "'99.31297302246094ms'"
      ]
     },
     "execution_count": 5,
     "metadata": {},
     "output_type": "execute_result"
    }
   ],
   "source": [
    "test_time(denom_with_longest_cycle, (1000,))"
   ]
  },
  {
   "cell_type": "markdown",
   "id": "6a940bfd",
   "metadata": {},
   "source": [
    "## timing"
   ]
  },
  {
   "cell_type": "code",
   "execution_count": 1,
   "id": "7f4da334",
   "metadata": {},
   "outputs": [],
   "source": [
    "def test_time(func_to_test, any_params=(), num_times_to_run=5, print_results=True):\n",
    "    import time\n",
    "    start = time.time()\n",
    "\n",
    "    for i in range(num_times_to_run):\n",
    "        results = func_to_test(*any_params)\n",
    "\n",
    "    end = time.time()\n",
    "    if print_results:\n",
    "        print(results)\n",
    "    return str((end - start) * 10**3 / num_times_to_run) + \"ms\""
   ]
  },
  {
   "cell_type": "code",
   "execution_count": null,
   "id": "eb1d9838",
   "metadata": {},
   "outputs": [],
   "source": []
  }
 ],
 "metadata": {
  "kernelspec": {
   "display_name": "Python 3 (ipykernel)",
   "language": "python",
   "name": "python3"
  },
  "language_info": {
   "codemirror_mode": {
    "name": "ipython",
    "version": 3
   },
   "file_extension": ".py",
   "mimetype": "text/x-python",
   "name": "python",
   "nbconvert_exporter": "python",
   "pygments_lexer": "ipython3",
   "version": "3.10.13"
  }
 },
 "nbformat": 4,
 "nbformat_minor": 5
}

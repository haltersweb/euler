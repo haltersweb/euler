{
 "cells": [
  {
   "cell_type": "markdown",
   "id": "c233a087",
   "metadata": {},
   "source": [
    "# Factorial Digit Sum\n",
    "([Problem 20](https://projecteuler.net/problem=20))\n",
    "\n",
    "$n!$ means $n x (n - 1) x . . . x 3 x 2 x 1$\n",
    "\n",
    "For example, $10! = 10 x 9 x ... x 3 x 2 x 1 = 3628800$.\n",
    "\n",
    "The __sum of the digits__ in the number 10! is $3 + 6 + 2 + 8 + 8 + 0 + 0 = 27$.\n",
    "\n",
    "Find the __sum of the digits__ in the number $100!$.\n",
    "\n",
    "## solutions\n",
    "\n",
    "### solution 1 without reduce()"
   ]
  },
  {
   "cell_type": "code",
   "execution_count": 1,
   "id": "5d6ecd0b",
   "metadata": {},
   "outputs": [],
   "source": [
    "def find_factorial(num):\n",
    "    f = 1\n",
    "    while num != 0:\n",
    "        f *= num\n",
    "        num -= 1\n",
    "    return f\n",
    "    \n",
    "def find_sum_of_digits(num):\n",
    "    sum_d = 0\n",
    "    num = str(num)\n",
    "    for n in num:\n",
    "        sum_d += int(n)\n",
    "    return sum_d"
   ]
  },
  {
   "cell_type": "code",
   "execution_count": 2,
   "id": "0ba7fb5d",
   "metadata": {},
   "outputs": [
    {
     "data": {
      "text/plain": [
       "93326215443944152681699238856266700490715968264381621468592963895217599993229915608941463976156518286253697920827223758251185210916864000000000000000000000000"
      ]
     },
     "execution_count": 2,
     "metadata": {},
     "output_type": "execute_result"
    }
   ],
   "source": [
    "find_factorial(100)\n",
    "# 933262154439441526816992388562667...\n",
    "# 004907159682643816214685929638952...\n",
    "# 175999932299156089414639761565182...\n",
    "# 862536979208272237582511852109168...\n",
    "# 64000000000000000000000000\n"
   ]
  },
  {
   "cell_type": "code",
   "execution_count": 5,
   "id": "0d08a8ba",
   "metadata": {},
   "outputs": [
    {
     "name": "stdout",
     "output_type": "stream",
     "text": [
      "648\n"
     ]
    },
    {
     "data": {
      "text/plain": [
       "'0.03619194030761719ms'"
      ]
     },
     "execution_count": 5,
     "metadata": {},
     "output_type": "execute_result"
    }
   ],
   "source": [
    "test_time(find_sum_of_digits,(find_factorial(100),)) # 648"
   ]
  },
  {
   "cell_type": "code",
   "execution_count": 6,
   "id": "8bb75290",
   "metadata": {},
   "outputs": [
    {
     "name": "stdout",
     "output_type": "stream",
     "text": [
      "10539\n"
     ]
    },
    {
     "data": {
      "text/plain": [
       "'0.7292270660400391ms'"
      ]
     },
     "execution_count": 6,
     "metadata": {},
     "output_type": "execute_result"
    }
   ],
   "source": [
    "test_time(find_sum_of_digits,(find_factorial(1000),)) # 10539"
   ]
  },
  {
   "cell_type": "markdown",
   "id": "c9018588",
   "metadata": {},
   "source": [
    "### solution 2 using reduce()"
   ]
  },
  {
   "cell_type": "code",
   "execution_count": 7,
   "id": "3e0a31f1",
   "metadata": {},
   "outputs": [],
   "source": [
    "import functools"
   ]
  },
  {
   "cell_type": "code",
   "execution_count": 8,
   "id": "93ea805c",
   "metadata": {},
   "outputs": [],
   "source": [
    "def sum_of_factorial_digits(n):\n",
    "    #factor\n",
    "    f = functools.reduce(lambda a, b: a * b, range(1, n + 1))\n",
    "    \n",
    "    #sum\n",
    "    sum_f = functools.reduce(lambda a, b: int(a) + int(b), str(f))\n",
    "    \n",
    "    return sum_f"
   ]
  },
  {
   "cell_type": "code",
   "execution_count": 9,
   "id": "784c727e",
   "metadata": {},
   "outputs": [
    {
     "name": "stdout",
     "output_type": "stream",
     "text": [
      "648\n"
     ]
    },
    {
     "data": {
      "text/plain": [
       "'0.08373260498046875ms'"
      ]
     },
     "execution_count": 9,
     "metadata": {},
     "output_type": "execute_result"
    }
   ],
   "source": [
    "test_time(sum_of_factorial_digits, (100,))"
   ]
  },
  {
   "cell_type": "code",
   "execution_count": 10,
   "id": "07da436a",
   "metadata": {},
   "outputs": [
    {
     "name": "stdout",
     "output_type": "stream",
     "text": [
      "10539\n"
     ]
    },
    {
     "data": {
      "text/plain": [
       "'1.4358043670654297ms'"
      ]
     },
     "execution_count": 10,
     "metadata": {},
     "output_type": "execute_result"
    }
   ],
   "source": [
    "test_time(sum_of_factorial_digits, (1000,))"
   ]
  },
  {
   "cell_type": "code",
   "execution_count": null,
   "id": "4cdd7c43",
   "metadata": {},
   "outputs": [],
   "source": []
  },
  {
   "cell_type": "markdown",
   "id": "a9be7348",
   "metadata": {},
   "source": [
    "## Timing"
   ]
  },
  {
   "cell_type": "code",
   "execution_count": 4,
   "id": "1afc6a47",
   "metadata": {},
   "outputs": [],
   "source": [
    "def test_time(func_to_test, any_params=(), num_times_to_run=5, print_results=True):\n",
    "    import time\n",
    "    start = time.time()\n",
    "\n",
    "    for i in range(num_times_to_run):\n",
    "        results = func_to_test(*any_params)\n",
    "\n",
    "    end = time.time()\n",
    "    if print_results:\n",
    "        print(results)\n",
    "    return str((end - start) * 10**3 / num_times_to_run) + \"ms\""
   ]
  },
  {
   "cell_type": "code",
   "execution_count": null,
   "id": "db198b1e",
   "metadata": {},
   "outputs": [],
   "source": []
  }
 ],
 "metadata": {
  "kernelspec": {
   "display_name": "Python 3 (ipykernel)",
   "language": "python",
   "name": "python3"
  },
  "language_info": {
   "codemirror_mode": {
    "name": "ipython",
    "version": 3
   },
   "file_extension": ".py",
   "mimetype": "text/x-python",
   "name": "python",
   "nbconvert_exporter": "python",
   "pygments_lexer": "ipython3",
   "version": "3.10.8"
  }
 },
 "nbformat": 4,
 "nbformat_minor": 5
}

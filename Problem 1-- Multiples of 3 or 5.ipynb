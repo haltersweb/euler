{
 "cells": [
  {
   "cell_type": "markdown",
   "id": "e8bb639d",
   "metadata": {},
   "source": [
    "# Multiples of 3 or 5\n",
    "\n",
    "([Problem 1](https://projecteuler.net/problem=1) / [Thread 1](https://projecteuler.net/thread=1))\n",
    "\n",
    "If we list all the natural numbers __below__ 10 that are __multiples__ of 3 or 5, we get 3, 5, 6 and 9. The __sum__ of these multiples is 23.\n",
    "\n",
    "Find the __sum__ of all the __multiples__ of __3 or 5__ below __1000__.\n",
    "\n",
    "## first try\n",
    "\n",
    "Less efficient"
   ]
  },
  {
   "cell_type": "code",
   "execution_count": 46,
   "id": "1458dd61",
   "metadata": {},
   "outputs": [
    {
     "name": "stdout",
     "output_type": "stream",
     "text": [
      "233168\n"
     ]
    }
   ],
   "source": [
    "import math\n",
    "\n",
    "limit = 1000 # < than this number\n",
    "n5 = math.floor((limit-1)/5) # number of multiples of 5 < limit\n",
    "n3 = math.floor((limit-1)/3) # number of multiples of 3 < limit\n",
    "multiples = []\n",
    "\n",
    "# collect multiples of 5\n",
    "n = 1\n",
    "while n <= n5:\n",
    "    multiples.append(n * 5)\n",
    "    n += 1\n",
    "\n",
    "# collect multiples of 3\n",
    "n = 1\n",
    "while n <= n3:\n",
    "    if (n * 3) not in multiples:\n",
    "        multiples.append(n * 3)\n",
    "    n += 1\n",
    "    \n",
    "print(sum(multiples))"
   ]
  },
  {
   "cell_type": "markdown",
   "id": "1f8fd486",
   "metadata": {},
   "source": [
    "## second try\n",
    "\n",
    "Much more efficient"
   ]
  },
  {
   "cell_type": "code",
   "execution_count": 48,
   "id": "c639cf97",
   "metadata": {},
   "outputs": [
    {
     "name": "stdout",
     "output_type": "stream",
     "text": [
      "233168\n"
     ]
    }
   ],
   "source": [
    "limit = 1000\n",
    "multiples = []\n",
    "for i in range(1,limit):\n",
    "    if i%3 == 0 or i%5 == 0:\n",
    "        multiples.append(i)\n",
    "print(sum(multiples))"
   ]
  }
 ],
 "metadata": {
  "kernelspec": {
   "display_name": "Python 3 (ipykernel)",
   "language": "python",
   "name": "python3"
  },
  "language_info": {
   "codemirror_mode": {
    "name": "ipython",
    "version": 3
   },
   "file_extension": ".py",
   "mimetype": "text/x-python",
   "name": "python",
   "nbconvert_exporter": "python",
   "pygments_lexer": "ipython3",
   "version": "3.10.8"
  }
 },
 "nbformat": 4,
 "nbformat_minor": 5
}
